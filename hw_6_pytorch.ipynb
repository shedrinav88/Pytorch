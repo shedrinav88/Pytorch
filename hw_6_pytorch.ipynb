{
  "nbformat": 4,
  "nbformat_minor": 0,
  "metadata": {
    "colab": {
      "name": "hw_6_pytorch.ipynb",
      "provenance": [],
      "collapsed_sections": []
    },
    "kernelspec": {
      "name": "python3",
      "display_name": "Python 3"
    },
    "language_info": {
      "name": "python"
    }
  },
  "cells": [
    {
      "cell_type": "markdown",
      "source": [
        "## Домашнее задание\n",
        "1. Попробуйте обучить нейронную сеть с применением одномерных сверток для предсказания сентимента сообщений с твитера на примере https://www.kaggle.com/datasets/arkhoshghalb/twitter-sentiment-analysis-hatred-speech\n",
        "\n",
        "2. Опишите, какой результат вы получили? Что помогло вам улучшить ее точность?"
      ],
      "metadata": {
        "id": "EtFjCOEa0aOQ"
      }
    },
    {
      "cell_type": "markdown",
      "source": [
        "Подключаемся к google disc"
      ],
      "metadata": {
        "id": "t_wykl-oxIXF"
      }
    },
    {
      "cell_type": "code",
      "source": [
        "from google.colab import drive\n",
        "\n",
        "drive.mount('/content/drive', force_remount=True)"
      ],
      "metadata": {
        "colab": {
          "base_uri": "https://localhost:8080/"
        },
        "id": "erceRVNobgwI",
        "outputId": "17e3cb82-37df-4c9a-8195-9e8a675cd2e5"
      },
      "execution_count": 2,
      "outputs": [
        {
          "output_type": "stream",
          "name": "stdout",
          "text": [
            "Mounted at /content/drive\n"
          ]
        }
      ]
    },
    {
      "cell_type": "markdown",
      "source": [
        "Распаковываем архив"
      ],
      "metadata": {
        "id": "Guj63zIMxPfN"
      }
    },
    {
      "cell_type": "code",
      "source": [
        "! unzip '/content/drive/MyDrive/Twitter Sentiment Analysis.zip'"
      ],
      "metadata": {
        "colab": {
          "base_uri": "https://localhost:8080/"
        },
        "id": "NCbzY_6xjN2V",
        "outputId": "7523d389-9634-467a-cf48-3d21839cb919"
      },
      "execution_count": 32,
      "outputs": [
        {
          "output_type": "stream",
          "name": "stdout",
          "text": [
            "Archive:  /content/drive/MyDrive/Twitter Sentiment Analysis.zip\n",
            "replace test.csv? [y]es, [n]o, [A]ll, [N]one, [r]ename: n\n",
            "replace train.csv? [y]es, [n]o, [A]ll, [N]one, [r]ename: n\n"
          ]
        }
      ]
    },
    {
      "cell_type": "markdown",
      "source": [
        "Смотрим на данные"
      ],
      "metadata": {
        "id": "W5VAfiEHxUAr"
      }
    },
    {
      "cell_type": "code",
      "source": [
        "import pandas as pd\n",
        "\n",
        "df_train = pd.read_csv(\"train.csv\")\n",
        "df_test = pd.read_csv(\"test.csv\")"
      ],
      "metadata": {
        "id": "F8nehxQwjN4u"
      },
      "execution_count": 33,
      "outputs": []
    },
    {
      "cell_type": "code",
      "source": [
        "df_train[df_train['label']==0].head(5)"
      ],
      "metadata": {
        "colab": {
          "base_uri": "https://localhost:8080/",
          "height": 206
        },
        "id": "FjWF8RaOj_ch",
        "outputId": "e957ce1f-b113-4e52-ae22-3203d111c906"
      },
      "execution_count": 38,
      "outputs": [
        {
          "output_type": "execute_result",
          "data": {
            "text/plain": [
              "   id  label                                              tweet\n",
              "0   1      0   @user when a father is dysfunctional and is s...\n",
              "1   2      0  @user @user thanks for #lyft credit i can't us...\n",
              "2   3      0                                bihday your majesty\n",
              "3   4      0  #model   i love u take with u all the time in ...\n",
              "4   5      0             factsguide: society now    #motivation"
            ],
            "text/html": [
              "\n",
              "  <div id=\"df-608db5d2-6c9e-443b-817b-ff77b00ded53\">\n",
              "    <div class=\"colab-df-container\">\n",
              "      <div>\n",
              "<style scoped>\n",
              "    .dataframe tbody tr th:only-of-type {\n",
              "        vertical-align: middle;\n",
              "    }\n",
              "\n",
              "    .dataframe tbody tr th {\n",
              "        vertical-align: top;\n",
              "    }\n",
              "\n",
              "    .dataframe thead th {\n",
              "        text-align: right;\n",
              "    }\n",
              "</style>\n",
              "<table border=\"1\" class=\"dataframe\">\n",
              "  <thead>\n",
              "    <tr style=\"text-align: right;\">\n",
              "      <th></th>\n",
              "      <th>id</th>\n",
              "      <th>label</th>\n",
              "      <th>tweet</th>\n",
              "    </tr>\n",
              "  </thead>\n",
              "  <tbody>\n",
              "    <tr>\n",
              "      <th>0</th>\n",
              "      <td>1</td>\n",
              "      <td>0</td>\n",
              "      <td>@user when a father is dysfunctional and is s...</td>\n",
              "    </tr>\n",
              "    <tr>\n",
              "      <th>1</th>\n",
              "      <td>2</td>\n",
              "      <td>0</td>\n",
              "      <td>@user @user thanks for #lyft credit i can't us...</td>\n",
              "    </tr>\n",
              "    <tr>\n",
              "      <th>2</th>\n",
              "      <td>3</td>\n",
              "      <td>0</td>\n",
              "      <td>bihday your majesty</td>\n",
              "    </tr>\n",
              "    <tr>\n",
              "      <th>3</th>\n",
              "      <td>4</td>\n",
              "      <td>0</td>\n",
              "      <td>#model   i love u take with u all the time in ...</td>\n",
              "    </tr>\n",
              "    <tr>\n",
              "      <th>4</th>\n",
              "      <td>5</td>\n",
              "      <td>0</td>\n",
              "      <td>factsguide: society now    #motivation</td>\n",
              "    </tr>\n",
              "  </tbody>\n",
              "</table>\n",
              "</div>\n",
              "      <button class=\"colab-df-convert\" onclick=\"convertToInteractive('df-608db5d2-6c9e-443b-817b-ff77b00ded53')\"\n",
              "              title=\"Convert this dataframe to an interactive table.\"\n",
              "              style=\"display:none;\">\n",
              "        \n",
              "  <svg xmlns=\"http://www.w3.org/2000/svg\" height=\"24px\"viewBox=\"0 0 24 24\"\n",
              "       width=\"24px\">\n",
              "    <path d=\"M0 0h24v24H0V0z\" fill=\"none\"/>\n",
              "    <path d=\"M18.56 5.44l.94 2.06.94-2.06 2.06-.94-2.06-.94-.94-2.06-.94 2.06-2.06.94zm-11 1L8.5 8.5l.94-2.06 2.06-.94-2.06-.94L8.5 2.5l-.94 2.06-2.06.94zm10 10l.94 2.06.94-2.06 2.06-.94-2.06-.94-.94-2.06-.94 2.06-2.06.94z\"/><path d=\"M17.41 7.96l-1.37-1.37c-.4-.4-.92-.59-1.43-.59-.52 0-1.04.2-1.43.59L10.3 9.45l-7.72 7.72c-.78.78-.78 2.05 0 2.83L4 21.41c.39.39.9.59 1.41.59.51 0 1.02-.2 1.41-.59l7.78-7.78 2.81-2.81c.8-.78.8-2.07 0-2.86zM5.41 20L4 18.59l7.72-7.72 1.47 1.35L5.41 20z\"/>\n",
              "  </svg>\n",
              "      </button>\n",
              "      \n",
              "  <style>\n",
              "    .colab-df-container {\n",
              "      display:flex;\n",
              "      flex-wrap:wrap;\n",
              "      gap: 12px;\n",
              "    }\n",
              "\n",
              "    .colab-df-convert {\n",
              "      background-color: #E8F0FE;\n",
              "      border: none;\n",
              "      border-radius: 50%;\n",
              "      cursor: pointer;\n",
              "      display: none;\n",
              "      fill: #1967D2;\n",
              "      height: 32px;\n",
              "      padding: 0 0 0 0;\n",
              "      width: 32px;\n",
              "    }\n",
              "\n",
              "    .colab-df-convert:hover {\n",
              "      background-color: #E2EBFA;\n",
              "      box-shadow: 0px 1px 2px rgba(60, 64, 67, 0.3), 0px 1px 3px 1px rgba(60, 64, 67, 0.15);\n",
              "      fill: #174EA6;\n",
              "    }\n",
              "\n",
              "    [theme=dark] .colab-df-convert {\n",
              "      background-color: #3B4455;\n",
              "      fill: #D2E3FC;\n",
              "    }\n",
              "\n",
              "    [theme=dark] .colab-df-convert:hover {\n",
              "      background-color: #434B5C;\n",
              "      box-shadow: 0px 1px 3px 1px rgba(0, 0, 0, 0.15);\n",
              "      filter: drop-shadow(0px 1px 2px rgba(0, 0, 0, 0.3));\n",
              "      fill: #FFFFFF;\n",
              "    }\n",
              "  </style>\n",
              "\n",
              "      <script>\n",
              "        const buttonEl =\n",
              "          document.querySelector('#df-608db5d2-6c9e-443b-817b-ff77b00ded53 button.colab-df-convert');\n",
              "        buttonEl.style.display =\n",
              "          google.colab.kernel.accessAllowed ? 'block' : 'none';\n",
              "\n",
              "        async function convertToInteractive(key) {\n",
              "          const element = document.querySelector('#df-608db5d2-6c9e-443b-817b-ff77b00ded53');\n",
              "          const dataTable =\n",
              "            await google.colab.kernel.invokeFunction('convertToInteractive',\n",
              "                                                     [key], {});\n",
              "          if (!dataTable) return;\n",
              "\n",
              "          const docLinkHtml = 'Like what you see? Visit the ' +\n",
              "            '<a target=\"_blank\" href=https://colab.research.google.com/notebooks/data_table.ipynb>data table notebook</a>'\n",
              "            + ' to learn more about interactive tables.';\n",
              "          element.innerHTML = '';\n",
              "          dataTable['output_type'] = 'display_data';\n",
              "          await google.colab.output.renderOutput(dataTable, element);\n",
              "          const docLink = document.createElement('div');\n",
              "          docLink.innerHTML = docLinkHtml;\n",
              "          element.appendChild(docLink);\n",
              "        }\n",
              "      </script>\n",
              "    </div>\n",
              "  </div>\n",
              "  "
            ]
          },
          "metadata": {},
          "execution_count": 38
        }
      ]
    },
    {
      "cell_type": "code",
      "source": [
        "df_train[df_train['label']==1].head(7)"
      ],
      "metadata": {
        "colab": {
          "base_uri": "https://localhost:8080/",
          "height": 269
        },
        "id": "tuRk66J0k2Uq",
        "outputId": "36a4a2d5-dcf9-4b09-a258-6c9d43c5b991"
      },
      "execution_count": 40,
      "outputs": [
        {
          "output_type": "execute_result",
          "data": {
            "text/plain": [
              "    id  label                                              tweet\n",
              "13  14      1  @user #cnn calls #michigan middle school 'buil...\n",
              "14  15      1  no comment!  in #australia   #opkillingbay #se...\n",
              "17  18      1                             retweet if you agree! \n",
              "23  24      1    @user @user lumpy says i am a . prove it lumpy.\n",
              "34  35      1  it's unbelievable that in the 21st century we'...\n",
              "56  57      1            @user lets fight against  #love #peace \n",
              "68  69      1  ð©the white establishment can't have blk fol..."
            ],
            "text/html": [
              "\n",
              "  <div id=\"df-48d45fe3-884c-472e-919e-022492f0f7de\">\n",
              "    <div class=\"colab-df-container\">\n",
              "      <div>\n",
              "<style scoped>\n",
              "    .dataframe tbody tr th:only-of-type {\n",
              "        vertical-align: middle;\n",
              "    }\n",
              "\n",
              "    .dataframe tbody tr th {\n",
              "        vertical-align: top;\n",
              "    }\n",
              "\n",
              "    .dataframe thead th {\n",
              "        text-align: right;\n",
              "    }\n",
              "</style>\n",
              "<table border=\"1\" class=\"dataframe\">\n",
              "  <thead>\n",
              "    <tr style=\"text-align: right;\">\n",
              "      <th></th>\n",
              "      <th>id</th>\n",
              "      <th>label</th>\n",
              "      <th>tweet</th>\n",
              "    </tr>\n",
              "  </thead>\n",
              "  <tbody>\n",
              "    <tr>\n",
              "      <th>13</th>\n",
              "      <td>14</td>\n",
              "      <td>1</td>\n",
              "      <td>@user #cnn calls #michigan middle school 'buil...</td>\n",
              "    </tr>\n",
              "    <tr>\n",
              "      <th>14</th>\n",
              "      <td>15</td>\n",
              "      <td>1</td>\n",
              "      <td>no comment!  in #australia   #opkillingbay #se...</td>\n",
              "    </tr>\n",
              "    <tr>\n",
              "      <th>17</th>\n",
              "      <td>18</td>\n",
              "      <td>1</td>\n",
              "      <td>retweet if you agree!</td>\n",
              "    </tr>\n",
              "    <tr>\n",
              "      <th>23</th>\n",
              "      <td>24</td>\n",
              "      <td>1</td>\n",
              "      <td>@user @user lumpy says i am a . prove it lumpy.</td>\n",
              "    </tr>\n",
              "    <tr>\n",
              "      <th>34</th>\n",
              "      <td>35</td>\n",
              "      <td>1</td>\n",
              "      <td>it's unbelievable that in the 21st century we'...</td>\n",
              "    </tr>\n",
              "    <tr>\n",
              "      <th>56</th>\n",
              "      <td>57</td>\n",
              "      <td>1</td>\n",
              "      <td>@user lets fight against  #love #peace</td>\n",
              "    </tr>\n",
              "    <tr>\n",
              "      <th>68</th>\n",
              "      <td>69</td>\n",
              "      <td>1</td>\n",
              "      <td>ð©the white establishment can't have blk fol...</td>\n",
              "    </tr>\n",
              "  </tbody>\n",
              "</table>\n",
              "</div>\n",
              "      <button class=\"colab-df-convert\" onclick=\"convertToInteractive('df-48d45fe3-884c-472e-919e-022492f0f7de')\"\n",
              "              title=\"Convert this dataframe to an interactive table.\"\n",
              "              style=\"display:none;\">\n",
              "        \n",
              "  <svg xmlns=\"http://www.w3.org/2000/svg\" height=\"24px\"viewBox=\"0 0 24 24\"\n",
              "       width=\"24px\">\n",
              "    <path d=\"M0 0h24v24H0V0z\" fill=\"none\"/>\n",
              "    <path d=\"M18.56 5.44l.94 2.06.94-2.06 2.06-.94-2.06-.94-.94-2.06-.94 2.06-2.06.94zm-11 1L8.5 8.5l.94-2.06 2.06-.94-2.06-.94L8.5 2.5l-.94 2.06-2.06.94zm10 10l.94 2.06.94-2.06 2.06-.94-2.06-.94-.94-2.06-.94 2.06-2.06.94z\"/><path d=\"M17.41 7.96l-1.37-1.37c-.4-.4-.92-.59-1.43-.59-.52 0-1.04.2-1.43.59L10.3 9.45l-7.72 7.72c-.78.78-.78 2.05 0 2.83L4 21.41c.39.39.9.59 1.41.59.51 0 1.02-.2 1.41-.59l7.78-7.78 2.81-2.81c.8-.78.8-2.07 0-2.86zM5.41 20L4 18.59l7.72-7.72 1.47 1.35L5.41 20z\"/>\n",
              "  </svg>\n",
              "      </button>\n",
              "      \n",
              "  <style>\n",
              "    .colab-df-container {\n",
              "      display:flex;\n",
              "      flex-wrap:wrap;\n",
              "      gap: 12px;\n",
              "    }\n",
              "\n",
              "    .colab-df-convert {\n",
              "      background-color: #E8F0FE;\n",
              "      border: none;\n",
              "      border-radius: 50%;\n",
              "      cursor: pointer;\n",
              "      display: none;\n",
              "      fill: #1967D2;\n",
              "      height: 32px;\n",
              "      padding: 0 0 0 0;\n",
              "      width: 32px;\n",
              "    }\n",
              "\n",
              "    .colab-df-convert:hover {\n",
              "      background-color: #E2EBFA;\n",
              "      box-shadow: 0px 1px 2px rgba(60, 64, 67, 0.3), 0px 1px 3px 1px rgba(60, 64, 67, 0.15);\n",
              "      fill: #174EA6;\n",
              "    }\n",
              "\n",
              "    [theme=dark] .colab-df-convert {\n",
              "      background-color: #3B4455;\n",
              "      fill: #D2E3FC;\n",
              "    }\n",
              "\n",
              "    [theme=dark] .colab-df-convert:hover {\n",
              "      background-color: #434B5C;\n",
              "      box-shadow: 0px 1px 3px 1px rgba(0, 0, 0, 0.15);\n",
              "      filter: drop-shadow(0px 1px 2px rgba(0, 0, 0, 0.3));\n",
              "      fill: #FFFFFF;\n",
              "    }\n",
              "  </style>\n",
              "\n",
              "      <script>\n",
              "        const buttonEl =\n",
              "          document.querySelector('#df-48d45fe3-884c-472e-919e-022492f0f7de button.colab-df-convert');\n",
              "        buttonEl.style.display =\n",
              "          google.colab.kernel.accessAllowed ? 'block' : 'none';\n",
              "\n",
              "        async function convertToInteractive(key) {\n",
              "          const element = document.querySelector('#df-48d45fe3-884c-472e-919e-022492f0f7de');\n",
              "          const dataTable =\n",
              "            await google.colab.kernel.invokeFunction('convertToInteractive',\n",
              "                                                     [key], {});\n",
              "          if (!dataTable) return;\n",
              "\n",
              "          const docLinkHtml = 'Like what you see? Visit the ' +\n",
              "            '<a target=\"_blank\" href=https://colab.research.google.com/notebooks/data_table.ipynb>data table notebook</a>'\n",
              "            + ' to learn more about interactive tables.';\n",
              "          element.innerHTML = '';\n",
              "          dataTable['output_type'] = 'display_data';\n",
              "          await google.colab.output.renderOutput(dataTable, element);\n",
              "          const docLink = document.createElement('div');\n",
              "          docLink.innerHTML = docLinkHtml;\n",
              "          element.appendChild(docLink);\n",
              "        }\n",
              "      </script>\n",
              "    </div>\n",
              "  </div>\n",
              "  "
            ]
          },
          "metadata": {},
          "execution_count": 40
        }
      ]
    },
    {
      "cell_type": "markdown",
      "source": [
        "0 - positive<br>\n",
        "1 - negative"
      ],
      "metadata": {
        "id": "tfE2CFASkpsj"
      }
    },
    {
      "cell_type": "code",
      "source": [
        "df_train['label'].value_counts()"
      ],
      "metadata": {
        "colab": {
          "base_uri": "https://localhost:8080/"
        },
        "id": "mCS2PcBmj_fG",
        "outputId": "6aa83f4c-2fb9-40cb-bf9c-15377f99bfcf"
      },
      "execution_count": 43,
      "outputs": [
        {
          "output_type": "execute_result",
          "data": {
            "text/plain": [
              "0    29720\n",
              "1     2242\n",
              "Name: label, dtype: int64"
            ]
          },
          "metadata": {},
          "execution_count": 43
        }
      ]
    },
    {
      "cell_type": "code",
      "source": [
        "df_test.head()"
      ],
      "metadata": {
        "colab": {
          "base_uri": "https://localhost:8080/",
          "height": 206
        },
        "id": "fYVIkXy8lRmI",
        "outputId": "451204f9-11d9-4939-86ae-cf04704f9a81"
      },
      "execution_count": 45,
      "outputs": [
        {
          "output_type": "execute_result",
          "data": {
            "text/plain": [
              "      id                                              tweet\n",
              "0  31963  #studiolife #aislife #requires #passion #dedic...\n",
              "1  31964   @user #white #supremacists want everyone to s...\n",
              "2  31965  safe ways to heal your #acne!!    #altwaystohe...\n",
              "3  31966  is the hp and the cursed child book up for res...\n",
              "4  31967    3rd #bihday to my amazing, hilarious #nephew..."
            ],
            "text/html": [
              "\n",
              "  <div id=\"df-231d17e8-c8a7-48c4-9f00-87288e7f9bf1\">\n",
              "    <div class=\"colab-df-container\">\n",
              "      <div>\n",
              "<style scoped>\n",
              "    .dataframe tbody tr th:only-of-type {\n",
              "        vertical-align: middle;\n",
              "    }\n",
              "\n",
              "    .dataframe tbody tr th {\n",
              "        vertical-align: top;\n",
              "    }\n",
              "\n",
              "    .dataframe thead th {\n",
              "        text-align: right;\n",
              "    }\n",
              "</style>\n",
              "<table border=\"1\" class=\"dataframe\">\n",
              "  <thead>\n",
              "    <tr style=\"text-align: right;\">\n",
              "      <th></th>\n",
              "      <th>id</th>\n",
              "      <th>tweet</th>\n",
              "    </tr>\n",
              "  </thead>\n",
              "  <tbody>\n",
              "    <tr>\n",
              "      <th>0</th>\n",
              "      <td>31963</td>\n",
              "      <td>#studiolife #aislife #requires #passion #dedic...</td>\n",
              "    </tr>\n",
              "    <tr>\n",
              "      <th>1</th>\n",
              "      <td>31964</td>\n",
              "      <td>@user #white #supremacists want everyone to s...</td>\n",
              "    </tr>\n",
              "    <tr>\n",
              "      <th>2</th>\n",
              "      <td>31965</td>\n",
              "      <td>safe ways to heal your #acne!!    #altwaystohe...</td>\n",
              "    </tr>\n",
              "    <tr>\n",
              "      <th>3</th>\n",
              "      <td>31966</td>\n",
              "      <td>is the hp and the cursed child book up for res...</td>\n",
              "    </tr>\n",
              "    <tr>\n",
              "      <th>4</th>\n",
              "      <td>31967</td>\n",
              "      <td>3rd #bihday to my amazing, hilarious #nephew...</td>\n",
              "    </tr>\n",
              "  </tbody>\n",
              "</table>\n",
              "</div>\n",
              "      <button class=\"colab-df-convert\" onclick=\"convertToInteractive('df-231d17e8-c8a7-48c4-9f00-87288e7f9bf1')\"\n",
              "              title=\"Convert this dataframe to an interactive table.\"\n",
              "              style=\"display:none;\">\n",
              "        \n",
              "  <svg xmlns=\"http://www.w3.org/2000/svg\" height=\"24px\"viewBox=\"0 0 24 24\"\n",
              "       width=\"24px\">\n",
              "    <path d=\"M0 0h24v24H0V0z\" fill=\"none\"/>\n",
              "    <path d=\"M18.56 5.44l.94 2.06.94-2.06 2.06-.94-2.06-.94-.94-2.06-.94 2.06-2.06.94zm-11 1L8.5 8.5l.94-2.06 2.06-.94-2.06-.94L8.5 2.5l-.94 2.06-2.06.94zm10 10l.94 2.06.94-2.06 2.06-.94-2.06-.94-.94-2.06-.94 2.06-2.06.94z\"/><path d=\"M17.41 7.96l-1.37-1.37c-.4-.4-.92-.59-1.43-.59-.52 0-1.04.2-1.43.59L10.3 9.45l-7.72 7.72c-.78.78-.78 2.05 0 2.83L4 21.41c.39.39.9.59 1.41.59.51 0 1.02-.2 1.41-.59l7.78-7.78 2.81-2.81c.8-.78.8-2.07 0-2.86zM5.41 20L4 18.59l7.72-7.72 1.47 1.35L5.41 20z\"/>\n",
              "  </svg>\n",
              "      </button>\n",
              "      \n",
              "  <style>\n",
              "    .colab-df-container {\n",
              "      display:flex;\n",
              "      flex-wrap:wrap;\n",
              "      gap: 12px;\n",
              "    }\n",
              "\n",
              "    .colab-df-convert {\n",
              "      background-color: #E8F0FE;\n",
              "      border: none;\n",
              "      border-radius: 50%;\n",
              "      cursor: pointer;\n",
              "      display: none;\n",
              "      fill: #1967D2;\n",
              "      height: 32px;\n",
              "      padding: 0 0 0 0;\n",
              "      width: 32px;\n",
              "    }\n",
              "\n",
              "    .colab-df-convert:hover {\n",
              "      background-color: #E2EBFA;\n",
              "      box-shadow: 0px 1px 2px rgba(60, 64, 67, 0.3), 0px 1px 3px 1px rgba(60, 64, 67, 0.15);\n",
              "      fill: #174EA6;\n",
              "    }\n",
              "\n",
              "    [theme=dark] .colab-df-convert {\n",
              "      background-color: #3B4455;\n",
              "      fill: #D2E3FC;\n",
              "    }\n",
              "\n",
              "    [theme=dark] .colab-df-convert:hover {\n",
              "      background-color: #434B5C;\n",
              "      box-shadow: 0px 1px 3px 1px rgba(0, 0, 0, 0.15);\n",
              "      filter: drop-shadow(0px 1px 2px rgba(0, 0, 0, 0.3));\n",
              "      fill: #FFFFFF;\n",
              "    }\n",
              "  </style>\n",
              "\n",
              "      <script>\n",
              "        const buttonEl =\n",
              "          document.querySelector('#df-231d17e8-c8a7-48c4-9f00-87288e7f9bf1 button.colab-df-convert');\n",
              "        buttonEl.style.display =\n",
              "          google.colab.kernel.accessAllowed ? 'block' : 'none';\n",
              "\n",
              "        async function convertToInteractive(key) {\n",
              "          const element = document.querySelector('#df-231d17e8-c8a7-48c4-9f00-87288e7f9bf1');\n",
              "          const dataTable =\n",
              "            await google.colab.kernel.invokeFunction('convertToInteractive',\n",
              "                                                     [key], {});\n",
              "          if (!dataTable) return;\n",
              "\n",
              "          const docLinkHtml = 'Like what you see? Visit the ' +\n",
              "            '<a target=\"_blank\" href=https://colab.research.google.com/notebooks/data_table.ipynb>data table notebook</a>'\n",
              "            + ' to learn more about interactive tables.';\n",
              "          element.innerHTML = '';\n",
              "          dataTable['output_type'] = 'display_data';\n",
              "          await google.colab.output.renderOutput(dataTable, element);\n",
              "          const docLink = document.createElement('div');\n",
              "          docLink.innerHTML = docLinkHtml;\n",
              "          element.appendChild(docLink);\n",
              "        }\n",
              "      </script>\n",
              "    </div>\n",
              "  </div>\n",
              "  "
            ]
          },
          "metadata": {},
          "execution_count": 45
        }
      ]
    },
    {
      "cell_type": "markdown",
      "source": [
        "##Предобработка"
      ],
      "metadata": {
        "id": "DA7kf0LSli_a"
      }
    },
    {
      "cell_type": "code",
      "source": [
        "!pip install stop-words pymorphy2"
      ],
      "metadata": {
        "colab": {
          "base_uri": "https://localhost:8080/"
        },
        "id": "v38-dGWLlehd",
        "outputId": "c9b277c7-879a-406d-ce71-2392784df12a"
      },
      "execution_count": 46,
      "outputs": [
        {
          "output_type": "stream",
          "name": "stdout",
          "text": [
            "Collecting stop-words\n",
            "  Downloading stop-words-2018.7.23.tar.gz (31 kB)\n",
            "Collecting pymorphy2\n",
            "  Downloading pymorphy2-0.9.1-py3-none-any.whl (55 kB)\n",
            "\u001b[K     |████████████████████████████████| 55 kB 3.8 MB/s \n",
            "\u001b[?25hRequirement already satisfied: docopt>=0.6 in /usr/local/lib/python3.7/dist-packages (from pymorphy2) (0.6.2)\n",
            "Collecting dawg-python>=0.7.1\n",
            "  Downloading DAWG_Python-0.7.2-py2.py3-none-any.whl (11 kB)\n",
            "Collecting pymorphy2-dicts-ru<3.0,>=2.4\n",
            "  Downloading pymorphy2_dicts_ru-2.4.417127.4579844-py2.py3-none-any.whl (8.2 MB)\n",
            "\u001b[K     |████████████████████████████████| 8.2 MB 11.2 MB/s \n",
            "\u001b[?25hBuilding wheels for collected packages: stop-words\n",
            "  Building wheel for stop-words (setup.py) ... \u001b[?25l\u001b[?25hdone\n",
            "  Created wheel for stop-words: filename=stop_words-2018.7.23-py3-none-any.whl size=32911 sha256=e493571226814777ecb58d71fe2c46859564e46c1602f960c45e51cca79a43d8\n",
            "  Stored in directory: /root/.cache/pip/wheels/fb/86/b2/277b10b1ce9f73ce15059bf6975d4547cc4ec3feeb651978e9\n",
            "Successfully built stop-words\n",
            "Installing collected packages: pymorphy2-dicts-ru, dawg-python, stop-words, pymorphy2\n",
            "Successfully installed dawg-python-0.7.2 pymorphy2-0.9.1 pymorphy2-dicts-ru-2.4.417127.4579844 stop-words-2018.7.23\n"
          ]
        }
      ]
    },
    {
      "cell_type": "code",
      "source": [
        "from string import punctuation\n",
        "from stop_words import get_stop_words\n",
        "from pymorphy2 import MorphAnalyzer\n",
        "import re"
      ],
      "metadata": {
        "id": "6AI7Mc5pleoV"
      },
      "execution_count": 47,
      "outputs": []
    },
    {
      "cell_type": "markdown",
      "source": [
        "Сохраняем в переменные стоп-слова и знаки пунктуации"
      ],
      "metadata": {
        "id": "FYC6kHd2xbtb"
      }
    },
    {
      "cell_type": "code",
      "source": [
        "sw = set(get_stop_words(\"en\"))\n",
        "#sw"
      ],
      "metadata": {
        "id": "rW3lvme6leq7"
      },
      "execution_count": 52,
      "outputs": []
    },
    {
      "cell_type": "code",
      "source": [
        "puncts = set(punctuation)"
      ],
      "metadata": {
        "id": "S6BaX1MCles4"
      },
      "execution_count": 53,
      "outputs": []
    },
    {
      "cell_type": "markdown",
      "source": [
        "Создаем функцию по очистке твитов от стоп-слов, знаков пунктуации приводим всё в нижний регистр"
      ],
      "metadata": {
        "id": "y2n5neRPxkbi"
      }
    },
    {
      "cell_type": "code",
      "source": [
        "morpher = MorphAnalyzer()\n",
        "\n",
        "\n",
        "def preprocess_text(txt):\n",
        "    txt = str(txt)\n",
        "    txt = \"\".join(c for c in txt if c not in puncts)\n",
        "    txt = txt.lower()\n",
        "    txt = [morpher.parse(word)[0].normal_form for word in txt.split() if word not in sw]\n",
        "    return \" \".join(txt)"
      ],
      "metadata": {
        "id": "iIq2-UPEleyE"
      },
      "execution_count": 58,
      "outputs": []
    },
    {
      "cell_type": "code",
      "source": [
        "print(df_train['tweet'].iloc[:1])"
      ],
      "metadata": {
        "colab": {
          "base_uri": "https://localhost:8080/"
        },
        "id": "53rfgpVGm8VU",
        "outputId": "df51cc22-9c6f-412e-8b99-162574970afd"
      },
      "execution_count": 67,
      "outputs": [
        {
          "output_type": "stream",
          "name": "stdout",
          "text": [
            "0     @user when a father is dysfunctional and is s...\n",
            "Name: tweet, dtype: object\n"
          ]
        }
      ]
    },
    {
      "cell_type": "code",
      "source": [
        "df_train['tweet'].iloc[:1].apply(preprocess_text).values"
      ],
      "metadata": {
        "colab": {
          "base_uri": "https://localhost:8080/"
        },
        "id": "b7DfDvSUmsxV",
        "outputId": "98bd5ada-39a7-4965-f775-75835d9a82dd"
      },
      "execution_count": 68,
      "outputs": [
        {
          "output_type": "execute_result",
          "data": {
            "text/plain": [
              "array(['user father dysfunctional selfish drags kids dysfunction run'],\n",
              "      dtype=object)"
            ]
          },
          "metadata": {},
          "execution_count": 68
        }
      ]
    },
    {
      "cell_type": "markdown",
      "source": [
        "Разбиваем обучающую выборку на трейн и валидацию"
      ],
      "metadata": {
        "id": "bIbeLwHbx6U7"
      }
    },
    {
      "cell_type": "code",
      "source": [
        "from sklearn.model_selection import train_test_split\n",
        "\n",
        "def train_valid_split(Xt):\n",
        "    df_train, df_val = train_test_split(Xt, test_size=0.15, random_state=13)\n",
        "    return df_train, df_val"
      ],
      "metadata": {
        "id": "ilJkx0Enni5c"
      },
      "execution_count": 72,
      "outputs": []
    },
    {
      "cell_type": "code",
      "source": [
        "df_train, df_val = train_valid_split(df_train)"
      ],
      "metadata": {
        "id": "g6LoxsrUoJcg"
      },
      "execution_count": 73,
      "outputs": []
    },
    {
      "cell_type": "code",
      "source": [
        "df_train['label'].value_counts()"
      ],
      "metadata": {
        "colab": {
          "base_uri": "https://localhost:8080/"
        },
        "id": "IFW86U6Boa_Z",
        "outputId": "87cef2aa-920f-4f7b-a6d1-c004e772e306"
      },
      "execution_count": 74,
      "outputs": [
        {
          "output_type": "execute_result",
          "data": {
            "text/plain": [
              "0    25250\n",
              "1     1917\n",
              "Name: label, dtype: int64"
            ]
          },
          "metadata": {},
          "execution_count": 74
        }
      ]
    },
    {
      "cell_type": "code",
      "source": [
        "df_val['label'].value_counts()"
      ],
      "metadata": {
        "colab": {
          "base_uri": "https://localhost:8080/"
        },
        "id": "KyHLeShEofoX",
        "outputId": "957515d0-c20c-4c9f-b616-0b89b54167f0"
      },
      "execution_count": 75,
      "outputs": [
        {
          "output_type": "execute_result",
          "data": {
            "text/plain": [
              "0    4470\n",
              "1     325\n",
              "Name: label, dtype: int64"
            ]
          },
          "metadata": {},
          "execution_count": 75
        }
      ]
    },
    {
      "cell_type": "markdown",
      "source": [
        "Структура лейблов в тренировочной и валидационной выборке примерно одинакова"
      ],
      "metadata": {
        "id": "QebheNBcoqA4"
      }
    },
    {
      "cell_type": "markdown",
      "source": [
        "Делаем препроцессинг текстов в трейне и валидации"
      ],
      "metadata": {
        "id": "rM4sCMvIyFn_"
      }
    },
    {
      "cell_type": "code",
      "source": [
        "from tqdm import tqdm \n",
        "tqdm.pandas()\n",
        "\n",
        "df_train['tweet'] = df_train['tweet'].progress_apply(preprocess_text)\n",
        "df_val['tweet'] = df_val['tweet'].progress_apply(preprocess_text)"
      ],
      "metadata": {
        "colab": {
          "base_uri": "https://localhost:8080/"
        },
        "id": "Acu2WbXLnZOZ",
        "outputId": "febb6227-29db-4a90-fae3-d101aba0c285"
      },
      "execution_count": 76,
      "outputs": [
        {
          "output_type": "stream",
          "name": "stderr",
          "text": [
            "100%|██████████| 27167/27167 [00:06<00:00, 3981.47it/s]\n",
            "100%|██████████| 4795/4795 [00:01<00:00, 3969.83it/s]\n"
          ]
        }
      ]
    },
    {
      "cell_type": "markdown",
      "source": [
        "Создаем корпус слов, на котором будем обучаться"
      ],
      "metadata": {
        "id": "XTH5mw0ryKwG"
      }
    },
    {
      "cell_type": "code",
      "source": [
        "train_corpus = \" \".join(df_train[\"tweet\"])\n",
        "train_corpus = train_corpus.lower()\n",
        "#train_corpus"
      ],
      "metadata": {
        "id": "tpv3_weLnZQn"
      },
      "execution_count": 79,
      "outputs": []
    },
    {
      "cell_type": "markdown",
      "source": [
        "Разбиваем весь корпус на токены"
      ],
      "metadata": {
        "id": "S3bg6DGoyQaQ"
      }
    },
    {
      "cell_type": "code",
      "source": [
        "import nltk\n",
        "from nltk.tokenize import word_tokenize\n",
        "nltk.download(\"punkt\")\n",
        "\n",
        "tokens = word_tokenize(train_corpus)\n",
        "tokens[:5]"
      ],
      "metadata": {
        "colab": {
          "base_uri": "https://localhost:8080/"
        },
        "id": "GEFPMDYCnZS5",
        "outputId": "ac3bd608-741a-49d0-f587-9ad2674384fc"
      },
      "execution_count": 80,
      "outputs": [
        {
          "output_type": "stream",
          "name": "stdout",
          "text": [
            "[nltk_data] Downloading package punkt to /root/nltk_data...\n",
            "[nltk_data]   Unzipping tokenizers/punkt.zip.\n"
          ]
        },
        {
          "output_type": "execute_result",
          "data": {
            "text/plain": [
              "['thankful', 'sense', 'touch', 'thankful', 'positive']"
            ]
          },
          "metadata": {},
          "execution_count": 80
        }
      ]
    },
    {
      "cell_type": "markdown",
      "source": [
        "Отфильтруем данные\n",
        "\n",
        "и соберём в корпус N наиболее частых токенов"
      ],
      "metadata": {
        "id": "1o9aR-0ApLPa"
      }
    },
    {
      "cell_type": "code",
      "source": [
        "tokens_filtered = [word for word in tokens if word.isalnum()]"
      ],
      "metadata": {
        "id": "g6-mFJl8nZVG"
      },
      "execution_count": 81,
      "outputs": []
    },
    {
      "cell_type": "code",
      "source": [
        "from nltk.probability import FreqDist\n",
        "\n",
        "max_words = 2500\n",
        "dist = FreqDist(tokens_filtered)\n",
        "tokens_filtered_top = [pair[0] for pair in dist.most_common(max_words-1)]  # вычитание 1 для padding\n",
        "len(tokens_filtered_top)"
      ],
      "metadata": {
        "colab": {
          "base_uri": "https://localhost:8080/"
        },
        "id": "j5aPNnXRpQxu",
        "outputId": "c3d056fe-09ac-4421-b472-5eb44bf85cf5"
      },
      "execution_count": 83,
      "outputs": [
        {
          "output_type": "execute_result",
          "data": {
            "text/plain": [
              "2499"
            ]
          },
          "metadata": {},
          "execution_count": 83
        }
      ]
    },
    {
      "cell_type": "code",
      "source": [
        "tokens_filtered_top[:10]"
      ],
      "metadata": {
        "colab": {
          "base_uri": "https://localhost:8080/"
        },
        "id": "XswRyYoxpQz8",
        "outputId": "fe5ff6ca-ae08-4e86-92c1-4e81804ac18c"
      },
      "execution_count": 84,
      "outputs": [
        {
          "output_type": "execute_result",
          "data": {
            "text/plain": [
              "['user', 'love', 'day', 'happy', 'amp', 'just', 'will', 'im', 'u', 'time']"
            ]
          },
          "metadata": {},
          "execution_count": 84
        }
      ]
    },
    {
      "cell_type": "markdown",
      "source": [
        "Соберем словарь из самых популярных токенов, где каждому токену будет присвоен уникальный индекс"
      ],
      "metadata": {
        "id": "gkauejhNycko"
      }
    },
    {
      "cell_type": "code",
      "source": [
        "vocabulary = {v: k for k, v in dict(enumerate(tokens_filtered_top, 1)).items()}\n",
        "vocabulary"
      ],
      "metadata": {
        "colab": {
          "base_uri": "https://localhost:8080/"
        },
        "id": "EK-TqN6jpQ1-",
        "outputId": "e975ce4a-2380-433a-ccd8-095c43015d17"
      },
      "execution_count": 85,
      "outputs": [
        {
          "output_type": "execute_result",
          "data": {
            "text/plain": [
              "{'user': 1,\n",
              " 'love': 2,\n",
              " 'day': 3,\n",
              " 'happy': 4,\n",
              " 'amp': 5,\n",
              " 'just': 6,\n",
              " 'will': 7,\n",
              " 'im': 8,\n",
              " 'u': 9,\n",
              " 'time': 10,\n",
              " 'life': 11,\n",
              " 'like': 12,\n",
              " 'today': 13,\n",
              " 'now': 14,\n",
              " 'new': 15,\n",
              " 'thankful': 16,\n",
              " 'get': 17,\n",
              " 'positive': 18,\n",
              " 'people': 19,\n",
              " 'good': 20,\n",
              " 'bihday': 21,\n",
              " 'cant': 22,\n",
              " 'see': 23,\n",
              " 'one': 24,\n",
              " 'can': 25,\n",
              " 'fathers': 26,\n",
              " 'dont': 27,\n",
              " 'smile': 28,\n",
              " 'go': 29,\n",
              " 'want': 30,\n",
              " 'take': 31,\n",
              " 'healthy': 32,\n",
              " 'work': 33,\n",
              " 'got': 34,\n",
              " 'weekend': 35,\n",
              " 'fun': 36,\n",
              " 'make': 37,\n",
              " 'summer': 38,\n",
              " 'need': 39,\n",
              " 'bull': 40,\n",
              " 'best': 41,\n",
              " 'family': 42,\n",
              " 'friday': 43,\n",
              " 'us': 44,\n",
              " 'way': 45,\n",
              " '2': 46,\n",
              " 'great': 47,\n",
              " 'beautiful': 48,\n",
              " 'days': 49,\n",
              " 'first': 50,\n",
              " 'going': 51,\n",
              " 'friends': 52,\n",
              " 'really': 53,\n",
              " 'wait': 54,\n",
              " 'music': 55,\n",
              " 'fathersday': 56,\n",
              " 'morning': 57,\n",
              " 'know': 58,\n",
              " 'back': 59,\n",
              " 'world': 60,\n",
              " 'never': 61,\n",
              " 'orlando': 62,\n",
              " 'week': 63,\n",
              " 'sad': 64,\n",
              " 'tomorrow': 65,\n",
              " 'cute': 66,\n",
              " 'think': 67,\n",
              " 'feel': 68,\n",
              " 'blog': 69,\n",
              " 'well': 70,\n",
              " 'happiness': 71,\n",
              " 'much': 72,\n",
              " 'trump': 73,\n",
              " 'model': 74,\n",
              " 'right': 75,\n",
              " 'affirmation': 76,\n",
              " 'always': 77,\n",
              " 'home': 78,\n",
              " 'sunday': 79,\n",
              " 'night': 80,\n",
              " 'even': 81,\n",
              " 'youre': 82,\n",
              " 'girl': 83,\n",
              " 'finally': 84,\n",
              " 'last': 85,\n",
              " 'live': 86,\n",
              " 'gold': 87,\n",
              " 'come': 88,\n",
              " 'ready': 89,\n",
              " 'next': 90,\n",
              " 'still': 91,\n",
              " 'things': 92,\n",
              " 'makes': 93,\n",
              " 'silver': 94,\n",
              " 'amazing': 95,\n",
              " 'iam': 96,\n",
              " 'thanks': 97,\n",
              " 'thank': 98,\n",
              " 'year': 99,\n",
              " 'find': 100,\n",
              " 'selfie': 101,\n",
              " 'look': 102,\n",
              " 'dad': 103,\n",
              " 'altwaystoheal': 104,\n",
              " 'free': 105,\n",
              " 'many': 106,\n",
              " 'little': 107,\n",
              " 'via': 108,\n",
              " 'tonight': 109,\n",
              " 'follow': 110,\n",
              " '4': 111,\n",
              " 'forex': 112,\n",
              " 'man': 113,\n",
              " 'old': 114,\n",
              " 'pay': 115,\n",
              " 'na': 116,\n",
              " 'ever': 117,\n",
              " 'looking': 118,\n",
              " 'getting': 119,\n",
              " 'hope': 120,\n",
              " 'everyone': 121,\n",
              " '1': 122,\n",
              " 'peace': 123,\n",
              " 'feeling': 124,\n",
              " 'black': 125,\n",
              " 'climb': 126,\n",
              " 'city': 127,\n",
              " 'show': 128,\n",
              " 'another': 129,\n",
              " 'game': 130,\n",
              " 'say': 131,\n",
              " 'blessed': 132,\n",
              " 'stop': 133,\n",
              " 'food': 134,\n",
              " 'girls': 135,\n",
              " '2016': 136,\n",
              " 'watch': 137,\n",
              " 'every': 138,\n",
              " 'hate': 139,\n",
              " 'enjoy': 140,\n",
              " 'god': 141,\n",
              " 'whatever': 142,\n",
              " 'news': 143,\n",
              " 'help': 144,\n",
              " 'made': 145,\n",
              " 'bear': 146,\n",
              " 'sta': 147,\n",
              " 'might': 148,\n",
              " 'saturday': 149,\n",
              " 'friend': 150,\n",
              " 'sun': 151,\n",
              " 'excited': 152,\n",
              " '3': 153,\n",
              " 'thats': 154,\n",
              " 'someone': 155,\n",
              " 'ive': 156,\n",
              " 'dog': 157,\n",
              " 'coming': 158,\n",
              " 'white': 159,\n",
              " 'around': 160,\n",
              " 'polar': 161,\n",
              " 'big': 162,\n",
              " 'school': 163,\n",
              " 'may': 164,\n",
              " 'yes': 165,\n",
              " 'funny': 166,\n",
              " 'nothing': 167,\n",
              " 'baby': 168,\n",
              " 'keep': 169,\n",
              " 'father': 170,\n",
              " 'lol': 171,\n",
              " 'kids': 172,\n",
              " 'instagood': 173,\n",
              " 'angry': 174,\n",
              " 'healing': 175,\n",
              " 'nice': 176,\n",
              " 'please': 177,\n",
              " 'years': 178,\n",
              " 'guys': 179,\n",
              " 'video': 180,\n",
              " 'let': 181,\n",
              " 'believe': 182,\n",
              " 'grateful': 183,\n",
              " 'better': 184,\n",
              " 'beach': 185,\n",
              " 'long': 186,\n",
              " 'found': 187,\n",
              " 'awesome': 188,\n",
              " 'soon': 189,\n",
              " 'direct': 190,\n",
              " 'change': 191,\n",
              " 'done': 192,\n",
              " 'true': 193,\n",
              " 'thing': 194,\n",
              " 'quote': 195,\n",
              " 'holiday': 196,\n",
              " 'wedding': 197,\n",
              " 'dominate': 198,\n",
              " 'lost': 199,\n",
              " 'proud': 200,\n",
              " 'hea': 201,\n",
              " 'n': 202,\n",
              " 'away': 203,\n",
              " 'attack': 204,\n",
              " 'women': 205,\n",
              " 'motivation': 206,\n",
              " 'something': 207,\n",
              " 'without': 208,\n",
              " 'waiting': 209,\n",
              " 'didnt': 210,\n",
              " 'america': 211,\n",
              " 'cool': 212,\n",
              " 'two': 213,\n",
              " 'bad': 214,\n",
              " 'play': 215,\n",
              " 'watching': 216,\n",
              " 'end': 217,\n",
              " 'real': 218,\n",
              " 'miss': 219,\n",
              " 'monday': 220,\n",
              " 'weeks': 221,\n",
              " 'forward': 222,\n",
              " 'playing': 223,\n",
              " 'give': 224,\n",
              " 'rip': 225,\n",
              " 'libtard': 226,\n",
              " 'team': 227,\n",
              " 'place': 228,\n",
              " 'person': 229,\n",
              " 'bing': 230,\n",
              " 'face': 231,\n",
              " 'strong': 232,\n",
              " 'hot': 233,\n",
              " 'bong': 234,\n",
              " 'wow': 235,\n",
              " 'wish': 236,\n",
              " 'hair': 237,\n",
              " 'lovely': 238,\n",
              " 'racing': 239,\n",
              " 'yeah': 240,\n",
              " 'photooftheday': 241,\n",
              " 'd': 242,\n",
              " 'check': 243,\n",
              " 'dads': 244,\n",
              " 'left': 245,\n",
              " 'ill': 246,\n",
              " 'followme': 247,\n",
              " '5': 248,\n",
              " 'travel': 249,\n",
              " 'doesnt': 250,\n",
              " 'mindset': 251,\n",
              " 'yet': 252,\n",
              " 'twitter': 253,\n",
              " 'joy': 254,\n",
              " 'sex': 255,\n",
              " 'oh': 256,\n",
              " 'buffalo': 257,\n",
              " 'making': 258,\n",
              " 'racist': 259,\n",
              " 'job': 260,\n",
              " 'moment': 261,\n",
              " 'hard': 262,\n",
              " 'living': 263,\n",
              " 'everything': 264,\n",
              " 'young': 265,\n",
              " 'gon': 266,\n",
              " 'leave': 267,\n",
              " 'book': 268,\n",
              " 'lot': 269,\n",
              " 'fashion': 270,\n",
              " 'pa': 271,\n",
              " 'boy': 272,\n",
              " 'house': 273,\n",
              " 'tweets': 274,\n",
              " 'looks': 275,\n",
              " 'money': 276,\n",
              " 'health': 277,\n",
              " 'sexy': 278,\n",
              " 'mom': 279,\n",
              " 'loved': 280,\n",
              " 'sleep': 281,\n",
              " 'said': 282,\n",
              " 'read': 283,\n",
              " 'win': 284,\n",
              " 'shooting': 285,\n",
              " 'success': 286,\n",
              " 'gorilla': 287,\n",
              " 'june': 288,\n",
              " 'r': 289,\n",
              " 'stay': 290,\n",
              " 'try': 291,\n",
              " 'wont': 292,\n",
              " 'tbt': 293,\n",
              " 'london': 294,\n",
              " 'tear': 295,\n",
              " 'politics': 296,\n",
              " 'quotes': 297,\n",
              " 'depression': 298,\n",
              " 'environment': 299,\n",
              " 'euro2016': 300,\n",
              " 'thought': 301,\n",
              " 'hours': 302,\n",
              " 'ur': 303,\n",
              " 'working': 304,\n",
              " 'full': 305,\n",
              " 'body': 306,\n",
              " 'porn': 307,\n",
              " 'gay': 308,\n",
              " 'head': 309,\n",
              " 'already': 310,\n",
              " 'obama': 311,\n",
              " '10': 312,\n",
              " 'conference': 313,\n",
              " 'beauty': 314,\n",
              " 'truth': 315,\n",
              " 'perfect': 316,\n",
              " 'simulation': 317,\n",
              " 'w': 318,\n",
              " 'x': 319,\n",
              " 'since': 320,\n",
              " 'inspiration': 321,\n",
              " 'says': 322,\n",
              " 'whats': 323,\n",
              " 'poetry': 324,\n",
              " 'simulator': 325,\n",
              " 'adapt': 326,\n",
              " 'song': 327,\n",
              " 'isnt': 328,\n",
              " 'listen': 329,\n",
              " 'omg': 330,\n",
              " 'month': 331,\n",
              " 's': 332,\n",
              " 'enough': 333,\n",
              " 'lt3': 334,\n",
              " 'dance': 335,\n",
              " 'also': 336,\n",
              " 'pretty': 337,\n",
              " 'must': 338,\n",
              " 'run': 339,\n",
              " 'shit': 340,\n",
              " 'guy': 341,\n",
              " 'nude': 342,\n",
              " 'fuck': 343,\n",
              " 'mind': 344,\n",
              " 'couple': 345,\n",
              " 'dream': 346,\n",
              " 'open': 347,\n",
              " 'times': 348,\n",
              " 'hes': 349,\n",
              " 'buy': 350,\n",
              " 'words': 351,\n",
              " 'photo': 352,\n",
              " 'wonderful': 353,\n",
              " 'thursday': 354,\n",
              " 'country': 355,\n",
              " 'use': 356,\n",
              " 'call': 357,\n",
              " 'woman': 358,\n",
              " 'retweet': 359,\n",
              " 'season': 360,\n",
              " 'cold': 361,\n",
              " 'children': 362,\n",
              " 'post': 363,\n",
              " 'others': 364,\n",
              " 'wednesday': 365,\n",
              " 'business': 366,\n",
              " 'lets': 367,\n",
              " 'comes': 368,\n",
              " 'super': 369,\n",
              " 'crazy': 370,\n",
              " 'came': 371,\n",
              " 'men': 372,\n",
              " 'hear': 373,\n",
              " 'rest': 374,\n",
              " 'mood': 375,\n",
              " 'movie': 376,\n",
              " 'till': 377,\n",
              " 'liberal': 378,\n",
              " 'hey': 379,\n",
              " 'meet': 380,\n",
              " 'cat': 381,\n",
              " 'fans': 382,\n",
              " 'share': 383,\n",
              " 'dead': 384,\n",
              " 'fitness': 385,\n",
              " 'anything': 386,\n",
              " 'alone': 387,\n",
              " 'put': 388,\n",
              " 'together': 389,\n",
              " 'hour': 390,\n",
              " 'coffee': 391,\n",
              " 'shop': 392,\n",
              " 'yay': 393,\n",
              " 'story': 394,\n",
              " 'empty': 395,\n",
              " 'single': 396,\n",
              " 'media': 397,\n",
              " 'gone': 398,\n",
              " 'lifestyle': 399,\n",
              " 'seeing': 400,\n",
              " 'celebrate': 401,\n",
              " 'bed': 402,\n",
              " 'tired': 403,\n",
              " 'gym': 404,\n",
              " 'ppl': 405,\n",
              " 'tweet': 406,\n",
              " 'loving': 407,\n",
              " 'usa': 408,\n",
              " 'tell': 409,\n",
              " 'far': 410,\n",
              " 'kind': 411,\n",
              " 'trying': 412,\n",
              " 'thoughts': 413,\n",
              " '7': 414,\n",
              " 'needs': 415,\n",
              " 'tickets': 416,\n",
              " 'flowers': 417,\n",
              " 'smiles': 418,\n",
              " 'relax': 419,\n",
              " 'toptags': 420,\n",
              " 'prayfororlando': 421,\n",
              " 'allahsoil': 422,\n",
              " 'delete': 423,\n",
              " 'photography': 424,\n",
              " 'race': 425,\n",
              " 'remember': 426,\n",
              " 'goes': 427,\n",
              " 'gift': 428,\n",
              " 'sweet': 429,\n",
              " 'join': 430,\n",
              " 'sunshine': 431,\n",
              " 'trip': 432,\n",
              " 'months': 433,\n",
              " 'tgif': 434,\n",
              " 'anymore': 435,\n",
              " 'wrong': 436,\n",
              " 'talk': 437,\n",
              " 'sorry': 438,\n",
              " 'aww': 439,\n",
              " 'almost': 440,\n",
              " 'fact': 441,\n",
              " 'anyone': 442,\n",
              " 'lives': 443,\n",
              " 'else': 444,\n",
              " 'care': 445,\n",
              " 'useful': 446,\n",
              " 'side': 447,\n",
              " 'places': 448,\n",
              " 'yesterday': 449,\n",
              " 'followers': 450,\n",
              " 'saw': 451,\n",
              " 'actually': 452,\n",
              " 'social': 453,\n",
              " 'gets': 454,\n",
              " 'forever': 455,\n",
              " 'son': 456,\n",
              " 'vacation': 457,\n",
              " 'blue': 458,\n",
              " 'daily': 459,\n",
              " 'child': 460,\n",
              " 'deletetweets': 461,\n",
              " 'hello': 462,\n",
              " 'theres': 463,\n",
              " '1st': 464,\n",
              " 'happened': 465,\n",
              " 'tuesday': 466,\n",
              " 'hardcore': 467,\n",
              " 'power': 468,\n",
              " 'latest': 469,\n",
              " 'goodmorning': 470,\n",
              " 'high': 471,\n",
              " 'suppo': 472,\n",
              " 'car': 473,\n",
              " 'evening': 474,\n",
              " 'impoant': 475,\n",
              " 'pic': 476,\n",
              " 'favorite': 477,\n",
              " 'early': 478,\n",
              " 'complete': 479,\n",
              " 'hu': 480,\n",
              " 'less': 481,\n",
              " 'late': 482,\n",
              " 'sure': 483,\n",
              " 'special': 484,\n",
              " 'nervous': 485,\n",
              " 'sick': 486,\n",
              " 'lgbt': 487,\n",
              " 'lunch': 488,\n",
              " 'matter': 489,\n",
              " 'history': 490,\n",
              " 'sunny': 491,\n",
              " 'nature': 492,\n",
              " 'sjw': 493,\n",
              " 'running': 494,\n",
              " 'uk': 495,\n",
              " 'instagram': 496,\n",
              " 'stas': 497,\n",
              " 'event': 498,\n",
              " 'anxiety': 499,\n",
              " 'daddy': 500,\n",
              " 'laugh': 501,\n",
              " 'red': 502,\n",
              " 'birds': 503,\n",
              " 'education': 504,\n",
              " 'todays': 505,\n",
              " 'football': 506,\n",
              " 'victims': 507,\n",
              " 'reached': 508,\n",
              " 'went': 509,\n",
              " 'walk': 510,\n",
              " 'racism': 511,\n",
              " 'visit': 512,\n",
              " 'gun': 513,\n",
              " 'guess': 514,\n",
              " 'theyre': 515,\n",
              " 'point': 516,\n",
              " 'ok': 517,\n",
              " '6': 518,\n",
              " 'whole': 519,\n",
              " 'daughter': 520,\n",
              " 'boys': 521,\n",
              " 'death': 522,\n",
              " 'reason': 523,\n",
              " 'smiling': 524,\n",
              " 'green': 525,\n",
              " 'families': 526,\n",
              " 'ass': 527,\n",
              " 'able': 528,\n",
              " 'y': 529,\n",
              " 'seems': 530,\n",
              " 'arrived': 531,\n",
              " 'yall': 532,\n",
              " 'fucking': 533,\n",
              " 'gt': 534,\n",
              " 'booked': 535,\n",
              " '20': 536,\n",
              " 'cantwait': 537,\n",
              " 'cry': 538,\n",
              " 'target': 539,\n",
              " 'ago': 540,\n",
              " 'order': 541,\n",
              " 'damn': 542,\n",
              " 'mean': 543,\n",
              " 'reading': 544,\n",
              " 'seen': 545,\n",
              " 'later': 546,\n",
              " 'cause': 547,\n",
              " 'pray': 548,\n",
              " 'everyday': 549,\n",
              " 'though': 550,\n",
              " 'sometimes': 551,\n",
              " 'tv': 552,\n",
              " 'act': 553,\n",
              " 'shopping': 554,\n",
              " 'safe': 555,\n",
              " 'set': 556,\n",
              " 'saying': 557,\n",
              " 'killed': 558,\n",
              " 'leads': 559,\n",
              " 'youtube': 560,\n",
              " 'xxx': 561,\n",
              " 'word': 562,\n",
              " 'used': 563,\n",
              " 'staing': 564,\n",
              " 'app': 565,\n",
              " 'vine': 566,\n",
              " 'close': 567,\n",
              " 'disney': 568,\n",
              " 'understand': 569,\n",
              " 'update': 570,\n",
              " 'sea': 571,\n",
              " 'finished': 572,\n",
              " 'become': 573,\n",
              " 'top': 574,\n",
              " 'date': 575,\n",
              " 'lover': 576,\n",
              " 'prayers': 577,\n",
              " 'park': 578,\n",
              " 'depressed': 579,\n",
              " 'style': 580,\n",
              " 'bday': 581,\n",
              " 'homes': 582,\n",
              " 'wishing': 583,\n",
              " 'police': 584,\n",
              " 'future': 585,\n",
              " 'fresh': 586,\n",
              " 'organizations': 587,\n",
              " 'snapchat': 588,\n",
              " 'vs': 589,\n",
              " 'talking': 590,\n",
              " 'mountains': 591,\n",
              " 'yo': 592,\n",
              " 'control': 593,\n",
              " 'comments': 594,\n",
              " 'hill': 595,\n",
              " 'survive': 596,\n",
              " 'rain': 597,\n",
              " 'affirmations': 598,\n",
              " 'vote': 599,\n",
              " 'reach': 600,\n",
              " 'called': 601,\n",
              " 'parents': 602,\n",
              " 'happening': 603,\n",
              " 'lucky': 604,\n",
              " 'feels': 605,\n",
              " 'club': 606,\n",
              " 'dear': 607,\n",
              " '50': 608,\n",
              " 'name': 609,\n",
              " 'picture': 610,\n",
              " 'cultureofdevelopment': 611,\n",
              " 'break': 612,\n",
              " 'brexit': 613,\n",
              " 'pathetic': 614,\n",
              " 'welcome': 615,\n",
              " 'forget': 616,\n",
              " 'memories': 617,\n",
              " 'nyc': 618,\n",
              " 'picoftheday': 619,\n",
              " 'boyfriend': 620,\n",
              " 'taking': 621,\n",
              " 'thankyou': 622,\n",
              " 'easy': 623,\n",
              " 'b': 624,\n",
              " 'list': 625,\n",
              " 'mad': 626,\n",
              " 'florida': 627,\n",
              " 'kid': 628,\n",
              " '3d': 629,\n",
              " '12': 630,\n",
              " 'despite': 631,\n",
              " 'havent': 632,\n",
              " 'goals': 633,\n",
              " 'afternoon': 634,\n",
              " 'brother': 635,\n",
              " 'choose': 636,\n",
              " 'save': 637,\n",
              " 'photos': 638,\n",
              " 'bring': 639,\n",
              " 'episode': 640,\n",
              " 'meeting': 641,\n",
              " 'pain': 642,\n",
              " 'heard': 643,\n",
              " 'cake': 644,\n",
              " 'wanted': 645,\n",
              " 'hit': 646,\n",
              " 'lawofattraction': 647,\n",
              " 'half': 648,\n",
              " 'dinner': 649,\n",
              " 'training': 650,\n",
              " 'president': 651,\n",
              " 'learn': 652,\n",
              " '2nd': 653,\n",
              " 'final': 654,\n",
              " 'flag': 655,\n",
              " 'missing': 656,\n",
              " 'animals': 657,\n",
              " 'moments': 658,\n",
              " 'vicinity': 659,\n",
              " 'anniversary': 660,\n",
              " 'guns': 661,\n",
              " 'friendship': 662,\n",
              " 'maybe': 663,\n",
              " 'dreams': 664,\n",
              " 'simple': 665,\n",
              " 'tragedy': 666,\n",
              " 'stuff': 667,\n",
              " 'hillary': 668,\n",
              " 'americans': 669,\n",
              " 'happen': 670,\n",
              " 'nasty': 671,\n",
              " '8': 672,\n",
              " 'fan': 673,\n",
              " 'hell': 674,\n",
              " 'rock': 675,\n",
              " 'task': 676,\n",
              " 'shes': 677,\n",
              " 'glad': 678,\n",
              " 'bless': 679,\n",
              " 'smh': 680,\n",
              " 'yoga': 681,\n",
              " 'festival': 682,\n",
              " 'conce': 683,\n",
              " 'july': 684,\n",
              " 'water': 685,\n",
              " 'feelings': 686,\n",
              " 'lighttherapy': 687,\n",
              " 'freedom': 688,\n",
              " 'phone': 689,\n",
              " 'broken': 690,\n",
              " 'design': 691,\n",
              " 'eat': 692,\n",
              " 'suppoers': 693,\n",
              " 'ramadan': 694,\n",
              " 'heal': 695,\n",
              " '30': 696,\n",
              " 'course': 697,\n",
              " 'ones': 698,\n",
              " 'wife': 699,\n",
              " 'soul': 700,\n",
              " 'kill': 701,\n",
              " 'bc': 702,\n",
              " 'sister': 703,\n",
              " 'bought': 704,\n",
              " 'mine': 705,\n",
              " 'blonde': 706,\n",
              " 'bit': 707,\n",
              " 'truly': 708,\n",
              " 'rooster': 709,\n",
              " 'vast': 710,\n",
              " 'expanse': 711,\n",
              " 'dogs': 712,\n",
              " '2017': 713,\n",
              " 'oitnb': 714,\n",
              " 'wan': 715,\n",
              " 'community': 716,\n",
              " 'wishes': 717,\n",
              " 'worst': 718,\n",
              " 'group': 719,\n",
              " 'mother': 720,\n",
              " 'won': 721,\n",
              " 'aint': 722,\n",
              " 'orlandoshooting': 723,\n",
              " 'color': 724,\n",
              " 'garden': 725,\n",
              " 'breakfast': 726,\n",
              " 'past': 727,\n",
              " 'enjoying': 728,\n",
              " 'least': 729,\n",
              " 'wants': 730,\n",
              " 'makeup': 731,\n",
              " 'slut': 732,\n",
              " 'naughty': 733,\n",
              " 'room': 734,\n",
              " 'la': 735,\n",
              " 'leadership': 736,\n",
              " 'stupid': 737,\n",
              " 'service': 738,\n",
              " 'wet': 739,\n",
              " 'send': 740,\n",
              " 'eyes': 741,\n",
              " 'human': 742,\n",
              " 'officially': 743,\n",
              " 'using': 744,\n",
              " 'behind': 745,\n",
              " 'couldnt': 746,\n",
              " 'thinking': 747,\n",
              " 'shy': 748,\n",
              " 'horny': 749,\n",
              " 'small': 750,\n",
              " 'crying': 751,\n",
              " 'videos': 752,\n",
              " 'muslim': 753,\n",
              " 'dj': 754,\n",
              " 'wake': 755,\n",
              " 'needed': 756,\n",
              " 'along': 757,\n",
              " 'youve': 758,\n",
              " 'ahead': 759,\n",
              " 'whos': 760,\n",
              " 'light': 761,\n",
              " 'shows': 762,\n",
              " 'present': 763,\n",
              " 'series': 764,\n",
              " 'gave': 765,\n",
              " 'gop': 766,\n",
              " 'minutes': 767,\n",
              " 'leaving': 768,\n",
              " 'gorgeous': 769,\n",
              " 'gbp': 770,\n",
              " 'state': 771,\n",
              " 'lonely': 772,\n",
              " 'kinky': 773,\n",
              " 'blur': 774,\n",
              " 'voice': 775,\n",
              " 'students': 776,\n",
              " 'view': 777,\n",
              " 'drink': 778,\n",
              " 'respect': 779,\n",
              " 'source': 780,\n",
              " 'disappointed': 781,\n",
              " 'tragic': 782,\n",
              " 'customer': 783,\n",
              " 'finding': 784,\n",
              " 'england': 785,\n",
              " '100': 786,\n",
              " 'internet': 787,\n",
              " 'takes': 788,\n",
              " 'congrats': 789,\n",
              " 'mass': 790,\n",
              " 'id': 791,\n",
              " 'ask': 792,\n",
              " 'beer': 793,\n",
              " 'means': 794,\n",
              " '15': 795,\n",
              " 'line': 796,\n",
              " 'american': 797,\n",
              " 'exciting': 798,\n",
              " '9': 799,\n",
              " 'spos': 800,\n",
              " 'die': 801,\n",
              " 'facebook': 802,\n",
              " 'wtf': 803,\n",
              " 'national': 804,\n",
              " 'india': 805,\n",
              " 'sho': 806,\n",
              " 'due': 807,\n",
              " 'ta': 808,\n",
              " 'heres': 809,\n",
              " 'haha': 810,\n",
              " 'france': 811,\n",
              " 'fridayfeeling': 812,\n",
              " 'three': 813,\n",
              " 'udtapunjab': 814,\n",
              " 'hatred': 815,\n",
              " 'political': 816,\n",
              " 'university': 817,\n",
              " 'literally': 818,\n",
              " 'tears': 819,\n",
              " 'fantastic': 820,\n",
              " 'problem': 821,\n",
              " 'agree': 822,\n",
              " 'lots': 823,\n",
              " 'sky': 824,\n",
              " 'sunset': 825,\n",
              " 'online': 826,\n",
              " 'instead': 827,\n",
              " 'violence': 828,\n",
              " 'ride': 829,\n",
              " 'giving': 830,\n",
              " 'told': 831,\n",
              " 'fear': 832,\n",
              " 'lose': 833,\n",
              " 'took': 834,\n",
              " 'chill': 835,\n",
              " 'writing': 836,\n",
              " 'staed': 837,\n",
              " 'stomping': 838,\n",
              " 'woh': 839,\n",
              " 'chase': 840,\n",
              " 'loss': 841,\n",
              " 'account': 842,\n",
              " 'war': 843,\n",
              " 'energy': 844,\n",
              " 'launch': 845,\n",
              " 'rather': 846,\n",
              " 'husband': 847,\n",
              " 'ways': 848,\n",
              " 'street': 849,\n",
              " 'self': 850,\n",
              " 'moving': 851,\n",
              " 'luck': 852,\n",
              " 'reality': 853,\n",
              " 'different': 854,\n",
              " 'move': 855,\n",
              " 'class': 856,\n",
              " 'vegan': 857,\n",
              " 'pussy': 858,\n",
              " 'tech': 859,\n",
              " 'seriously': 860,\n",
              " 'york': 861,\n",
              " 'speak': 862,\n",
              " 'fall': 863,\n",
              " 'congratulations': 864,\n",
              " 'dark': 865,\n",
              " 'road': 866,\n",
              " 'film': 867,\n",
              " 'happier': 868,\n",
              " 'nbafinals': 869,\n",
              " 'died': 870,\n",
              " 'yummy': 871,\n",
              " 'actor': 872,\n",
              " 'pride': 873,\n",
              " 'germany': 874,\n",
              " 'fit': 875,\n",
              " 'busy': 876,\n",
              " 'adventure': 877,\n",
              " 'arent': 878,\n",
              " 'united': 879,\n",
              " 'treat': 880,\n",
              " 'hands': 881,\n",
              " 'workout': 882,\n",
              " 'stand': 883,\n",
              " 'leakage': 884,\n",
              " 'walking': 885,\n",
              " 'donald': 886,\n",
              " 'drinks': 887,\n",
              " 'joke': 888,\n",
              " 'shot': 889,\n",
              " 'weve': 890,\n",
              " 'absolutely': 891,\n",
              " 'official': 892,\n",
              " 'poor': 893,\n",
              " 'apple': 894,\n",
              " 'sense': 895,\n",
              " 'website': 896,\n",
              " 'hungry': 897,\n",
              " 'heabroken': 898,\n",
              " 'cats': 899,\n",
              " 'scared': 900,\n",
              " 'puppy': 901,\n",
              " 'idea': 902,\n",
              " 'loves': 903,\n",
              " 'calling': 904,\n",
              " 'given': 905,\n",
              " 'inshot': 906,\n",
              " 'bitch': 907,\n",
              " 'content': 908,\n",
              " 'babies': 909,\n",
              " 'sign': 910,\n",
              " 'trending': 911,\n",
              " 'countdown': 912,\n",
              " 'ff': 913,\n",
              " 'shame': 914,\n",
              " 'local': 915,\n",
              " 'mr': 916,\n",
              " 'camp': 917,\n",
              " 'tips': 918,\n",
              " 'instalike': 919,\n",
              " 'previous': 920,\n",
              " 'wonder': 921,\n",
              " 'flower': 922,\n",
              " 'pizza': 923,\n",
              " 'spend': 924,\n",
              " 'star': 925,\n",
              " 'hi': 926,\n",
              " 'wasnt': 927,\n",
              " 'stories': 928,\n",
              " 'snapshot': 929,\n",
              " 'college': 930,\n",
              " 'fight': 931,\n",
              " 'office': 932,\n",
              " 'emotions': 933,\n",
              " 'turn': 934,\n",
              " 'fly': 935,\n",
              " 'inside': 936,\n",
              " 'asian': 937,\n",
              " 'weather': 938,\n",
              " 'flight': 939,\n",
              " 'e32016': 940,\n",
              " 'queen': 941,\n",
              " 'chance': 942,\n",
              " 'jobs': 943,\n",
              " 'faith': 944,\n",
              " 'pink': 945,\n",
              " 'naked': 946,\n",
              " 'islam': 947,\n",
              " 'opening': 948,\n",
              " 'missed': 949,\n",
              " 'changes': 950,\n",
              " 'test': 951,\n",
              " 'vibes': 952,\n",
              " 'probably': 953,\n",
              " 'newyork': 954,\n",
              " 'vegas': 955,\n",
              " 'king': 956,\n",
              " 'huge': 957,\n",
              " 'punjab': 958,\n",
              " 'campaign': 959,\n",
              " 'folks': 960,\n",
              " 'christmas': 961,\n",
              " 'everybody': 962,\n",
              " 'step': 963,\n",
              " 'instamood': 964,\n",
              " 'melancholy': 965,\n",
              " 'e3': 966,\n",
              " 'inspirational': 967,\n",
              " 'ripchristina': 968,\n",
              " 'holidays': 969,\n",
              " 'ice': 970,\n",
              " 'pool': 971,\n",
              " 'following': 972,\n",
              " 'calm': 973,\n",
              " 'games': 974,\n",
              " 'like4like': 975,\n",
              " 'hand': 976,\n",
              " 'okay': 977,\n",
              " 'bike': 978,\n",
              " 'nobody': 979,\n",
              " 'dancing': 980,\n",
              " 'emotional': 981,\n",
              " 'teen': 982,\n",
              " 'squad': 983,\n",
              " 'alive': 984,\n",
              " 'pics': 985,\n",
              " 'met': 986,\n",
              " 'upset': 987,\n",
              " 'experience': 988,\n",
              " 'married': 989,\n",
              " 'especially': 990,\n",
              " 'message': 991,\n",
              " 'eah': 992,\n",
              " 'nba': 993,\n",
              " 'church': 994,\n",
              " 'stuck': 995,\n",
              " 'second': 996,\n",
              " 'wine': 997,\n",
              " 'confused': 998,\n",
              " 'nofilter': 999,\n",
              " 'ending': 1000,\n",
              " ...}"
            ]
          },
          "metadata": {},
          "execution_count": 85
        }
      ]
    },
    {
      "cell_type": "markdown",
      "source": [
        "Создадим функцию по созданию из твитов последовательностей заданной длины"
      ],
      "metadata": {
        "id": "T5U3NAodymOd"
      }
    },
    {
      "cell_type": "code",
      "source": [
        "import numpy as np\n",
        "max_len = 20\n",
        "\n",
        "def text_to_sequence(text, maxlen):\n",
        "    result = []\n",
        "    tokens = word_tokenize(text.lower())\n",
        "    tokens_filtered = [word for word in tokens if word.isalnum()]\n",
        "    for word in tokens_filtered:\n",
        "        if word in vocabulary:\n",
        "            result.append(vocabulary[word])\n",
        "\n",
        "    padding = [0] * (maxlen-len(result))\n",
        "    return result[-maxlen:] + padding"
      ],
      "metadata": {
        "id": "JS-yyK3jpfXc"
      },
      "execution_count": 88,
      "outputs": []
    },
    {
      "cell_type": "markdown",
      "source": [
        "Переведем трейн и валидационную выборку в наборк последовательностей"
      ],
      "metadata": {
        "id": "jCJ2RmjbyxnH"
      }
    },
    {
      "cell_type": "code",
      "source": [
        "%%time\n",
        "x_train = np.asarray([text_to_sequence(text, max_len) for text in df_train[\"tweet\"]])\n",
        "x_val = np.asarray([text_to_sequence(text, max_len) for text in df_val[\"tweet\"]])"
      ],
      "metadata": {
        "colab": {
          "base_uri": "https://localhost:8080/"
        },
        "id": "VZtb9pBgpfaN",
        "outputId": "e7aa2998-7aee-4a5c-d30b-2f89bbb7cf7a"
      },
      "execution_count": 89,
      "outputs": [
        {
          "output_type": "stream",
          "name": "stdout",
          "text": [
            "CPU times: user 3.84 s, sys: 3.82 ms, total: 3.85 s\n",
            "Wall time: 3.86 s\n"
          ]
        }
      ]
    },
    {
      "cell_type": "code",
      "source": [
        "df_train['tweet'].iloc[0]"
      ],
      "metadata": {
        "colab": {
          "base_uri": "https://localhost:8080/",
          "height": 35
        },
        "id": "-SwFCH1tpfcP",
        "outputId": "7ec89126-35d8-485d-9dc1-a3f94a96700b"
      },
      "execution_count": 90,
      "outputs": [
        {
          "output_type": "execute_result",
          "data": {
            "text/plain": [
              "'thankful sense touch thankful positive'"
            ],
            "application/vnd.google.colaboratory.intrinsic+json": {
              "type": "string"
            }
          },
          "metadata": {},
          "execution_count": 90
        }
      ]
    },
    {
      "cell_type": "code",
      "source": [
        "x_train[0]"
      ],
      "metadata": {
        "colab": {
          "base_uri": "https://localhost:8080/"
        },
        "id": "59A8GFWJpfe8",
        "outputId": "d459b8a0-c319-43bf-8a11-ecd8d27d6de5"
      },
      "execution_count": 91,
      "outputs": [
        {
          "output_type": "execute_result",
          "data": {
            "text/plain": [
              "array([  16,  895, 1406,   16,   18,    0,    0,    0,    0,    0,    0,\n",
              "          0,    0,    0,    0,    0,    0,    0,    0,    0])"
            ]
          },
          "metadata": {},
          "execution_count": 91
        }
      ]
    },
    {
      "cell_type": "markdown",
      "source": [
        "Создаем архитектуру нейронной сети"
      ],
      "metadata": {
        "id": "sP4h5ErHy85b"
      }
    },
    {
      "cell_type": "code",
      "source": [
        "import torch\n",
        "import torch.nn as nn\n",
        "import torch.nn.functional as F\n",
        "\n",
        "\n",
        "class Net(nn.Module):\n",
        "    def __init__(self, vocab_size=2000, embedding_dim=128, out_channel=128, num_classes = 1):\n",
        "        super().__init__()\n",
        "        self.embedding = nn.Embedding(vocab_size, embedding_dim)\n",
        "        self.conv_1 = nn.Conv1d(embedding_dim, out_channel, kernel_size=2)\n",
        "        self.conv_2 = nn.Conv1d(embedding_dim, out_channel, kernel_size=3)\n",
        "        self.pool = nn.MaxPool1d(2)\n",
        "        self.relu = nn.ReLU()\n",
        "        self.linear_1 = nn.Linear(out_channel, out_channel // 2)\n",
        "        self.linear_2 = nn.Linear(out_channel // 2, num_classes)\n",
        "        \n",
        "    def forward(self, x):        \n",
        "        output = self.embedding(x) # B, L, E\n",
        "        #                       B  E  L         \n",
        "        output = output.permute(0, 2, 1)\n",
        "        output = self.conv_1(output)\n",
        "        output = self.relu(output)\n",
        "        output = self.pool(output)\n",
        "\n",
        "        output = self.conv_2(output)\n",
        "        output = self.relu(output)\n",
        "        output = self.pool(output)\n",
        "        output = torch.max(output, axis=2).values\n",
        "        output = self.linear_1(output)\n",
        "        output = self.relu(output)\n",
        "        output = self.linear_2(output)\n",
        "        output = F.sigmoid(output)\n",
        "        return output"
      ],
      "metadata": {
        "id": "F9pVLyVrpfib"
      },
      "execution_count": 92,
      "outputs": []
    },
    {
      "cell_type": "markdown",
      "source": [
        "Создаем кастомный класс Датасета"
      ],
      "metadata": {
        "id": "_PRwnYwhzCGm"
      }
    },
    {
      "cell_type": "code",
      "source": [
        "from torch.utils.data import DataLoader, Dataset\n",
        "\n",
        "\n",
        "class DataWrapper(Dataset):\n",
        "    def __init__(self, data, target, transform=None):\n",
        "        self.data = torch.from_numpy(data).long()\n",
        "        self.target = torch.from_numpy(target).long()\n",
        "        self.transform = transform\n",
        "        \n",
        "    def __getitem__(self, index):\n",
        "        x = self.data[index]\n",
        "        y = self.target[index]\n",
        "        \n",
        "        if self.transform:\n",
        "            x = self.transform(x)\n",
        "            \n",
        "        return x, y\n",
        "    \n",
        "    def __len__(self):\n",
        "        return len(self.data)"
      ],
      "metadata": {
        "id": "lX3mllpXsra3"
      },
      "execution_count": 93,
      "outputs": []
    },
    {
      "cell_type": "markdown",
      "source": [
        "Создаем из наших данных кастомные датасеты и создаем лоадеры"
      ],
      "metadata": {
        "id": "fzCkhKrazGNK"
      }
    },
    {
      "cell_type": "code",
      "source": [
        "batch_size = 128\n",
        "\n",
        "train_dataset = DataWrapper(x_train, df_train['label'].values)\n",
        "train_loader = DataLoader(train_dataset, batch_size=batch_size, shuffle=True)\n",
        "\n",
        "val_dataset = DataWrapper(x_val, df_val['label'].values)\n",
        "val_loader = DataLoader(val_dataset, batch_size=8, shuffle=True)"
      ],
      "metadata": {
        "id": "Q2-XGK6Istyh"
      },
      "execution_count": 96,
      "outputs": []
    },
    {
      "cell_type": "markdown",
      "source": [
        "Создаем модель"
      ],
      "metadata": {
        "id": "W8Tl5pPszPiA"
      }
    },
    {
      "cell_type": "code",
      "source": [
        "model = Net(vocab_size=max_words)\n",
        "device = 'cpu'"
      ],
      "metadata": {
        "id": "us8tbR2ktLv_"
      },
      "execution_count": 97,
      "outputs": []
    },
    {
      "cell_type": "code",
      "source": [
        "print(model)\n",
        "print(\"Parameters:\", sum([param.nelement() for param in model.parameters()]))"
      ],
      "metadata": {
        "colab": {
          "base_uri": "https://localhost:8080/"
        },
        "id": "96cwz4NgtOu_",
        "outputId": "bdf155ce-047a-4772-e764-66423682cf88"
      },
      "execution_count": 98,
      "outputs": [
        {
          "output_type": "stream",
          "name": "stdout",
          "text": [
            "Net(\n",
            "  (embedding): Embedding(2500, 128)\n",
            "  (conv_1): Conv1d(128, 128, kernel_size=(2,), stride=(1,))\n",
            "  (conv_2): Conv1d(128, 128, kernel_size=(3,), stride=(1,))\n",
            "  (pool): MaxPool1d(kernel_size=2, stride=2, padding=0, dilation=1, ceil_mode=False)\n",
            "  (relu): ReLU()\n",
            "  (linear_1): Linear(in_features=128, out_features=64, bias=True)\n",
            "  (linear_2): Linear(in_features=64, out_features=1, bias=True)\n",
            ")\n",
            "Parameters: 410497\n"
          ]
        }
      ]
    },
    {
      "cell_type": "markdown",
      "source": [
        "Функция ошибки и оптимизатор"
      ],
      "metadata": {
        "id": "td14WwznzTCG"
      }
    },
    {
      "cell_type": "code",
      "source": [
        "optimizer = torch.optim.Adam(model.parameters(), lr=0.01)\n",
        "criterion = nn.BCELoss()"
      ],
      "metadata": {
        "id": "0XATTxnxtOxK"
      },
      "execution_count": 99,
      "outputs": []
    },
    {
      "cell_type": "markdown",
      "source": [
        "Запускаем обучение"
      ],
      "metadata": {
        "id": "DCiBl_kxzXdg"
      }
    },
    {
      "cell_type": "code",
      "source": [
        "model = model.to(device)\n",
        "model.train()\n",
        "th = 0.5\n",
        "epochs = 5\n",
        "\n",
        "train_loss_history = []\n",
        "test_loss_history = []\n",
        "\n",
        "\n",
        "for epoch in range(epochs):  \n",
        "    running_items, running_right = 0.0, 0.0\n",
        "    for i, data in enumerate(train_loader, 0):\n",
        "        inputs, labels = data[0].to(device), data[1].to(device)\n",
        "        \n",
        "        # обнуляем градиент\n",
        "        optimizer.zero_grad()\n",
        "        outputs = model(inputs)\n",
        "        \n",
        "        loss = criterion(outputs, labels.float().view(-1, 1))\n",
        "        loss.backward()\n",
        "        optimizer.step()\n",
        "\n",
        "        # подсчет ошибки на обучении\n",
        "        loss = loss.item()\n",
        "        running_items += len(labels)\n",
        "        # подсчет метрики на обучении\n",
        "        pred_labels = torch.squeeze((outputs > th).int())\n",
        "        running_right += (labels == pred_labels).sum()\n",
        "        \n",
        "        # выводим статистику о процессе обучения\n",
        "        if i % 150 == 0:    # печатаем каждые 150 batches\n",
        "            model.eval()\n",
        "            \n",
        "            print(f'Epoch [{epoch + 1}/{epochs}]. ' \\\n",
        "                  f'Step [{i + 1}/{len(train_loader)}]. ' \\\n",
        "                  f'Loss: {loss:.3f}. ' \\\n",
        "                  f'Acc: {running_right / running_items:.3f}', end='. ')\n",
        "            running_loss, running_items, running_right = 0.0, 0.0, 0.0\n",
        "            train_loss_history.append(loss)\n",
        "\n",
        "            # выводим статистику на тестовых данных\n",
        "            test_running_right, test_running_total, test_loss = 0.0, 0.0, 0.0\n",
        "            for j, data in enumerate(val_loader):\n",
        "                test_labels = data[1].to(device)\n",
        "                test_outputs = model(data[0].to(device))\n",
        "                \n",
        "                # подсчет ошибки на тесте\n",
        "                test_loss = criterion(test_outputs, test_labels.float().view(-1, 1))\n",
        "                # подсчет метрики на тесте\n",
        "                test_running_total += len(data[1])\n",
        "                pred_test_labels = torch.squeeze((test_outputs > th).int())\n",
        "                test_running_right += (test_labels == pred_test_labels).sum()\n",
        "            \n",
        "            test_loss_history.append(test_loss.item())\n",
        "            print(f'Test loss: {test_loss:.3f}. Test acc: {test_running_right / test_running_total:.3f}')\n",
        "        \n",
        "        model.train()\n",
        "        \n",
        "print('Training is finished!')"
      ],
      "metadata": {
        "colab": {
          "base_uri": "https://localhost:8080/"
        },
        "id": "vu-NINW8tOzX",
        "outputId": "fb25359c-9a19-4b29-d2df-3d8fa63e333e"
      },
      "execution_count": 101,
      "outputs": [
        {
          "output_type": "stream",
          "name": "stderr",
          "text": [
            "/usr/local/lib/python3.7/dist-packages/torch/nn/functional.py:1806: UserWarning: nn.functional.sigmoid is deprecated. Use torch.sigmoid instead.\n",
            "  warnings.warn(\"nn.functional.sigmoid is deprecated. Use torch.sigmoid instead.\")\n"
          ]
        },
        {
          "output_type": "stream",
          "name": "stdout",
          "text": [
            "Epoch [1/5]. Step [1/213]. Loss: 0.728. Acc: 0.141. Test loss: 0.028. Test acc: 0.932\n",
            "Epoch [1/5]. Step [151/213]. Loss: 0.121. Acc: 0.936. Test loss: 0.017. Test acc: 0.950\n",
            "Epoch [2/5]. Step [1/213]. Loss: 0.196. Acc: 0.945. Test loss: 0.053. Test acc: 0.955\n",
            "Epoch [2/5]. Step [151/213]. Loss: 0.078. Acc: 0.962. Test loss: 0.053. Test acc: 0.954\n",
            "Epoch [3/5]. Step [1/213]. Loss: 0.078. Acc: 0.969. Test loss: 0.003. Test acc: 0.957\n",
            "Epoch [3/5]. Step [151/213]. Loss: 0.043. Acc: 0.975. Test loss: 0.000. Test acc: 0.955\n",
            "Epoch [4/5]. Step [1/213]. Loss: 0.025. Acc: 0.992. Test loss: 0.070. Test acc: 0.956\n",
            "Epoch [4/5]. Step [151/213]. Loss: 0.040. Acc: 0.980. Test loss: 0.000. Test acc: 0.956\n",
            "Epoch [5/5]. Step [1/213]. Loss: 0.013. Acc: 1.000. Test loss: 0.031. Test acc: 0.953\n",
            "Epoch [5/5]. Step [151/213]. Loss: 0.097. Acc: 0.987. Test loss: 0.000. Test acc: 0.946\n",
            "Training is finished!\n"
          ]
        }
      ]
    },
    {
      "cell_type": "markdown",
      "source": [
        "Метрики очень хорошие получились, но есть небольшое переобучение"
      ],
      "metadata": {
        "id": "tToHRg1LzaaN"
      }
    },
    {
      "cell_type": "markdown",
      "source": [
        "Отрисуем изменение функции ошибки"
      ],
      "metadata": {
        "id": "fFQ4-2pazi-f"
      }
    },
    {
      "cell_type": "code",
      "source": [
        "import matplotlib.pyplot as plt\n",
        "\n",
        "plt.title('Loss history')\n",
        "plt.grid(True)\n",
        "plt.ylabel('Loss')\n",
        "plt.xlabel('Step')\n",
        "plt.plot(train_loss_history, label='train')\n",
        "plt.plot(test_loss_history, label='val')\n",
        "plt.legend();"
      ],
      "metadata": {
        "colab": {
          "base_uri": "https://localhost:8080/",
          "height": 295
        },
        "id": "61wWviuXtO1s",
        "outputId": "9b6e182d-210e-4bfc-c7dc-214570f43e64"
      },
      "execution_count": 129,
      "outputs": [
        {
          "output_type": "display_data",
          "data": {
            "text/plain": [
              "<Figure size 432x288 with 1 Axes>"
            ],
            "image/png": "[encoded data removed]"
          },
          "metadata": {
            "needs_background": "light"
          }
        }
      ]
    },
    {
      "cell_type": "markdown",
      "source": [
        "Сделаем предсказание на тестовых данных"
      ],
      "metadata": {
        "id": "EGugSESUzqi1"
      }
    },
    {
      "cell_type": "markdown",
      "source": [
        "Переведем тестовые данные в последовательности"
      ],
      "metadata": {
        "id": "A4SBMgxozyhk"
      }
    },
    {
      "cell_type": "code",
      "source": [
        "x_test = np.asarray([text_to_sequence(text, max_len) for text in df_test[\"tweet\"]])"
      ],
      "metadata": {
        "id": "fnuyPvMytO4f"
      },
      "execution_count": 104,
      "outputs": []
    },
    {
      "cell_type": "markdown",
      "source": [
        "Переведем данные из numpy array в pytorch tensor"
      ],
      "metadata": {
        "id": "pyM9BHN30Cuh"
      }
    },
    {
      "cell_type": "code",
      "source": [
        "x_test"
      ],
      "metadata": {
        "colab": {
          "base_uri": "https://localhost:8080/"
        },
        "id": "uJLbgpJPvxbW",
        "outputId": "2fd61844-16d8-464e-a8e0-13df9f2d2019"
      },
      "execution_count": 110,
      "outputs": [
        {
          "output_type": "execute_result",
          "data": {
            "text/plain": [
              "array([[1253,  100,    0, ...,    0,    0,    0],\n",
              "       [   1,  159,   30, ...,    0,    0,    0],\n",
              "       [ 555,  848,  695, ...,    0,    0,    0],\n",
              "       ...,\n",
              "       [ 668,   13,  330, ...,    0,    0,    0],\n",
              "       [   4,   33,  313, ...,    0,    0,    0],\n",
              "       [ 327,  678,  105, ...,    0,    0,    0]])"
            ]
          },
          "metadata": {},
          "execution_count": 110
        }
      ]
    },
    {
      "cell_type": "code",
      "source": [
        "x_test = torch.tensor(x_test)"
      ],
      "metadata": {
        "id": "sEcoyO5jtO9X"
      },
      "execution_count": 111,
      "outputs": []
    },
    {
      "cell_type": "code",
      "source": [
        "x_test"
      ],
      "metadata": {
        "colab": {
          "base_uri": "https://localhost:8080/"
        },
        "id": "936mRuDgv0ML",
        "outputId": "155f6b4e-0e20-4922-c671-7da94553fe14"
      },
      "execution_count": 112,
      "outputs": [
        {
          "output_type": "execute_result",
          "data": {
            "text/plain": [
              "tensor([[1253,  100,    0,  ...,    0,    0,    0],\n",
              "        [   1,  159,   30,  ...,    0,    0,    0],\n",
              "        [ 555,  848,  695,  ...,    0,    0,    0],\n",
              "        ...,\n",
              "        [ 668,   13,  330,  ...,    0,    0,    0],\n",
              "        [   4,   33,  313,  ...,    0,    0,    0],\n",
              "        [ 327,  678,  105,  ...,    0,    0,    0]])"
            ]
          },
          "metadata": {},
          "execution_count": 112
        }
      ]
    },
    {
      "cell_type": "code",
      "source": [
        "x_test.shape"
      ],
      "metadata": {
        "colab": {
          "base_uri": "https://localhost:8080/"
        },
        "id": "tnmxlliswFyO",
        "outputId": "27c504bb-7b9e-46b2-d364-0c89492317bd"
      },
      "execution_count": 116,
      "outputs": [
        {
          "output_type": "execute_result",
          "data": {
            "text/plain": [
              "torch.Size([17197, 20])"
            ]
          },
          "metadata": {},
          "execution_count": 116
        }
      ]
    },
    {
      "cell_type": "markdown",
      "source": [
        "Делаем предикт"
      ],
      "metadata": {
        "id": "YLNdafPk0ORS"
      }
    },
    {
      "cell_type": "code",
      "source": [
        "predict = model(x_test)\n",
        "pred_labels = torch.squeeze((predict > th).int())"
      ],
      "metadata": {
        "colab": {
          "base_uri": "https://localhost:8080/"
        },
        "id": "IrHUNKIrv4Bt",
        "outputId": "629ce2f0-254d-4799-904f-26ff71a3ae51"
      },
      "execution_count": 118,
      "outputs": [
        {
          "output_type": "stream",
          "name": "stderr",
          "text": [
            "/usr/local/lib/python3.7/dist-packages/torch/nn/functional.py:1806: UserWarning: nn.functional.sigmoid is deprecated. Use torch.sigmoid instead.\n",
            "  warnings.warn(\"nn.functional.sigmoid is deprecated. Use torch.sigmoid instead.\")\n"
          ]
        }
      ]
    },
    {
      "cell_type": "code",
      "source": [
        "pred_labels.shape"
      ],
      "metadata": {
        "colab": {
          "base_uri": "https://localhost:8080/"
        },
        "id": "dJ7XXWxrwBuS",
        "outputId": "942fd8f2-02c4-4d0e-dbc0-d28e6f2ac3de"
      },
      "execution_count": 122,
      "outputs": [
        {
          "output_type": "execute_result",
          "data": {
            "text/plain": [
              "torch.Size([17197])"
            ]
          },
          "metadata": {},
          "execution_count": 122
        }
      ]
    },
    {
      "cell_type": "code",
      "source": [
        "pred_labels"
      ],
      "metadata": {
        "colab": {
          "base_uri": "https://localhost:8080/"
        },
        "id": "r5Fz3s9CwMkX",
        "outputId": "c80d865d-3d60-470a-96c6-c19316bf324a"
      },
      "execution_count": 123,
      "outputs": [
        {
          "output_type": "execute_result",
          "data": {
            "text/plain": [
              "tensor([0, 1, 0,  ..., 0, 0, 0], dtype=torch.int32)"
            ]
          },
          "metadata": {},
          "execution_count": 123
        }
      ]
    },
    {
      "cell_type": "code",
      "source": [
        "df_test['labels'] = np.array(pred_labels)\n",
        "df_test.head()"
      ],
      "metadata": {
        "colab": {
          "base_uri": "https://localhost:8080/",
          "height": 206
        },
        "id": "eRQdRq4cwmNO",
        "outputId": "1ef31f51-904c-467c-c8b5-b90303a94ad0"
      },
      "execution_count": 127,
      "outputs": [
        {
          "output_type": "execute_result",
          "data": {
            "text/plain": [
              "      id                                              tweet  labels\n",
              "0  31963  #studiolife #aislife #requires #passion #dedic...       0\n",
              "1  31964   @user #white #supremacists want everyone to s...       1\n",
              "2  31965  safe ways to heal your #acne!!    #altwaystohe...       0\n",
              "3  31966  is the hp and the cursed child book up for res...       0\n",
              "4  31967    3rd #bihday to my amazing, hilarious #nephew...       0"
            ],
            "text/html": [
              "\n",
              "  <div id=\"df-a61ca507-4b71-4714-88d8-fa747753c2bb\">\n",
              "    <div class=\"colab-df-container\">\n",
              "      <div>\n",
              "<style scoped>\n",
              "    .dataframe tbody tr th:only-of-type {\n",
              "        vertical-align: middle;\n",
              "    }\n",
              "\n",
              "    .dataframe tbody tr th {\n",
              "        vertical-align: top;\n",
              "    }\n",
              "\n",
              "    .dataframe thead th {\n",
              "        text-align: right;\n",
              "    }\n",
              "</style>\n",
              "<table border=\"1\" class=\"dataframe\">\n",
              "  <thead>\n",
              "    <tr style=\"text-align: right;\">\n",
              "      <th></th>\n",
              "      <th>id</th>\n",
              "      <th>tweet</th>\n",
              "      <th>labels</th>\n",
              "    </tr>\n",
              "  </thead>\n",
              "  <tbody>\n",
              "    <tr>\n",
              "      <th>0</th>\n",
              "      <td>31963</td>\n",
              "      <td>#studiolife #aislife #requires #passion #dedic...</td>\n",
              "      <td>0</td>\n",
              "    </tr>\n",
              "    <tr>\n",
              "      <th>1</th>\n",
              "      <td>31964</td>\n",
              "      <td>@user #white #supremacists want everyone to s...</td>\n",
              "      <td>1</td>\n",
              "    </tr>\n",
              "    <tr>\n",
              "      <th>2</th>\n",
              "      <td>31965</td>\n",
              "      <td>safe ways to heal your #acne!!    #altwaystohe...</td>\n",
              "      <td>0</td>\n",
              "    </tr>\n",
              "    <tr>\n",
              "      <th>3</th>\n",
              "      <td>31966</td>\n",
              "      <td>is the hp and the cursed child book up for res...</td>\n",
              "      <td>0</td>\n",
              "    </tr>\n",
              "    <tr>\n",
              "      <th>4</th>\n",
              "      <td>31967</td>\n",
              "      <td>3rd #bihday to my amazing, hilarious #nephew...</td>\n",
              "      <td>0</td>\n",
              "    </tr>\n",
              "  </tbody>\n",
              "</table>\n",
              "</div>\n",
              "      <button class=\"colab-df-convert\" onclick=\"convertToInteractive('df-a61ca507-4b71-4714-88d8-fa747753c2bb')\"\n",
              "              title=\"Convert this dataframe to an interactive table.\"\n",
              "              style=\"display:none;\">\n",
              "        \n",
              "  <svg xmlns=\"http://www.w3.org/2000/svg\" height=\"24px\"viewBox=\"0 0 24 24\"\n",
              "       width=\"24px\">\n",
              "    <path d=\"M0 0h24v24H0V0z\" fill=\"none\"/>\n",
              "    <path d=\"M18.56 5.44l.94 2.06.94-2.06 2.06-.94-2.06-.94-.94-2.06-.94 2.06-2.06.94zm-11 1L8.5 8.5l.94-2.06 2.06-.94-2.06-.94L8.5 2.5l-.94 2.06-2.06.94zm10 10l.94 2.06.94-2.06 2.06-.94-2.06-.94-.94-2.06-.94 2.06-2.06.94z\"/><path d=\"M17.41 7.96l-1.37-1.37c-.4-.4-.92-.59-1.43-.59-.52 0-1.04.2-1.43.59L10.3 9.45l-7.72 7.72c-.78.78-.78 2.05 0 2.83L4 21.41c.39.39.9.59 1.41.59.51 0 1.02-.2 1.41-.59l7.78-7.78 2.81-2.81c.8-.78.8-2.07 0-2.86zM5.41 20L4 18.59l7.72-7.72 1.47 1.35L5.41 20z\"/>\n",
              "  </svg>\n",
              "      </button>\n",
              "      \n",
              "  <style>\n",
              "    .colab-df-container {\n",
              "      display:flex;\n",
              "      flex-wrap:wrap;\n",
              "      gap: 12px;\n",
              "    }\n",
              "\n",
              "    .colab-df-convert {\n",
              "      background-color: #E8F0FE;\n",
              "      border: none;\n",
              "      border-radius: 50%;\n",
              "      cursor: pointer;\n",
              "      display: none;\n",
              "      fill: #1967D2;\n",
              "      height: 32px;\n",
              "      padding: 0 0 0 0;\n",
              "      width: 32px;\n",
              "    }\n",
              "\n",
              "    .colab-df-convert:hover {\n",
              "      background-color: #E2EBFA;\n",
              "      box-shadow: 0px 1px 2px rgba(60, 64, 67, 0.3), 0px 1px 3px 1px rgba(60, 64, 67, 0.15);\n",
              "      fill: #174EA6;\n",
              "    }\n",
              "\n",
              "    [theme=dark] .colab-df-convert {\n",
              "      background-color: #3B4455;\n",
              "      fill: #D2E3FC;\n",
              "    }\n",
              "\n",
              "    [theme=dark] .colab-df-convert:hover {\n",
              "      background-color: #434B5C;\n",
              "      box-shadow: 0px 1px 3px 1px rgba(0, 0, 0, 0.15);\n",
              "      filter: drop-shadow(0px 1px 2px rgba(0, 0, 0, 0.3));\n",
              "      fill: #FFFFFF;\n",
              "    }\n",
              "  </style>\n",
              "\n",
              "      <script>\n",
              "        const buttonEl =\n",
              "          document.querySelector('#df-a61ca507-4b71-4714-88d8-fa747753c2bb button.colab-df-convert');\n",
              "        buttonEl.style.display =\n",
              "          google.colab.kernel.accessAllowed ? 'block' : 'none';\n",
              "\n",
              "        async function convertToInteractive(key) {\n",
              "          const element = document.querySelector('#df-a61ca507-4b71-4714-88d8-fa747753c2bb');\n",
              "          const dataTable =\n",
              "            await google.colab.kernel.invokeFunction('convertToInteractive',\n",
              "                                                     [key], {});\n",
              "          if (!dataTable) return;\n",
              "\n",
              "          const docLinkHtml = 'Like what you see? Visit the ' +\n",
              "            '<a target=\"_blank\" href=https://colab.research.google.com/notebooks/data_table.ipynb>data table notebook</a>'\n",
              "            + ' to learn more about interactive tables.';\n",
              "          element.innerHTML = '';\n",
              "          dataTable['output_type'] = 'display_data';\n",
              "          await google.colab.output.renderOutput(dataTable, element);\n",
              "          const docLink = document.createElement('div');\n",
              "          docLink.innerHTML = docLinkHtml;\n",
              "          element.appendChild(docLink);\n",
              "        }\n",
              "      </script>\n",
              "    </div>\n",
              "  </div>\n",
              "  "
            ]
          },
          "metadata": {},
          "execution_count": 127
        }
      ]
    },
    {
      "cell_type": "code",
      "source": [
        "df_test['labels'].value_counts()"
      ],
      "metadata": {
        "colab": {
          "base_uri": "https://localhost:8080/"
        },
        "id": "B1PvEntPw_pn",
        "outputId": "9c75aff8-9422-4399-cf8b-b409f0072709"
      },
      "execution_count": 128,
      "outputs": [
        {
          "output_type": "execute_result",
          "data": {
            "text/plain": [
              "0    16350\n",
              "1      847\n",
              "Name: labels, dtype: int64"
            ]
          },
          "metadata": {},
          "execution_count": 128
        }
      ]
    },
    {
      "cell_type": "markdown",
      "source": [
        "К сожалению, нет данных, чтобы проверить метрику на тесте"
      ],
      "metadata": {
        "id": "3ZURqnTM0Ubu"
      }
    }
  ]
}