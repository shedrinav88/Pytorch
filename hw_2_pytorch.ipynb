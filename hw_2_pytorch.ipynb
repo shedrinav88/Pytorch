{
  "nbformat": 4,
  "nbformat_minor": 0,
  "metadata": {
    "colab": {
      "name": "hw_2_pytorch.ipynb",
      "provenance": [],
      "collapsed_sections": []
    },
    "kernelspec": {
      "name": "python3",
      "display_name": "Python 3"
    },
    "language_info": {
      "name": "python"
    }
  },
  "cells": [
    {
      "cell_type": "markdown",
      "source": [
        "# Домашнее задание\n",
        "\n",
        "1. Добиться хорошего результата от модели, собранной на занятии (5 угаданныx картинок из 8 предложенных). Варианты изменений:\n",
        "- изменение слоёв и их количества;\n",
        "- изменение метода оптимизации;\n",
        "- изменение процесса обучения;\n",
        "- *преобразование данных transform"
      ],
      "metadata": {
        "id": "e592KzIpIQW3"
      }
    },
    {
      "cell_type": "code",
      "source": [
        "!pwd"
      ],
      "metadata": {
        "colab": {
          "base_uri": "https://localhost:8080/"
        },
        "id": "zTmUJJcoKKSR",
        "outputId": "765430fc-49b3-40be-87df-1ccae0abb031"
      },
      "execution_count": 29,
      "outputs": [
        {
          "output_type": "stream",
          "name": "stdout",
          "text": [
            "/content\n"
          ]
        }
      ]
    },
    {
      "cell_type": "code",
      "source": [
        "import torchvision\n",
        "from torch import optim\n",
        "import torchvision.transforms as transforms\n",
        "\n",
        "train_dataset = torchvision.datasets.CIFAR10(root='/content/sample_data',\n",
        "                                             train=True,  \n",
        "                                             transform=transforms.ToTensor(), \n",
        "                                             download=True)"
      ],
      "metadata": {
        "colab": {
          "base_uri": "https://localhost:8080/"
        },
        "id": "oBE9-yRbJbKT",
        "outputId": "287a1310-3606-453e-d30d-237b8b773f3b"
      },
      "execution_count": 30,
      "outputs": [
        {
          "output_type": "stream",
          "name": "stdout",
          "text": [
            "Files already downloaded and verified\n"
          ]
        }
      ]
    },
    {
      "cell_type": "code",
      "source": [
        "import torch\n",
        "\n",
        "train_loader = torch.utils.data.DataLoader(dataset=train_dataset,\n",
        "                                           batch_size=64, \n",
        "                                           shuffle=True)"
      ],
      "metadata": {
        "id": "9wAS5yAhKlqT"
      },
      "execution_count": 31,
      "outputs": []
    },
    {
      "cell_type": "code",
      "source": [
        "test_dataset = torchvision.datasets.CIFAR10(root='./data', train=False,\n",
        "                                            download=True, transform=transforms.ToTensor())\n",
        "test_loader = torch.utils.data.DataLoader(test_dataset, batch_size=8,\n",
        "                                          shuffle=False)"
      ],
      "metadata": {
        "colab": {
          "base_uri": "https://localhost:8080/"
        },
        "id": "yfGoZJuUKqxZ",
        "outputId": "885ced21-7a43-4348-dfa8-147c4e0852e5"
      },
      "execution_count": 32,
      "outputs": [
        {
          "output_type": "stream",
          "name": "stdout",
          "text": [
            "Files already downloaded and verified\n"
          ]
        }
      ]
    },
    {
      "cell_type": "code",
      "source": [
        "classes = ('plane', 'car', 'bird', 'cat',\n",
        "           'deer', 'dog', 'frog', 'horse', 'ship', 'truck')"
      ],
      "metadata": {
        "id": "CrqOmBWmKziH"
      },
      "execution_count": 33,
      "outputs": []
    },
    {
      "cell_type": "code",
      "source": [
        "import matplotlib.pyplot as plt\n",
        "\n",
        "image, label = train_dataset[8]\n",
        "plt.imshow(image.permute(1, 2, 0).numpy());"
      ],
      "metadata": {
        "colab": {
          "base_uri": "https://localhost:8080/",
          "height": 266
        },
        "id": "SkDgVm6dW-PU",
        "outputId": "fc88cd7d-4f8b-4d02-dadf-5256c622f24d"
      },
      "execution_count": 34,
      "outputs": [
        {
          "output_type": "display_data",
          "data": {
            "text/plain": [
              "<Figure size 432x288 with 1 Axes>"
            ],
            "image/png": "[encoded data removed]"
          },
          "metadata": {
            "needs_background": "light"
          }
        }
      ]
    },
    {
      "cell_type": "markdown",
      "source": [
        "a) Начнем с изменения слоёв и их количества;"
      ],
      "metadata": {
        "id": "ekTcVpABK5hc"
      }
    },
    {
      "cell_type": "markdown",
      "source": [
        "уменьшим количество слоёв до 3-х и уменьшим количество нейронов"
      ],
      "metadata": {
        "id": "CXkwBqCfLHgS"
      }
    },
    {
      "cell_type": "code",
      "execution_count": 44,
      "metadata": {
        "colab": {
          "base_uri": "https://localhost:8080/"
        },
        "id": "QxjUWZsIIKoX",
        "outputId": "e4670654-4f36-46ed-906f-302bdc6b9aeb"
      },
      "outputs": [
        {
          "output_type": "execute_result",
          "data": {
            "text/plain": [
              "Net(\n",
              "  (fc1): Linear(in_features=3072, out_features=400, bias=True)\n",
              "  (fc2): Linear(in_features=400, out_features=100, bias=True)\n",
              "  (fc3): Linear(in_features=100, out_features=10, bias=True)\n",
              ")"
            ]
          },
          "metadata": {},
          "execution_count": 44
        }
      ],
      "source": [
        "from torch import nn\n",
        "import torch.nn.functional as F\n",
        "\n",
        "\n",
        "class Net(nn.Module):\n",
        "    def __init__(self, input_dim, hidden_dim, output_dim):\n",
        "        super().__init__()\n",
        "        self.fc1 = nn.Linear(input_dim, 4 * hidden_dim)\n",
        "        self.fc2 = nn.Linear(4 * hidden_dim,  hidden_dim)\n",
        "        self.fc3 = nn.Linear(hidden_dim, output_dim)\n",
        "\n",
        "    def forward(self, x):\n",
        "        x = x.view(x.shape[0], -1)\n",
        "        x = self.fc1(x)\n",
        "        x = F.leaky_relu(x)\n",
        "        x = self.fc2(x)\n",
        "        x = F.leaky_relu(x)\n",
        "        x = self.fc3(x)\n",
        "        return x\n",
        "\n",
        "net = Net(3072, 100, 10)\n",
        "net.train()"
      ]
    },
    {
      "cell_type": "code",
      "source": [
        "criterion = nn.CrossEntropyLoss()\n",
        "optimizer = optim.SGD(net.parameters(), lr=0.01, momentum=0.0)"
      ],
      "metadata": {
        "id": "XVwEzsIhJR3_"
      },
      "execution_count": 40,
      "outputs": []
    },
    {
      "cell_type": "code",
      "source": [
        "num_epochs = 5\n",
        "\n",
        "for epoch in range(num_epochs):\n",
        "    running_loss = 0.0\n",
        "    running_items = 0.0\n",
        "\n",
        "\n",
        "    for i, data in enumerate(train_loader):\n",
        "        inputs, labels = data[0], data[1]\n",
        "\n",
        "        # Обнуляем градиент\n",
        "        optimizer.zero_grad()\n",
        "        # Делаем предсказание\n",
        "        outputs = net(inputs)\n",
        "        # Рассчитываем лосс-функцию\n",
        "        loss = criterion(outputs.squeeze(), labels)\n",
        "        # Делаем шаг назад по лоссу\n",
        "        loss.backward()\n",
        "        # Делаем шаг нашего оптимайзера\n",
        "        optimizer.step()\n",
        "\n",
        "        # выводим статистику о процессе обучения\n",
        "        running_loss += loss.item()\n",
        "        running_items += len(labels)\n",
        "        if i % 300 == 0:    # печатаем каждые 300 mini-batches\n",
        "            print(f'Epoch [{epoch + 1}/{num_epochs}]. ' \\\n",
        "                  f'Step [{i + 1}/{len(train_loader)}]. ' \\\n",
        "                  f'Loss: {running_loss / running_items:.3f}')\n",
        "            running_loss, running_items = 0.0, 0.0\n",
        "\n",
        "print('Training is finished!')"
      ],
      "metadata": {
        "colab": {
          "base_uri": "https://localhost:8080/"
        },
        "id": "J6CTsP0aJVkF",
        "outputId": "f4898412-8b44-42c2-b02d-93a5192b484d"
      },
      "execution_count": 45,
      "outputs": [
        {
          "output_type": "stream",
          "name": "stdout",
          "text": [
            "Epoch [1/5]. Step [1/782]. Loss: 0.036\n",
            "Epoch [1/5]. Step [301/782]. Loss: 0.036\n",
            "Epoch [1/5]. Step [601/782]. Loss: 0.036\n",
            "Epoch [2/5]. Step [1/782]. Loss: 0.036\n",
            "Epoch [2/5]. Step [301/782]. Loss: 0.036\n",
            "Epoch [2/5]. Step [601/782]. Loss: 0.036\n",
            "Epoch [3/5]. Step [1/782]. Loss: 0.036\n",
            "Epoch [3/5]. Step [301/782]. Loss: 0.036\n",
            "Epoch [3/5]. Step [601/782]. Loss: 0.036\n",
            "Epoch [4/5]. Step [1/782]. Loss: 0.036\n",
            "Epoch [4/5]. Step [301/782]. Loss: 0.036\n",
            "Epoch [4/5]. Step [601/782]. Loss: 0.036\n",
            "Epoch [5/5]. Step [1/782]. Loss: 0.036\n",
            "Epoch [5/5]. Step [301/782]. Loss: 0.036\n",
            "Epoch [5/5]. Step [601/782]. Loss: 0.036\n",
            "Training is finished!\n"
          ]
        }
      ]
    },
    {
      "cell_type": "markdown",
      "source": [
        "Обучение вообще не происходит"
      ],
      "metadata": {
        "id": "r-9JQBTXBj9M"
      }
    },
    {
      "cell_type": "markdown",
      "source": [
        "Я перепробовал кучу вариантов, с увеличением слоев, но это не улучшало метрику. 4 слоя выглядят оптимальными."
      ],
      "metadata": {
        "id": "999bAOBuBojU"
      }
    },
    {
      "cell_type": "markdown",
      "source": [
        "Чтобы не забивать ноутбук всеми своими экспериментами, выкладываю ниже только модель, которая выполнила поставленную задачу. \n",
        "Это 4 линейных слоя  с тем же количеством нейронов, что и у модели на уроке, но в качестве оптимизатора использован Адам с lr=0.005, обучалась модель на 10 эпохах."
      ],
      "metadata": {
        "id": "P_MuGhT-Bwld"
      }
    },
    {
      "cell_type": "code",
      "source": [
        "from torch import nn\n",
        "import torch.nn.functional as F\n",
        "\n",
        "\n",
        "class Net(nn.Module):\n",
        "    def __init__(self, input_dim, hidden_dim, output_dim):\n",
        "        super().__init__()\n",
        "        self.fc1 = nn.Linear(input_dim, 4 * hidden_dim)\n",
        "        self.fc2 = nn.Linear(4 * hidden_dim,  2 * hidden_dim)\n",
        "        self.fc3 = nn.Linear(2 * hidden_dim, hidden_dim)\n",
        "        self.fc4 = nn.Linear(hidden_dim, output_dim)\n",
        "\n",
        "    def forward(self, x):\n",
        "        x = x.view(x.shape[0], -1)\n",
        "        x = self.fc1(x)\n",
        "        x = F.leaky_relu(x)\n",
        "        x = self.fc2(x)\n",
        "        x = F.leaky_relu(x)\n",
        "        x = self.fc3(x)\n",
        "        x = F.leaky_relu(x)\n",
        "        x = self.fc4(x)\n",
        "        return x\n",
        "\n",
        "net = Net(3072, 100, 10)\n",
        "net.train()"
      ],
      "metadata": {
        "colab": {
          "base_uri": "https://localhost:8080/"
        },
        "id": "aRg04ZXz5vpy",
        "outputId": "bccd92e4-eacb-4417-c45a-0d9dd4a6bd62"
      },
      "execution_count": 108,
      "outputs": [
        {
          "output_type": "execute_result",
          "data": {
            "text/plain": [
              "Net(\n",
              "  (fc1): Linear(in_features=3072, out_features=400, bias=True)\n",
              "  (fc2): Linear(in_features=400, out_features=200, bias=True)\n",
              "  (fc3): Linear(in_features=200, out_features=100, bias=True)\n",
              "  (fc4): Linear(in_features=100, out_features=10, bias=True)\n",
              ")"
            ]
          },
          "metadata": {},
          "execution_count": 108
        }
      ]
    },
    {
      "cell_type": "code",
      "source": [
        "criterion = nn.CrossEntropyLoss()\n",
        "optimizer = optim.Adam(net.parameters(), lr=0.005)"
      ],
      "metadata": {
        "id": "sUwIWwqx5vr-"
      },
      "execution_count": 109,
      "outputs": []
    },
    {
      "cell_type": "code",
      "source": [
        "num_epochs = 10\n",
        "\n",
        "for epoch in range(num_epochs):\n",
        "    running_loss = 0.0\n",
        "    running_items = 0.0\n",
        "\n",
        "\n",
        "    for i, data in enumerate(train_loader):\n",
        "        inputs, labels = data[0], data[1]\n",
        "\n",
        "        # Обнуляем градиент\n",
        "        optimizer.zero_grad()\n",
        "        # Делаем предсказание\n",
        "        outputs = net(inputs)\n",
        "        # Рассчитываем лосс-функцию\n",
        "        loss = criterion(outputs.squeeze(), labels)\n",
        "        # Делаем шаг назад по лоссу\n",
        "        loss.backward()\n",
        "        # Делаем шаг нашего оптимайзера\n",
        "        optimizer.step()\n",
        "\n",
        "        # выводим статистику о процессе обучения\n",
        "        running_loss += loss.item()\n",
        "        running_items += len(labels)\n",
        "        if i % 300 == 0:    # печатаем каждые 300 mini-batches\n",
        "            print(f'Epoch [{epoch + 1}/{num_epochs}]. ' \\\n",
        "                  f'Step [{i + 1}/{len(train_loader)}]. ' \\\n",
        "                  f'Loss: {running_loss / running_items:.3f}')\n",
        "            running_loss, running_items = 0.0, 0.0\n",
        "\n",
        "print('Training is finished!')"
      ],
      "metadata": {
        "colab": {
          "base_uri": "https://localhost:8080/"
        },
        "id": "HSuiTRH05vuP",
        "outputId": "ef462cc2-3cfd-4805-9dcd-26ca1451b623"
      },
      "execution_count": 110,
      "outputs": [
        {
          "output_type": "stream",
          "name": "stdout",
          "text": [
            "Epoch [1/10]. Step [1/782]. Loss: 0.036\n",
            "Epoch [1/10]. Step [301/782]. Loss: 0.033\n",
            "Epoch [1/10]. Step [601/782]. Loss: 0.030\n",
            "Epoch [2/10]. Step [1/782]. Loss: 0.039\n",
            "Epoch [2/10]. Step [301/782]. Loss: 0.030\n",
            "Epoch [2/10]. Step [601/782]. Loss: 0.029\n",
            "Epoch [3/10]. Step [1/782]. Loss: 0.025\n",
            "Epoch [3/10]. Step [301/782]. Loss: 0.028\n",
            "Epoch [3/10]. Step [601/782]. Loss: 0.027\n",
            "Epoch [4/10]. Step [1/782]. Loss: 0.029\n",
            "Epoch [4/10]. Step [301/782]. Loss: 0.027\n",
            "Epoch [4/10]. Step [601/782]. Loss: 0.027\n",
            "Epoch [5/10]. Step [1/782]. Loss: 0.030\n",
            "Epoch [5/10]. Step [301/782]. Loss: 0.026\n",
            "Epoch [5/10]. Step [601/782]. Loss: 0.027\n",
            "Epoch [6/10]. Step [1/782]. Loss: 0.028\n",
            "Epoch [6/10]. Step [301/782]. Loss: 0.026\n",
            "Epoch [6/10]. Step [601/782]. Loss: 0.026\n",
            "Epoch [7/10]. Step [1/782]. Loss: 0.026\n",
            "Epoch [7/10]. Step [301/782]. Loss: 0.025\n",
            "Epoch [7/10]. Step [601/782]. Loss: 0.025\n",
            "Epoch [8/10]. Step [1/782]. Loss: 0.028\n",
            "Epoch [8/10]. Step [301/782]. Loss: 0.025\n",
            "Epoch [8/10]. Step [601/782]. Loss: 0.025\n",
            "Epoch [9/10]. Step [1/782]. Loss: 0.024\n",
            "Epoch [9/10]. Step [301/782]. Loss: 0.025\n",
            "Epoch [9/10]. Step [601/782]. Loss: 0.024\n",
            "Epoch [10/10]. Step [1/782]. Loss: 0.021\n",
            "Epoch [10/10]. Step [301/782]. Loss: 0.024\n",
            "Epoch [10/10]. Step [601/782]. Loss: 0.024\n",
            "Training is finished!\n"
          ]
        }
      ]
    },
    {
      "cell_type": "code",
      "source": [
        "data_iter = iter(test_loader)\n",
        "images, labels = data_iter.next()"
      ],
      "metadata": {
        "id": "yEU93MiM5v3D"
      },
      "execution_count": 111,
      "outputs": []
    },
    {
      "cell_type": "code",
      "source": [
        "net.eval()\n",
        "outputs = net(images)\n",
        "imgs = torchvision.utils.make_grid(images)\n",
        "plt.figure(figsize=(10, 5))\n",
        "plt.imshow(imgs.permute(1, 2, 0).numpy())\n",
        "print('GroundTruth: ', ' '.join(classes[labels[j]] for j in range(len(labels))))"
      ],
      "metadata": {
        "colab": {
          "base_uri": "https://localhost:8080/",
          "height": 142
        },
        "id": "7ppmpmfk5v5N",
        "outputId": "5432cff7-30d9-486e-dbfb-0afecfbf5150"
      },
      "execution_count": 112,
      "outputs": [
        {
          "output_type": "stream",
          "name": "stdout",
          "text": [
            "GroundTruth:  cat ship ship plane frog frog car frog\n"
          ]
        },
        {
          "output_type": "display_data",
          "data": {
            "text/plain": [
              "<Figure size 720x360 with 1 Axes>"
            ],
            "image/png": "[encoded data removed]"
          },
          "metadata": {
            "needs_background": "light"
          }
        }
      ]
    },
    {
      "cell_type": "code",
      "source": [
        "_, predicted = torch.max(outputs, 1)\n",
        "\n",
        "predicted"
      ],
      "metadata": {
        "colab": {
          "base_uri": "https://localhost:8080/"
        },
        "id": "JdvNudit7TCR",
        "outputId": "6d1d001e-9704-454a-8af3-26d53507b09c"
      },
      "execution_count": 113,
      "outputs": [
        {
          "output_type": "execute_result",
          "data": {
            "text/plain": [
              "tensor([8, 8, 8, 0, 4, 6, 3, 6])"
            ]
          },
          "metadata": {},
          "execution_count": 113
        }
      ]
    },
    {
      "cell_type": "code",
      "source": [
        "print('Predicted: ', ' '.join(classes[predicted[j]] for j in range(len(labels))))"
      ],
      "metadata": {
        "colab": {
          "base_uri": "https://localhost:8080/"
        },
        "id": "M2J7WCkz7TEx",
        "outputId": "3fad7cc7-f985-47da-9504-ce42abfb35f1"
      },
      "execution_count": 114,
      "outputs": [
        {
          "output_type": "stream",
          "name": "stdout",
          "text": [
            "Predicted:  ship ship ship plane deer frog cat frog\n"
          ]
        }
      ]
    },
    {
      "cell_type": "code",
      "source": [
        "import numpy as np\n",
        "\n",
        "gt = np.array([classes[labels[j]] for j in range(len(labels))])\n",
        "pred = np.array([classes[predicted[j]] for j in range(len(labels))])\n",
        "\n",
        "print(gt)\n",
        "print(pred)\n",
        "print(f'Accuracy is {(gt == pred).sum() / len(gt)}')"
      ],
      "metadata": {
        "colab": {
          "base_uri": "https://localhost:8080/"
        },
        "id": "MTn0ziGr7THH",
        "outputId": "bf877889-dcc8-4f96-fd5c-92678ca5e01c"
      },
      "execution_count": 115,
      "outputs": [
        {
          "output_type": "stream",
          "name": "stdout",
          "text": [
            "['cat' 'ship' 'ship' 'plane' 'frog' 'frog' 'car' 'frog']\n",
            "['ship' 'ship' 'ship' 'plane' 'deer' 'frog' 'cat' 'frog']\n",
            "Accuracy is 0.625\n"
          ]
        }
      ]
    },
    {
      "cell_type": "markdown",
      "source": [
        "Поставленная задача выполнена. 5 из 8 картинок модель классифицировала корректно"
      ],
      "metadata": {
        "id": "SrkH3c5KCb1z"
      }
    }
  ]
}