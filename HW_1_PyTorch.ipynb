{
  "cells": [
    {
      "cell_type": "code",
      "execution_count": 1,
      "metadata": {
        "id": "_CNZn_3CofVO"
      },
      "outputs": [],
      "source": [
        "import torch"
      ]
    },
    {
      "cell_type": "code",
      "execution_count": null,
      "metadata": {
        "id": "QGYTKAxeofVR"
      },
      "outputs": [],
      "source": [
        "# 1. Создайте случайный FloatTensor размера 3x4x5"
      ]
    },
    {
      "cell_type": "code",
      "source": [
        "a = torch.rand(3,4,5)\n",
        "a"
      ],
      "metadata": {
        "id": "g6ywp3KCUWwV",
        "outputId": "6cff3728-0d55-4f1d-c081-5e4811cf895e",
        "colab": {
          "base_uri": "https://localhost:8080/"
        }
      },
      "execution_count": 4,
      "outputs": [
        {
          "output_type": "execute_result",
          "data": {
            "text/plain": [
              "tensor([[[0.3967, 0.0212, 0.4033, 0.3140, 0.8961],\n",
              "         [0.3038, 0.8971, 0.0464, 0.2262, 0.4240],\n",
              "         [0.4407, 0.1330, 0.7424, 0.3144, 0.5404],\n",
              "         [0.0763, 0.3616, 0.1584, 0.9024, 0.0875]],\n",
              "\n",
              "        [[0.5483, 0.6905, 0.4540, 0.2948, 0.9079],\n",
              "         [0.1588, 0.8341, 0.0450, 0.1350, 0.0404],\n",
              "         [0.0348, 0.8359, 0.5758, 0.5633, 0.0915],\n",
              "         [0.9686, 0.6907, 0.2895, 0.1252, 0.9796]],\n",
              "\n",
              "        [[0.2475, 0.4041, 0.4372, 0.5443, 0.2275],\n",
              "         [0.6136, 0.9811, 0.0880, 0.2057, 0.8759],\n",
              "         [0.2951, 0.9073, 0.4146, 0.2233, 0.0455],\n",
              "         [0.1636, 0.1227, 0.2408, 0.7507, 0.1792]]])"
            ]
          },
          "metadata": {},
          "execution_count": 4
        }
      ]
    },
    {
      "cell_type": "code",
      "source": [
        "a.type()"
      ],
      "metadata": {
        "id": "m2NdjhDQU0yt",
        "outputId": "1dd14dd2-11bd-4498-a56d-e8aed7f9f21d",
        "colab": {
          "base_uri": "https://localhost:8080/",
          "height": 35
        }
      },
      "execution_count": 5,
      "outputs": [
        {
          "output_type": "execute_result",
          "data": {
            "text/plain": [
              "'torch.FloatTensor'"
            ],
            "application/vnd.google.colaboratory.intrinsic+json": {
              "type": "string"
            }
          },
          "metadata": {},
          "execution_count": 5
        }
      ]
    },
    {
      "cell_type": "code",
      "execution_count": null,
      "metadata": {
        "id": "7GV_q8DdofVV"
      },
      "outputs": [],
      "source": [
        "# 2. Выведите его форму (shape)"
      ]
    },
    {
      "cell_type": "code",
      "source": [
        "a.shape"
      ],
      "metadata": {
        "id": "99PlCVJgU61o",
        "outputId": "39c68b86-f4a0-4e49-da5a-d01d472648d0",
        "colab": {
          "base_uri": "https://localhost:8080/"
        }
      },
      "execution_count": 6,
      "outputs": [
        {
          "output_type": "execute_result",
          "data": {
            "text/plain": [
              "torch.Size([3, 4, 5])"
            ]
          },
          "metadata": {},
          "execution_count": 6
        }
      ]
    },
    {
      "cell_type": "code",
      "execution_count": null,
      "metadata": {
        "id": "f1OTy65FofVX"
      },
      "outputs": [],
      "source": [
        "# 3. Приведите его к форме 6х10"
      ]
    },
    {
      "cell_type": "code",
      "source": [
        "a = a.reshape(6,10)\n",
        "a"
      ],
      "metadata": {
        "id": "riX5U4zzU9Z4",
        "outputId": "d8205f5a-3fd8-46f7-fa53-d2b848a048c2",
        "colab": {
          "base_uri": "https://localhost:8080/"
        }
      },
      "execution_count": 18,
      "outputs": [
        {
          "output_type": "execute_result",
          "data": {
            "text/plain": [
              "tensor([[0.3967, 0.0212, 0.4033, 0.3140, 0.8961, 0.3038, 0.8971, 0.0464, 0.2262,\n",
              "         0.4240],\n",
              "        [0.4407, 0.1330, 0.7424, 0.3144, 0.5404, 0.0763, 0.3616, 0.1584, 0.9024,\n",
              "         0.0875],\n",
              "        [0.5483, 0.6905, 0.4540, 0.2948, 0.9079, 0.1588, 0.8341, 0.0450, 0.1350,\n",
              "         0.0404],\n",
              "        [0.0348, 0.8359, 0.5758, 0.5633, 0.0915, 0.9686, 0.6907, 0.2895, 0.1252,\n",
              "         0.9796],\n",
              "        [0.2475, 0.4041, 0.4372, 0.5443, 0.2275, 0.6136, 0.9811, 0.0880, 0.2057,\n",
              "         0.8759],\n",
              "        [0.2951, 0.9073, 0.4146, 0.2233, 0.0455, 0.1636, 0.1227, 0.2408, 0.7507,\n",
              "         0.1792]])"
            ]
          },
          "metadata": {},
          "execution_count": 18
        }
      ]
    },
    {
      "cell_type": "code",
      "execution_count": null,
      "metadata": {
        "id": "BEVOv9_TofVe"
      },
      "outputs": [],
      "source": [
        "# 4. Создайте случайный IntTensor размера 10"
      ]
    },
    {
      "cell_type": "code",
      "source": [
        "b = torch.IntTensor(10)\n",
        "b"
      ],
      "metadata": {
        "id": "4n6hMI9JVC4N",
        "outputId": "418f8b6e-cefa-4f95-ca4b-7ecfa53aeed5",
        "colab": {
          "base_uri": "https://localhost:8080/"
        }
      },
      "execution_count": 13,
      "outputs": [
        {
          "output_type": "execute_result",
          "data": {
            "text/plain": [
              "tensor([ 725800704,      21919,         27,          0,         -1,          0,\n",
              "         678913390, 1142959146, 1667855973, 1679834981], dtype=torch.int32)"
            ]
          },
          "metadata": {},
          "execution_count": 13
        }
      ]
    },
    {
      "cell_type": "code",
      "source": [
        "b.size()"
      ],
      "metadata": {
        "id": "_DBar2uKqO7Q",
        "outputId": "f545384f-d8ed-42bc-bbd1-338f5a44f5b4",
        "colab": {
          "base_uri": "https://localhost:8080/"
        }
      },
      "execution_count": 14,
      "outputs": [
        {
          "output_type": "execute_result",
          "data": {
            "text/plain": [
              "torch.Size([10])"
            ]
          },
          "metadata": {},
          "execution_count": 14
        }
      ]
    },
    {
      "cell_type": "code",
      "source": [
        "# 5. Умножьте созданный FloatTensor на созданный IntTensor поэлементно"
      ],
      "metadata": {
        "id": "TAX3DUiSa07K"
      },
      "execution_count": null,
      "outputs": []
    },
    {
      "cell_type": "code",
      "source": [
        "c = a * b\n",
        "c"
      ],
      "metadata": {
        "id": "AI3IgUsjqTa1",
        "outputId": "63922824-6112-4853-b890-dfd58364684a",
        "colab": {
          "base_uri": "https://localhost:8080/"
        }
      },
      "execution_count": 22,
      "outputs": [
        {
          "output_type": "execute_result",
          "data": {
            "text/plain": [
              "tensor([[ 2.8789e+08,  4.6395e+02,  1.0889e+01,  0.0000e+00, -8.9605e-01,\n",
              "          0.0000e+00,  6.0908e+08,  5.2988e+07,  3.7723e+08,  7.1219e+08],\n",
              "        [ 3.1986e+08,  2.9155e+03,  2.0045e+01,  0.0000e+00, -5.4037e-01,\n",
              "          0.0000e+00,  2.4550e+08,  1.8106e+08,  1.5051e+09,  1.4704e+08],\n",
              "        [ 3.9798e+08,  1.5135e+04,  1.2258e+01,  0.0000e+00, -9.0785e-01,\n",
              "          0.0000e+00,  5.6628e+08,  5.1472e+07,  2.2520e+08,  6.7897e+07],\n",
              "        [ 2.5289e+07,  1.8322e+04,  1.5546e+01,  0.0000e+00, -9.1513e-02,\n",
              "          0.0000e+00,  4.6894e+08,  3.3089e+08,  2.0876e+08,  1.6455e+09],\n",
              "        [ 1.7964e+08,  8.8580e+03,  1.1804e+01,  0.0000e+00, -2.2750e-01,\n",
              "          0.0000e+00,  6.6608e+08,  1.0057e+08,  3.4313e+08,  1.4714e+09],\n",
              "        [ 2.1415e+08,  1.9888e+04,  1.1193e+01,  0.0000e+00, -4.5500e-02,\n",
              "          0.0000e+00,  8.3300e+07,  2.7517e+08,  1.2520e+09,  3.0107e+08]])"
            ]
          },
          "metadata": {},
          "execution_count": 22
        }
      ]
    },
    {
      "cell_type": "code",
      "source": [
        "# 6. Умножьте тензор матрично на себя, чтобы результат был размерности 6x6\n",
        "# Подсказка: .dot может не подойти"
      ],
      "metadata": {
        "id": "KYvLCrG-1HEz"
      },
      "execution_count": null,
      "outputs": []
    },
    {
      "cell_type": "code",
      "source": [
        "d = c @ c.T\n",
        "d"
      ],
      "metadata": {
        "id": "PoMuUr5dtQ4r",
        "outputId": "31de1b27-ad0f-4cbd-cd59-739b7426f345",
        "colab": {
          "base_uri": "https://localhost:8080/"
        }
      },
      "execution_count": 46,
      "outputs": [
        {
          "output_type": "execute_result",
          "data": {
            "text/plain": [
              "tensor([[1.1062e+18, 9.2368e+17, 5.9552e+17, 1.5611e+18, 1.6401e+18, 8.1368e+17],\n",
              "        [9.2368e+17, 2.4822e+18, 6.2456e+17, 7.3927e+17, 9.7196e+17, 2.0674e+18],\n",
              "        [5.9552e+17, 6.2456e+17, 5.3704e+17, 4.5139e+17, 6.3103e+17, 4.4895e+17],\n",
              "        [1.5611e+18, 7.3927e+17, 4.5139e+17, 3.0814e+18, 2.8430e+18, 8.9232e+17],\n",
              "        [1.6401e+18, 9.7196e+17, 6.3103e+17, 2.8430e+18, 2.7687e+18, 9.9421e+17],\n",
              "        [8.1368e+17, 2.0674e+18, 4.4895e+17, 8.9232e+17, 9.9421e+17, 1.7866e+18]])"
            ]
          },
          "metadata": {},
          "execution_count": 46
        }
      ]
    },
    {
      "cell_type": "code",
      "source": [
        "d.size()"
      ],
      "metadata": {
        "id": "lj-nW-m2tvOk",
        "outputId": "b4348250-6dd7-4ebd-d619-a4af4fc01d9d",
        "colab": {
          "base_uri": "https://localhost:8080/"
        }
      },
      "execution_count": 47,
      "outputs": [
        {
          "output_type": "execute_result",
          "data": {
            "text/plain": [
              "torch.Size([6, 6])"
            ]
          },
          "metadata": {},
          "execution_count": 47
        }
      ]
    },
    {
      "cell_type": "markdown",
      "source": [
        "Второй способ"
      ],
      "metadata": {
        "id": "3bFeszy-uO3V"
      }
    },
    {
      "cell_type": "code",
      "source": [
        "d = torch.matmul(c, c.T)\n",
        "d"
      ],
      "metadata": {
        "id": "WxYFFmijuBXD",
        "outputId": "9a90a132-f8e6-42b3-cb98-b7a79e8eb953",
        "colab": {
          "base_uri": "https://localhost:8080/"
        }
      },
      "execution_count": 51,
      "outputs": [
        {
          "output_type": "execute_result",
          "data": {
            "text/plain": [
              "tensor([[1.1062e+18, 9.2368e+17, 5.9552e+17, 1.5611e+18, 1.6401e+18, 8.1368e+17],\n",
              "        [9.2368e+17, 2.4822e+18, 6.2456e+17, 7.3927e+17, 9.7196e+17, 2.0674e+18],\n",
              "        [5.9552e+17, 6.2456e+17, 5.3704e+17, 4.5139e+17, 6.3103e+17, 4.4895e+17],\n",
              "        [1.5611e+18, 7.3927e+17, 4.5139e+17, 3.0814e+18, 2.8430e+18, 8.9232e+17],\n",
              "        [1.6401e+18, 9.7196e+17, 6.3103e+17, 2.8430e+18, 2.7687e+18, 9.9421e+17],\n",
              "        [8.1368e+17, 2.0674e+18, 4.4895e+17, 8.9232e+17, 9.9421e+17, 1.7866e+18]])"
            ]
          },
          "metadata": {},
          "execution_count": 51
        }
      ]
    },
    {
      "cell_type": "code",
      "source": [
        "d.size()"
      ],
      "metadata": {
        "id": "hyQJ1P6wuVKq",
        "outputId": "581fc968-a338-43a7-af62-ed4baae9ecee",
        "colab": {
          "base_uri": "https://localhost:8080/"
        }
      },
      "execution_count": 52,
      "outputs": [
        {
          "output_type": "execute_result",
          "data": {
            "text/plain": [
              "torch.Size([6, 6])"
            ]
          },
          "metadata": {},
          "execution_count": 52
        }
      ]
    },
    {
      "cell_type": "code",
      "execution_count": null,
      "metadata": {
        "id": "u3V6CsNkofVj"
      },
      "outputs": [],
      "source": [
        "# 7. Посчитайте производную функции y = x**3 + z - 75t в точке (1, 0.5, 2)"
      ]
    },
    {
      "cell_type": "markdown",
      "source": [
        "т.к. в функции 3 переменных, можем найти их частные производные"
      ],
      "metadata": {
        "id": "C9y70SRVzE3X"
      }
    },
    {
      "cell_type": "markdown",
      "source": [
        "Частная производная по x"
      ],
      "metadata": {
        "id": "BHt3zX3OzRL6"
      }
    },
    {
      "cell_type": "code",
      "source": [
        "y_x = 3 * x + 0 - 0 = 3 * 1 = 3"
      ],
      "metadata": {
        "id": "ghsYe9PUzNm_"
      },
      "execution_count": null,
      "outputs": []
    },
    {
      "cell_type": "markdown",
      "source": [
        "Частная производная по z"
      ],
      "metadata": {
        "id": "HFH6o-R1zgwW"
      }
    },
    {
      "cell_type": "code",
      "source": [
        "y_z = 0 + 1 - 0 = 1"
      ],
      "metadata": {
        "id": "1IEj1-6VzcPa"
      },
      "execution_count": null,
      "outputs": []
    },
    {
      "cell_type": "markdown",
      "source": [
        "Частная производная по t"
      ],
      "metadata": {
        "id": "tbBLdVgpzsXb"
      }
    },
    {
      "cell_type": "code",
      "source": [
        "y_t = 0 + 0 - 75 = -75"
      ],
      "metadata": {
        "id": "XYuK7zTwz2EB"
      },
      "execution_count": null,
      "outputs": []
    },
    {
      "cell_type": "markdown",
      "source": [
        "Почитаем градиенты с помощью инструментов pytorch"
      ],
      "metadata": {
        "id": "XChxlTfuz_vu"
      }
    },
    {
      "cell_type": "code",
      "source": [
        "x = torch.tensor([1.0], requires_grad=True)\n",
        "z = torch.tensor([0.5], requires_grad=True)\n",
        "t = torch.tensor([2.0], requires_grad=True)"
      ],
      "metadata": {
        "id": "5OV7VrehvamP"
      },
      "execution_count": 71,
      "outputs": []
    },
    {
      "cell_type": "code",
      "source": [
        "y = x**3 + z - 75*t"
      ],
      "metadata": {
        "id": "1vhYfNvHuYiP"
      },
      "execution_count": 72,
      "outputs": []
    },
    {
      "cell_type": "code",
      "source": [
        "y.backward(x, z, t)\n"
      ],
      "metadata": {
        "id": "JUpT4MuiuYp6"
      },
      "execution_count": 73,
      "outputs": []
    },
    {
      "cell_type": "code",
      "source": [
        "print(f'x_grad = {x.grad}')\n",
        "print(f'z_grad = {z.grad}')\n",
        "print(f't_grad = {t.grad}')"
      ],
      "metadata": {
        "id": "-ksLMWeIyHEb",
        "outputId": "8395a5ad-d650-419d-c28a-aabdfc6be30d",
        "colab": {
          "base_uri": "https://localhost:8080/"
        }
      },
      "execution_count": 80,
      "outputs": [
        {
          "output_type": "stream",
          "name": "stdout",
          "text": [
            "x_grad = tensor([3.], grad_fn=<CopyBackwards>)\n",
            "z_grad = tensor([1.], grad_fn=<CopyBackwards>)\n",
            "t_grad = tensor([-75.], grad_fn=<CopyBackwards>)\n"
          ]
        }
      ]
    },
    {
      "cell_type": "code",
      "execution_count": null,
      "metadata": {
        "id": "FzH6QkyxofVm"
      },
      "outputs": [],
      "source": [
        "# 8. Создайте единичный тензор размера 5x6"
      ]
    },
    {
      "cell_type": "code",
      "source": [
        "e = torch.ones((5,6))\n",
        "e"
      ],
      "metadata": {
        "id": "COl6hHMx0JBX",
        "outputId": "1a13e59f-2759-4fe0-9a36-71d473e29464",
        "colab": {
          "base_uri": "https://localhost:8080/"
        }
      },
      "execution_count": 87,
      "outputs": [
        {
          "output_type": "execute_result",
          "data": {
            "text/plain": [
              "tensor([[1., 1., 1., 1., 1., 1.],\n",
              "        [1., 1., 1., 1., 1., 1.],\n",
              "        [1., 1., 1., 1., 1., 1.],\n",
              "        [1., 1., 1., 1., 1., 1.],\n",
              "        [1., 1., 1., 1., 1., 1.]])"
            ]
          },
          "metadata": {},
          "execution_count": 87
        }
      ]
    },
    {
      "cell_type": "code",
      "execution_count": null,
      "metadata": {
        "id": "z49ttvWPofVo"
      },
      "outputs": [],
      "source": [
        "# 9. Переведите его в формат numpy"
      ]
    },
    {
      "cell_type": "code",
      "source": [
        "e.type()"
      ],
      "metadata": {
        "id": "CZOLTH5Q0ooi",
        "outputId": "f5e13fe8-9c5e-4df6-fb8c-07bbf988abbd",
        "colab": {
          "base_uri": "https://localhost:8080/",
          "height": 35
        }
      },
      "execution_count": 88,
      "outputs": [
        {
          "output_type": "execute_result",
          "data": {
            "text/plain": [
              "'torch.FloatTensor'"
            ],
            "application/vnd.google.colaboratory.intrinsic+json": {
              "type": "string"
            }
          },
          "metadata": {},
          "execution_count": 88
        }
      ]
    },
    {
      "cell_type": "code",
      "source": [
        "e = e.numpy()\n",
        "e"
      ],
      "metadata": {
        "id": "pSQMVa-t0cHF",
        "outputId": "e37cde85-4441-4f13-f838-8365c4b5ce57",
        "colab": {
          "base_uri": "https://localhost:8080/"
        }
      },
      "execution_count": 89,
      "outputs": [
        {
          "output_type": "execute_result",
          "data": {
            "text/plain": [
              "array([[1., 1., 1., 1., 1., 1.],\n",
              "       [1., 1., 1., 1., 1., 1.],\n",
              "       [1., 1., 1., 1., 1., 1.],\n",
              "       [1., 1., 1., 1., 1., 1.],\n",
              "       [1., 1., 1., 1., 1., 1.]], dtype=float32)"
            ]
          },
          "metadata": {},
          "execution_count": 89
        }
      ]
    },
    {
      "cell_type": "code",
      "source": [
        "type(e)"
      ],
      "metadata": {
        "id": "6PTr3NeO0tAM",
        "outputId": "1d219cd3-6c3c-4ee4-9880-b8bde63de5a9",
        "colab": {
          "base_uri": "https://localhost:8080/"
        }
      },
      "execution_count": 92,
      "outputs": [
        {
          "output_type": "execute_result",
          "data": {
            "text/plain": [
              "numpy.ndarray"
            ]
          },
          "metadata": {},
          "execution_count": 92
        }
      ]
    }
  ],
  "metadata": {
    "kernelspec": {
      "display_name": "Python 3",
      "language": "python",
      "name": "python3"
    },
    "language_info": {
      "codemirror_mode": {
        "name": "ipython",
        "version": 3
      },
      "file_extension": ".py",
      "mimetype": "text/x-python",
      "name": "python",
      "nbconvert_exporter": "python",
      "pygments_lexer": "ipython3",
      "version": "3.7.4"
    },
    "colab": {
      "name": "HW_1.ipynb",
      "provenance": [],
      "collapsed_sections": []
    }
  },
  "nbformat": 4,
  "nbformat_minor": 0
}