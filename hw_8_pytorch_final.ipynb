{
  "nbformat": 4,
  "nbformat_minor": 0,
  "metadata": {
    "colab": {
      "name": "hw_8_pytorch_final.ipynb",
      "provenance": [],
      "collapsed_sections": []
    },
    "kernelspec": {
      "name": "python3",
      "display_name": "Python 3"
    },
    "language_info": {
      "name": "python"
    }
  },
  "cells": [
    {
      "cell_type": "code",
      "execution_count": 1,
      "metadata": {
        "id": "_0TpGTr-jpmK"
      },
      "outputs": [],
      "source": [
        "import torch\n",
        "import numpy as np\n",
        "\n",
        "from IPython import display\n",
        "from torch import nn\n",
        "from matplotlib import pyplot as plt"
      ]
    },
    {
      "cell_type": "code",
      "source": [
        "device = 'cuda' if torch.cuda.is_available() else 'cpu'"
      ],
      "metadata": {
        "id": "_siXy8wOjsIr"
      },
      "execution_count": 8,
      "outputs": []
    },
    {
      "cell_type": "code",
      "source": [
        "class RealDataDataset(torch.nn.Module):\n",
        "    def create_dataset(self, start=1, end=200, amount=5000):\n",
        "        x = torch.linspace(start=start, end=end, steps=amount, dtype=torch.float32)\n",
        "        return x, torch.sin(x) / x - x / 10\n",
        "\n",
        "    def __init__(self, start=1, end=200, amount=5000):\n",
        "        self.data = self.create_dataset(start, end, amount)\n",
        "    \n",
        "    def __getitem__(self, indx):\n",
        "        return self.data[0][indx], self.data[1][indx]\n",
        "    \n",
        "    def __len__(self):\n",
        "        return self.data[0].shape[0]"
      ],
      "metadata": {
        "id": "G5KzxmeRjvwj"
      },
      "execution_count": 9,
      "outputs": []
    },
    {
      "cell_type": "code",
      "source": [
        "class Generator(nn.Module):\n",
        "    def __init__(self, latent_dim):\n",
        "        super().__init__()\n",
        "        \n",
        "        # Использование таких словарей позволяет нам варьировать параметры нашей сети в процессе использования\n",
        "        self.activations = nn.ModuleDict([\n",
        "            ['lrelu', nn.LeakyReLU(0.4, inplace=True)],\n",
        "            ['relu', nn.ReLU()],\n",
        "            ['sigmoid', nn.Sigmoid()],\n",
        "            ['htang', nn.Tanh()]\n",
        "            \n",
        "        ])\n",
        "        \n",
        "        def block(in_feat, out_feat, normalize=True, activation='relu'):\n",
        "            lin = nn.Linear(in_feat, out_feat)\n",
        "            torch.nn.init.kaiming_normal_(lin.weight)\n",
        "            \n",
        "            layers = [lin]  # Если мы создаем последовательность слоев - то мы задаем их\n",
        "                                                     # с помощью списка.\n",
        "            if normalize:\n",
        "                layers.append(nn.BatchNorm1d(out_feat))\n",
        "            layers.append(self.activations[activation])  # Эта строчка означает тоже самое что и\n",
        "                                                         # layers.append(nn.LeakyReLU(0.2, inplace=True))\n",
        "            return layers\n",
        "\n",
        "        self.model = nn.Sequential(\n",
        "            *block(latent_dim, 128, normalize=False),  # Звездочка означает unpacking списка  \n",
        "            *block(128, 256, activation='lrelu'),\n",
        "            *block(256, 512, activation='lrelu'),\n",
        "            *block(512, 1024, activation='lrelu'),\n",
        "            *block(1024, 512, activation='lrelu'),\n",
        "            *block(512, 256, activation='lrelu'),\n",
        "            *block(256, 128, activation='lrelu'),\n",
        "            *block(128, 64, activation='lrelu'),\n",
        "            *block(64, 32, activation='lrelu'),\n",
        "            *block(32, 2, activation='lrelu', normalize=False),\n",
        "\n",
        "        )\n",
        "\n",
        "    def forward(self, x):\n",
        "        return self.model(x)"
      ],
      "metadata": {
        "id": "Y0pAX5GJjwl6"
      },
      "execution_count": 10,
      "outputs": []
    },
    {
      "cell_type": "code",
      "source": [
        "class Discriminator(nn.Module):\n",
        "    def __init__(self):\n",
        "        super().__init__()\n",
        "\n",
        "        self.model = nn.Sequential(\n",
        "            nn.Linear(2, 64),\n",
        "            nn.LeakyReLU(0.2, inplace=True),\n",
        "\n",
        "            nn.Linear(64, 128),\n",
        "            nn.LeakyReLU(0.2, inplace=True),\n",
        "            \n",
        "            \n",
        "            nn.Linear(128, 256),\n",
        "            nn.LeakyReLU(0.2, inplace=True),\n",
        "            \n",
        "            nn.Linear(256, 128),\n",
        "            nn.LeakyReLU(0.2, inplace=True),\n",
        "            \n",
        "            nn.Linear(128, 64),\n",
        "            nn.LeakyReLU(0.2, inplace=True),\n",
        "            \n",
        "            nn.Linear(64, 1),\n",
        "            nn.Sigmoid(),\n",
        "        )\n",
        "  \n",
        "\n",
        "    def forward(self, x):\n",
        "#         x = x.view(-1, 1)\n",
        "        return self.model(x)"
      ],
      "metadata": {
        "id": "qIkg6ETjj-E_"
      },
      "execution_count": 11,
      "outputs": []
    },
    {
      "cell_type": "code",
      "source": [
        "def plot_batch(true_batch, gen_batch):\n",
        "    (true_x, true_y), (gen_x, gen_y) = true_batch, gen_batch\n",
        "    true_x, true_y, gen_x, gen_y = true_x.cpu().detach(), true_y.cpu().detach(), gen_x.cpu().detach(), gen_y.cpu().detach()\n",
        "    \n",
        "    plt.figure(figsize=(16, 9))\n",
        "    plt.plot(true_x, true_y,'-o', c='blue')\n",
        "    plt.plot(gen_x, gen_y,'o', c='green')\n",
        "    plt.show()"
      ],
      "metadata": {
        "id": "-5GCE0ROj-HZ"
      },
      "execution_count": 12,
      "outputs": []
    },
    {
      "cell_type": "code",
      "source": [
        "import matplotlib.patches as mpatches\n",
        "\n",
        "n_epochs = 300  # количество эпох\n",
        "lr = 0.002 # шаг обучения\n",
        "batch_size = 2000\n",
        "latent_dim = 100  # Размерность случайного вектора, который подается на вход генератору\n",
        "b1 = 0.5  # гиперпараметр для оптимайзера Adam\n",
        "b2 = 0.999  # гиперпараметр для оптимайзера Adam\n",
        "\n",
        "real_dataset = RealDataDataset(start=-20, end=20, amount=6000)\n",
        "real_data = torch.utils.data.DataLoader(dataset=real_dataset, batch_size=batch_size)\n",
        "\n",
        "generator = Generator(latent_dim=latent_dim).to(device)\n",
        "discriminator = Discriminator().to(device)\n",
        "generator.train()\n",
        "discriminator.train()\n",
        "\n",
        "# Для каждой нейронки свой опитимизатор\n",
        "optimizer_G = torch.optim.Adam(\n",
        "    generator.parameters(),\n",
        "    lr=lr,\n",
        "    betas=(b1, b2)\n",
        ")\n",
        "optimizer_D = torch.optim.Adam(\n",
        "    discriminator.parameters(), \n",
        "    lr=lr,\n",
        "    betas=(b1, b2)\n",
        ")\n",
        "\n",
        "# Но вот функция ошибки у нас будет одна общая\n",
        "adversarial_loss = torch.nn.BCELoss()\n",
        "\n",
        "d_loss_history = []\n",
        "g_loss_history = []\n",
        "\n",
        "\n",
        "def get_noize(since=-20, to=20):\n",
        "    return torch.FloatTensor(np.random.uniform(-20, 20, (batch_size, latent_dim)))\n",
        "\n",
        "for epoch in range(n_epochs):\n",
        "    for i, (x, y) in enumerate(real_data):\n",
        "        \n",
        "##################### Лейблы для данных: 1 - настоящие, 0 - сгенерированные ########\n",
        "        valid = torch.FloatTensor(batch_size, 1).fill_(1.0).to(device)\n",
        "        fake = torch.FloatTensor(batch_size, 1).fill_(0.0).to(device)\n",
        "        \n",
        "        real_xy = torch.stack([x, y], dim=1).to(device)\n",
        "        \n",
        "        # Генерация шума\n",
        "        z = get_noize().to(device)\n",
        "        \n",
        "        # Генерируем данные Генератором на основе шума\n",
        "        gen_x = generator(z)\n",
        "        \n",
        "######################  Тренировка дискриминатора    ##########################\n",
        "        \n",
        "        # Получаем предсказания дискриминатора на основе реальных данных\n",
        "        real_pred = discriminator(real_xy)\n",
        "        \n",
        "        # Тут сравниваем предсказанные значения Дискриминатора(на основе настоящих данных) с настоящими\n",
        "        d_real_loss = adversarial_loss(real_pred, valid)\n",
        "        \n",
        "        # Подаем сгенерированые данные на Дискриминатор \n",
        "        fake_pred = discriminator(gen_x)\n",
        "        \n",
        "        # расчитываем ошибку предсказанного с фейковыми лейблами\n",
        "        d_fake_loss = adversarial_loss(fake_pred, fake)\n",
        "        \n",
        "        # И усредняем два лосса в один\n",
        "        d_loss = (d_real_loss + d_fake_loss) / 2\n",
        "\n",
        "        optimizer_D.zero_grad()\n",
        "        d_loss.backward()\n",
        "        optimizer_D.step()\n",
        "\n",
        "######################  Тренировка генератора    ##########################\n",
        "        \n",
        "        # генерация шума\n",
        "        z = get_noize().to(device)\n",
        "        \n",
        "        # Генерируем данные Генератором на основе шума\n",
        "        gen_x = generator(z)\n",
        "\n",
        "        # Подаем сгенерированые данные на Дискриминатор \n",
        "        fake_pred = discriminator(gen_x)\n",
        "    \n",
        "        # Тут сравниваем предсказанные значения Дискриминатора (на основе сгенерировнных данных) с настоящими\n",
        "        g_loss = adversarial_loss(fake_pred, valid)\n",
        "        \n",
        "        # Делаем шаг обучения нашего Генератора\n",
        "        optimizer_G.zero_grad()\n",
        "        g_loss.backward()\n",
        "        optimizer_G.step()\n",
        "        \n",
        "    if not epoch % 5:\n",
        "        with torch.no_grad():\n",
        "            print(f\"[Epoch {epoch}/{n_epochs}] [Batch {i}/{len(real_data)}]\", end='|')\n",
        "            print(f'[D loss: {d_loss.item()}] [G loss: {g_loss.item()}]') \n",
        "            d_loss = d_loss.cpu().detach()\n",
        "            g_loss = g_loss.cpu().detach()\n",
        "\n",
        "\n",
        "            d_loss_history.append(d_loss)\n",
        "            g_loss_history.append(g_loss)\n",
        "\n",
        "######## Отображение процесса обучения и вывод функций потерь ############\n",
        "    if not epoch % 150:\n",
        "        with torch.no_grad():\n",
        "            plt.clf()\n",
        "            display.clear_output(wait=False)\n",
        "            \n",
        "            gen_data = generator(get_noize().to(device))\n",
        "      \n",
        "            plot_batch((real_dataset.data[0], real_dataset.data[1]), (gen_data[:,0], gen_data[:,1]))\n",
        "\n",
        "            plt.plot(np.array(d_loss_history), label='D loss')\n",
        "            plt.plot(np.array(g_loss_history), label='G loss')\n",
        "            plt.legend()\n",
        "            plt.show()  "
      ],
      "metadata": {
        "colab": {
          "base_uri": "https://localhost:8080/",
          "height": 1000
        },
        "id": "6Ds81dk6j-J7",
        "outputId": "315369ba-7d69-4590-fb46-dcab13315af4"
      },
      "execution_count": 13,
      "outputs": [
        {
          "output_type": "display_data",
          "data": {
            "text/plain": [
              "<Figure size 432x288 with 0 Axes>"
            ]
          },
          "metadata": {}
        },
        {
          "output_type": "display_data",
          "data": {
            "text/plain": [
              "<Figure size 1152x648 with 1 Axes>"
            ],
            "image/png": "[encoded data removed]"
          },
          "metadata": {
            "needs_background": "light"
          }
        },
        {
          "output_type": "display_data",
          "data": {
            "text/plain": [
              "<Figure size 432x288 with 1 Axes>"
            ],
            "image/png": "[encoded data removed]"
          },
          "metadata": {
            "needs_background": "light"
          }
        },
        {
          "output_type": "stream",
          "name": "stdout",
          "text": [
            "[Epoch 155/300] [Batch 2/3]|[D loss: 0.7482693195343018] [G loss: 0.7337746024131775]\n",
            "[Epoch 160/300] [Batch 2/3]|[D loss: 0.7458727955818176] [G loss: 0.7312427759170532]\n",
            "[Epoch 165/300] [Batch 2/3]|[D loss: 0.743578314781189] [G loss: 0.7305158972740173]\n",
            "[Epoch 170/300] [Batch 2/3]|[D loss: 0.7419836521148682] [G loss: 0.7287006378173828]\n",
            "[Epoch 175/300] [Batch 2/3]|[D loss: 0.7402437925338745] [G loss: 0.7268444299697876]\n",
            "[Epoch 180/300] [Batch 2/3]|[D loss: 0.737933874130249] [G loss: 0.7262113094329834]\n",
            "[Epoch 185/300] [Batch 2/3]|[D loss: 0.7362375855445862] [G loss: 0.7244346737861633]\n",
            "[Epoch 190/300] [Batch 2/3]|[D loss: 0.7344049215316772] [G loss: 0.7224727869033813]\n",
            "[Epoch 195/300] [Batch 2/3]|[D loss: 0.7324451208114624] [G loss: 0.7212103009223938]\n",
            "[Epoch 200/300] [Batch 2/3]|[D loss: 0.7306379079818726] [G loss: 0.719733476638794]\n",
            "[Epoch 205/300] [Batch 2/3]|[D loss: 0.72847580909729] [G loss: 0.7186258435249329]\n",
            "[Epoch 210/300] [Batch 2/3]|[D loss: 0.7266186475753784] [G loss: 0.7172763347625732]\n",
            "[Epoch 215/300] [Batch 2/3]|[D loss: 0.724662184715271] [G loss: 0.7162415981292725]\n",
            "[Epoch 220/300] [Batch 2/3]|[D loss: 0.7231749296188354] [G loss: 0.7148764133453369]\n",
            "[Epoch 225/300] [Batch 2/3]|[D loss: 0.7211776971817017] [G loss: 0.714112401008606]\n",
            "[Epoch 230/300] [Batch 2/3]|[D loss: 0.7195874452590942] [G loss: 0.7126355767250061]\n",
            "[Epoch 235/300] [Batch 2/3]|[D loss: 0.7180569171905518] [G loss: 0.7120084166526794]\n",
            "[Epoch 240/300] [Batch 2/3]|[D loss: 0.7165557146072388] [G loss: 0.7104578614234924]\n",
            "[Epoch 245/300] [Batch 2/3]|[D loss: 0.7147316932678223] [G loss: 0.7101290225982666]\n",
            "[Epoch 250/300] [Batch 2/3]|[D loss: 0.7134969830513] [G loss: 0.7088825106620789]\n",
            "[Epoch 255/300] [Batch 2/3]|[D loss: 0.7119373083114624] [G loss: 0.7079603672027588]\n",
            "[Epoch 260/300] [Batch 2/3]|[D loss: 0.7104647159576416] [G loss: 0.7072149515151978]\n",
            "[Epoch 265/300] [Batch 2/3]|[D loss: 0.7093141078948975] [G loss: 0.7059707045555115]\n",
            "[Epoch 270/300] [Batch 2/3]|[D loss: 0.707966685295105] [G loss: 0.7056061625480652]\n",
            "[Epoch 275/300] [Batch 2/3]|[D loss: 0.706993579864502] [G loss: 0.7043197154998779]\n",
            "[Epoch 280/300] [Batch 2/3]|[D loss: 0.7057027816772461] [G loss: 0.7039344310760498]\n",
            "[Epoch 285/300] [Batch 2/3]|[D loss: 0.7046341896057129] [G loss: 0.7031176090240479]\n",
            "[Epoch 290/300] [Batch 2/3]|[D loss: 0.7037276029586792] [G loss: 0.7020771503448486]\n",
            "[Epoch 295/300] [Batch 2/3]|[D loss: 0.7027758359909058] [G loss: 0.7017013430595398]\n"
          ]
        }
      ]
    },
    {
      "cell_type": "code",
      "source": [
        ""
      ],
      "metadata": {
        "id": "uUZwUI3Vj-MP"
      },
      "execution_count": null,
      "outputs": []
    },
    {
      "cell_type": "code",
      "source": [
        ""
      ],
      "metadata": {
        "id": "VK4TsKeYj-PM"
      },
      "execution_count": null,
      "outputs": []
    },
    {
      "cell_type": "code",
      "source": [
        ""
      ],
      "metadata": {
        "id": "elZXeeEcj-Ra"
      },
      "execution_count": null,
      "outputs": []
    }
  ]
}