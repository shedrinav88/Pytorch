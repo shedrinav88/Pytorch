{
  "nbformat": 4,
  "nbformat_minor": 0,
  "metadata": {
    "colab": {
      "name": "hw_3_pytorch.ipynb",
      "provenance": [],
      "collapsed_sections": []
    },
    "kernelspec": {
      "name": "python3",
      "display_name": "Python 3"
    },
    "language_info": {
      "name": "python"
    }
  },
  "cells": [
    {
      "cell_type": "markdown",
      "source": [
        "## Домашнее задание 3\n",
        "\n",
        "Будем практиковаться на датасете недвижимости (sklearn.datasets.fetch_california_housing)\n",
        "\n",
        "Ваша задача:\n",
        "\n",
        "Создать Dataset для загрузки данных\n",
        "\n",
        "Обернуть его в Dataloader\n",
        "\n",
        "Написать архитектуру сети, которая предсказывает стоимость недвижимости. Сеть должна включать BatchNorm слои и Dropout (или НЕ включать, но нужно обосновать)\n",
        "\n",
        "Сравните сходимость Adam, RMSProp и SGD, сделайте вывод по качеству работы модели\n",
        "\n",
        "train-test разделение нужно сделать с помощью sklearn random_state=13, test_size = 0.25"
      ],
      "metadata": {
        "id": "Mfv0wYB--aK-"
      }
    },
    {
      "cell_type": "code",
      "execution_count": 135,
      "metadata": {
        "id": "xN8sVd7T-VCj"
      },
      "outputs": [],
      "source": [
        "from sklearn.datasets import fetch_california_housing\n",
        "import pandas as pd\n",
        "from torch.nn.functional import normalize"
      ]
    },
    {
      "cell_type": "markdown",
      "source": [
        "Загрузим данные"
      ],
      "metadata": {
        "id": "0OMtHPQMVxeB"
      }
    },
    {
      "cell_type": "code",
      "source": [
        "df = fetch_california_housing()\n",
        "type(df)"
      ],
      "metadata": {
        "colab": {
          "base_uri": "https://localhost:8080/"
        },
        "id": "MzsxOton-yX0",
        "outputId": "bb3814bd-3423-46a6-91f9-a99314aad2ef"
      },
      "execution_count": 136,
      "outputs": [
        {
          "output_type": "execute_result",
          "data": {
            "text/plain": [
              "sklearn.utils.Bunch"
            ]
          },
          "metadata": {},
          "execution_count": 136
        }
      ]
    },
    {
      "cell_type": "code",
      "source": [
        "import numpy as np\n",
        "housing = np.array(df.data)"
      ],
      "metadata": {
        "id": "HYqcu9Yt_tyy"
      },
      "execution_count": 137,
      "outputs": []
    },
    {
      "cell_type": "markdown",
      "source": [
        "Признаки нужно нормировать. Наверняка делаю слишком сложно, но уж как умею"
      ],
      "metadata": {
        "id": "20DJ3D3IV2ZH"
      }
    },
    {
      "cell_type": "code",
      "source": [
        "from sklearn import preprocessing\n",
        "import pandas as pd\n",
        "\n",
        "housing_df = pd.DataFrame(housing, columns=df.feature_names)\n",
        "housing_df\n",
        "scaler = preprocessing.MinMaxScaler()\n",
        "\n",
        "names = housing_df.columns\n",
        "d = scaler.fit_transform(housing)\n",
        "\n",
        "scaled_df = pd.DataFrame(d, columns=names)\n",
        "scaled_df.head()\n"
      ],
      "metadata": {
        "id": "OHG4iElNMKrl",
        "colab": {
          "base_uri": "https://localhost:8080/",
          "height": 206
        },
        "outputId": "f5ca78ba-4f70-4bd2-b5bf-4814202655be"
      },
      "execution_count": 138,
      "outputs": [
        {
          "output_type": "execute_result",
          "data": {
            "text/plain": [
              "     MedInc  HouseAge  AveRooms  AveBedrms  Population  AveOccup  Latitude  \\\n",
              "0  0.539668  0.784314  0.043512   0.020469    0.008941  0.001499  0.567481   \n",
              "1  0.538027  0.392157  0.038224   0.018929    0.067210  0.001141  0.565356   \n",
              "2  0.466028  1.000000  0.052756   0.021940    0.013818  0.001698  0.564293   \n",
              "3  0.354699  1.000000  0.035241   0.021929    0.015555  0.001493  0.564293   \n",
              "4  0.230776  1.000000  0.038534   0.022166    0.015752  0.001198  0.564293   \n",
              "\n",
              "   Longitude  \n",
              "0   0.211155  \n",
              "1   0.212151  \n",
              "2   0.210159  \n",
              "3   0.209163  \n",
              "4   0.209163  "
            ],
            "text/html": [
              "\n",
              "  <div id=\"df-f93920bd-e8a7-4131-82b1-611314ae34db\">\n",
              "    <div class=\"colab-df-container\">\n",
              "      <div>\n",
              "<style scoped>\n",
              "    .dataframe tbody tr th:only-of-type {\n",
              "        vertical-align: middle;\n",
              "    }\n",
              "\n",
              "    .dataframe tbody tr th {\n",
              "        vertical-align: top;\n",
              "    }\n",
              "\n",
              "    .dataframe thead th {\n",
              "        text-align: right;\n",
              "    }\n",
              "</style>\n",
              "<table border=\"1\" class=\"dataframe\">\n",
              "  <thead>\n",
              "    <tr style=\"text-align: right;\">\n",
              "      <th></th>\n",
              "      <th>MedInc</th>\n",
              "      <th>HouseAge</th>\n",
              "      <th>AveRooms</th>\n",
              "      <th>AveBedrms</th>\n",
              "      <th>Population</th>\n",
              "      <th>AveOccup</th>\n",
              "      <th>Latitude</th>\n",
              "      <th>Longitude</th>\n",
              "    </tr>\n",
              "  </thead>\n",
              "  <tbody>\n",
              "    <tr>\n",
              "      <th>0</th>\n",
              "      <td>0.539668</td>\n",
              "      <td>0.784314</td>\n",
              "      <td>0.043512</td>\n",
              "      <td>0.020469</td>\n",
              "      <td>0.008941</td>\n",
              "      <td>0.001499</td>\n",
              "      <td>0.567481</td>\n",
              "      <td>0.211155</td>\n",
              "    </tr>\n",
              "    <tr>\n",
              "      <th>1</th>\n",
              "      <td>0.538027</td>\n",
              "      <td>0.392157</td>\n",
              "      <td>0.038224</td>\n",
              "      <td>0.018929</td>\n",
              "      <td>0.067210</td>\n",
              "      <td>0.001141</td>\n",
              "      <td>0.565356</td>\n",
              "      <td>0.212151</td>\n",
              "    </tr>\n",
              "    <tr>\n",
              "      <th>2</th>\n",
              "      <td>0.466028</td>\n",
              "      <td>1.000000</td>\n",
              "      <td>0.052756</td>\n",
              "      <td>0.021940</td>\n",
              "      <td>0.013818</td>\n",
              "      <td>0.001698</td>\n",
              "      <td>0.564293</td>\n",
              "      <td>0.210159</td>\n",
              "    </tr>\n",
              "    <tr>\n",
              "      <th>3</th>\n",
              "      <td>0.354699</td>\n",
              "      <td>1.000000</td>\n",
              "      <td>0.035241</td>\n",
              "      <td>0.021929</td>\n",
              "      <td>0.015555</td>\n",
              "      <td>0.001493</td>\n",
              "      <td>0.564293</td>\n",
              "      <td>0.209163</td>\n",
              "    </tr>\n",
              "    <tr>\n",
              "      <th>4</th>\n",
              "      <td>0.230776</td>\n",
              "      <td>1.000000</td>\n",
              "      <td>0.038534</td>\n",
              "      <td>0.022166</td>\n",
              "      <td>0.015752</td>\n",
              "      <td>0.001198</td>\n",
              "      <td>0.564293</td>\n",
              "      <td>0.209163</td>\n",
              "    </tr>\n",
              "  </tbody>\n",
              "</table>\n",
              "</div>\n",
              "      <button class=\"colab-df-convert\" onclick=\"convertToInteractive('df-f93920bd-e8a7-4131-82b1-611314ae34db')\"\n",
              "              title=\"Convert this dataframe to an interactive table.\"\n",
              "              style=\"display:none;\">\n",
              "        \n",
              "  <svg xmlns=\"http://www.w3.org/2000/svg\" height=\"24px\"viewBox=\"0 0 24 24\"\n",
              "       width=\"24px\">\n",
              "    <path d=\"M0 0h24v24H0V0z\" fill=\"none\"/>\n",
              "    <path d=\"M18.56 5.44l.94 2.06.94-2.06 2.06-.94-2.06-.94-.94-2.06-.94 2.06-2.06.94zm-11 1L8.5 8.5l.94-2.06 2.06-.94-2.06-.94L8.5 2.5l-.94 2.06-2.06.94zm10 10l.94 2.06.94-2.06 2.06-.94-2.06-.94-.94-2.06-.94 2.06-2.06.94z\"/><path d=\"M17.41 7.96l-1.37-1.37c-.4-.4-.92-.59-1.43-.59-.52 0-1.04.2-1.43.59L10.3 9.45l-7.72 7.72c-.78.78-.78 2.05 0 2.83L4 21.41c.39.39.9.59 1.41.59.51 0 1.02-.2 1.41-.59l7.78-7.78 2.81-2.81c.8-.78.8-2.07 0-2.86zM5.41 20L4 18.59l7.72-7.72 1.47 1.35L5.41 20z\"/>\n",
              "  </svg>\n",
              "      </button>\n",
              "      \n",
              "  <style>\n",
              "    .colab-df-container {\n",
              "      display:flex;\n",
              "      flex-wrap:wrap;\n",
              "      gap: 12px;\n",
              "    }\n",
              "\n",
              "    .colab-df-convert {\n",
              "      background-color: #E8F0FE;\n",
              "      border: none;\n",
              "      border-radius: 50%;\n",
              "      cursor: pointer;\n",
              "      display: none;\n",
              "      fill: #1967D2;\n",
              "      height: 32px;\n",
              "      padding: 0 0 0 0;\n",
              "      width: 32px;\n",
              "    }\n",
              "\n",
              "    .colab-df-convert:hover {\n",
              "      background-color: #E2EBFA;\n",
              "      box-shadow: 0px 1px 2px rgba(60, 64, 67, 0.3), 0px 1px 3px 1px rgba(60, 64, 67, 0.15);\n",
              "      fill: #174EA6;\n",
              "    }\n",
              "\n",
              "    [theme=dark] .colab-df-convert {\n",
              "      background-color: #3B4455;\n",
              "      fill: #D2E3FC;\n",
              "    }\n",
              "\n",
              "    [theme=dark] .colab-df-convert:hover {\n",
              "      background-color: #434B5C;\n",
              "      box-shadow: 0px 1px 3px 1px rgba(0, 0, 0, 0.15);\n",
              "      filter: drop-shadow(0px 1px 2px rgba(0, 0, 0, 0.3));\n",
              "      fill: #FFFFFF;\n",
              "    }\n",
              "  </style>\n",
              "\n",
              "      <script>\n",
              "        const buttonEl =\n",
              "          document.querySelector('#df-f93920bd-e8a7-4131-82b1-611314ae34db button.colab-df-convert');\n",
              "        buttonEl.style.display =\n",
              "          google.colab.kernel.accessAllowed ? 'block' : 'none';\n",
              "\n",
              "        async function convertToInteractive(key) {\n",
              "          const element = document.querySelector('#df-f93920bd-e8a7-4131-82b1-611314ae34db');\n",
              "          const dataTable =\n",
              "            await google.colab.kernel.invokeFunction('convertToInteractive',\n",
              "                                                     [key], {});\n",
              "          if (!dataTable) return;\n",
              "\n",
              "          const docLinkHtml = 'Like what you see? Visit the ' +\n",
              "            '<a target=\"_blank\" href=https://colab.research.google.com/notebooks/data_table.ipynb>data table notebook</a>'\n",
              "            + ' to learn more about interactive tables.';\n",
              "          element.innerHTML = '';\n",
              "          dataTable['output_type'] = 'display_data';\n",
              "          await google.colab.output.renderOutput(dataTable, element);\n",
              "          const docLink = document.createElement('div');\n",
              "          docLink.innerHTML = docLinkHtml;\n",
              "          element.appendChild(docLink);\n",
              "        }\n",
              "      </script>\n",
              "    </div>\n",
              "  </div>\n",
              "  "
            ]
          },
          "metadata": {},
          "execution_count": 138
        }
      ]
    },
    {
      "cell_type": "markdown",
      "source": [
        "Обединяю нормализованные признаки с таргетом"
      ],
      "metadata": {
        "id": "zgXdS4EAWI45"
      }
    },
    {
      "cell_type": "code",
      "source": [
        "concat_housing = pd.concat([scaled_df, pd.Series(df.target)], axis=1, ignore_index=True)"
      ],
      "metadata": {
        "id": "wPM2KkOKjzre"
      },
      "execution_count": 139,
      "outputs": []
    },
    {
      "cell_type": "code",
      "source": [
        "concat_housing.head(2)"
      ],
      "metadata": {
        "colab": {
          "base_uri": "https://localhost:8080/",
          "height": 112
        },
        "id": "y4-22z-wlQTi",
        "outputId": "70d6b4fe-877c-48ba-8307-bf1a57eea389"
      },
      "execution_count": 140,
      "outputs": [
        {
          "output_type": "execute_result",
          "data": {
            "text/plain": [
              "          0         1         2         3         4         5         6  \\\n",
              "0  0.539668  0.784314  0.043512  0.020469  0.008941  0.001499  0.567481   \n",
              "1  0.538027  0.392157  0.038224  0.018929  0.067210  0.001141  0.565356   \n",
              "\n",
              "          7      8  \n",
              "0  0.211155  4.526  \n",
              "1  0.212151  3.585  "
            ],
            "text/html": [
              "\n",
              "  <div id=\"df-54a99e28-6711-4195-8edf-4df9e3d52f36\">\n",
              "    <div class=\"colab-df-container\">\n",
              "      <div>\n",
              "<style scoped>\n",
              "    .dataframe tbody tr th:only-of-type {\n",
              "        vertical-align: middle;\n",
              "    }\n",
              "\n",
              "    .dataframe tbody tr th {\n",
              "        vertical-align: top;\n",
              "    }\n",
              "\n",
              "    .dataframe thead th {\n",
              "        text-align: right;\n",
              "    }\n",
              "</style>\n",
              "<table border=\"1\" class=\"dataframe\">\n",
              "  <thead>\n",
              "    <tr style=\"text-align: right;\">\n",
              "      <th></th>\n",
              "      <th>0</th>\n",
              "      <th>1</th>\n",
              "      <th>2</th>\n",
              "      <th>3</th>\n",
              "      <th>4</th>\n",
              "      <th>5</th>\n",
              "      <th>6</th>\n",
              "      <th>7</th>\n",
              "      <th>8</th>\n",
              "    </tr>\n",
              "  </thead>\n",
              "  <tbody>\n",
              "    <tr>\n",
              "      <th>0</th>\n",
              "      <td>0.539668</td>\n",
              "      <td>0.784314</td>\n",
              "      <td>0.043512</td>\n",
              "      <td>0.020469</td>\n",
              "      <td>0.008941</td>\n",
              "      <td>0.001499</td>\n",
              "      <td>0.567481</td>\n",
              "      <td>0.211155</td>\n",
              "      <td>4.526</td>\n",
              "    </tr>\n",
              "    <tr>\n",
              "      <th>1</th>\n",
              "      <td>0.538027</td>\n",
              "      <td>0.392157</td>\n",
              "      <td>0.038224</td>\n",
              "      <td>0.018929</td>\n",
              "      <td>0.067210</td>\n",
              "      <td>0.001141</td>\n",
              "      <td>0.565356</td>\n",
              "      <td>0.212151</td>\n",
              "      <td>3.585</td>\n",
              "    </tr>\n",
              "  </tbody>\n",
              "</table>\n",
              "</div>\n",
              "      <button class=\"colab-df-convert\" onclick=\"convertToInteractive('df-54a99e28-6711-4195-8edf-4df9e3d52f36')\"\n",
              "              title=\"Convert this dataframe to an interactive table.\"\n",
              "              style=\"display:none;\">\n",
              "        \n",
              "  <svg xmlns=\"http://www.w3.org/2000/svg\" height=\"24px\"viewBox=\"0 0 24 24\"\n",
              "       width=\"24px\">\n",
              "    <path d=\"M0 0h24v24H0V0z\" fill=\"none\"/>\n",
              "    <path d=\"M18.56 5.44l.94 2.06.94-2.06 2.06-.94-2.06-.94-.94-2.06-.94 2.06-2.06.94zm-11 1L8.5 8.5l.94-2.06 2.06-.94-2.06-.94L8.5 2.5l-.94 2.06-2.06.94zm10 10l.94 2.06.94-2.06 2.06-.94-2.06-.94-.94-2.06-.94 2.06-2.06.94z\"/><path d=\"M17.41 7.96l-1.37-1.37c-.4-.4-.92-.59-1.43-.59-.52 0-1.04.2-1.43.59L10.3 9.45l-7.72 7.72c-.78.78-.78 2.05 0 2.83L4 21.41c.39.39.9.59 1.41.59.51 0 1.02-.2 1.41-.59l7.78-7.78 2.81-2.81c.8-.78.8-2.07 0-2.86zM5.41 20L4 18.59l7.72-7.72 1.47 1.35L5.41 20z\"/>\n",
              "  </svg>\n",
              "      </button>\n",
              "      \n",
              "  <style>\n",
              "    .colab-df-container {\n",
              "      display:flex;\n",
              "      flex-wrap:wrap;\n",
              "      gap: 12px;\n",
              "    }\n",
              "\n",
              "    .colab-df-convert {\n",
              "      background-color: #E8F0FE;\n",
              "      border: none;\n",
              "      border-radius: 50%;\n",
              "      cursor: pointer;\n",
              "      display: none;\n",
              "      fill: #1967D2;\n",
              "      height: 32px;\n",
              "      padding: 0 0 0 0;\n",
              "      width: 32px;\n",
              "    }\n",
              "\n",
              "    .colab-df-convert:hover {\n",
              "      background-color: #E2EBFA;\n",
              "      box-shadow: 0px 1px 2px rgba(60, 64, 67, 0.3), 0px 1px 3px 1px rgba(60, 64, 67, 0.15);\n",
              "      fill: #174EA6;\n",
              "    }\n",
              "\n",
              "    [theme=dark] .colab-df-convert {\n",
              "      background-color: #3B4455;\n",
              "      fill: #D2E3FC;\n",
              "    }\n",
              "\n",
              "    [theme=dark] .colab-df-convert:hover {\n",
              "      background-color: #434B5C;\n",
              "      box-shadow: 0px 1px 3px 1px rgba(0, 0, 0, 0.15);\n",
              "      filter: drop-shadow(0px 1px 2px rgba(0, 0, 0, 0.3));\n",
              "      fill: #FFFFFF;\n",
              "    }\n",
              "  </style>\n",
              "\n",
              "      <script>\n",
              "        const buttonEl =\n",
              "          document.querySelector('#df-54a99e28-6711-4195-8edf-4df9e3d52f36 button.colab-df-convert');\n",
              "        buttonEl.style.display =\n",
              "          google.colab.kernel.accessAllowed ? 'block' : 'none';\n",
              "\n",
              "        async function convertToInteractive(key) {\n",
              "          const element = document.querySelector('#df-54a99e28-6711-4195-8edf-4df9e3d52f36');\n",
              "          const dataTable =\n",
              "            await google.colab.kernel.invokeFunction('convertToInteractive',\n",
              "                                                     [key], {});\n",
              "          if (!dataTable) return;\n",
              "\n",
              "          const docLinkHtml = 'Like what you see? Visit the ' +\n",
              "            '<a target=\"_blank\" href=https://colab.research.google.com/notebooks/data_table.ipynb>data table notebook</a>'\n",
              "            + ' to learn more about interactive tables.';\n",
              "          element.innerHTML = '';\n",
              "          dataTable['output_type'] = 'display_data';\n",
              "          await google.colab.output.renderOutput(dataTable, element);\n",
              "          const docLink = document.createElement('div');\n",
              "          docLink.innerHTML = docLinkHtml;\n",
              "          element.appendChild(docLink);\n",
              "        }\n",
              "      </script>\n",
              "    </div>\n",
              "  </div>\n",
              "  "
            ]
          },
          "metadata": {},
          "execution_count": 140
        }
      ]
    },
    {
      "cell_type": "markdown",
      "source": [
        "Бьем на обучающую и тестовую выборки"
      ],
      "metadata": {
        "id": "5So2jWprWVZ5"
      }
    },
    {
      "cell_type": "code",
      "source": [
        "from sklearn.model_selection import train_test_split\n",
        "\n",
        "X_train, X_test, y_train, y_test = train_test_split(scaled_df, pd.Series(df.target), \n",
        "                                                    train_size=0.75, \n",
        "                                                    random_state=13)"
      ],
      "metadata": {
        "id": "dhJzsE0GndfB"
      },
      "execution_count": 141,
      "outputs": []
    },
    {
      "cell_type": "code",
      "source": [
        "torch_train = pd.concat([X_train, y_train], axis=1)\n",
        "torch_train.head(2)"
      ],
      "metadata": {
        "colab": {
          "base_uri": "https://localhost:8080/",
          "height": 112
        },
        "id": "Awvy3CEooGK6",
        "outputId": "8c18bf3c-4802-42b4-d986-345b9c5209c2"
      },
      "execution_count": 142,
      "outputs": [
        {
          "output_type": "execute_result",
          "data": {
            "text/plain": [
              "        MedInc  HouseAge  AveRooms  AveBedrms  Population  AveOccup  Latitude  \\\n",
              "5707  0.208101  0.686275  0.026242   0.022560    0.037949  0.001105  0.177471   \n",
              "3754  0.170542  0.686275  0.024481   0.019684    0.034026  0.002061  0.174283   \n",
              "\n",
              "      Longitude      0  \n",
              "5707   0.609562  2.680  \n",
              "3754   0.595618  1.902  "
            ],
            "text/html": [
              "\n",
              "  <div id=\"df-c511192c-59e7-4545-9039-2ec8d16f8e66\">\n",
              "    <div class=\"colab-df-container\">\n",
              "      <div>\n",
              "<style scoped>\n",
              "    .dataframe tbody tr th:only-of-type {\n",
              "        vertical-align: middle;\n",
              "    }\n",
              "\n",
              "    .dataframe tbody tr th {\n",
              "        vertical-align: top;\n",
              "    }\n",
              "\n",
              "    .dataframe thead th {\n",
              "        text-align: right;\n",
              "    }\n",
              "</style>\n",
              "<table border=\"1\" class=\"dataframe\">\n",
              "  <thead>\n",
              "    <tr style=\"text-align: right;\">\n",
              "      <th></th>\n",
              "      <th>MedInc</th>\n",
              "      <th>HouseAge</th>\n",
              "      <th>AveRooms</th>\n",
              "      <th>AveBedrms</th>\n",
              "      <th>Population</th>\n",
              "      <th>AveOccup</th>\n",
              "      <th>Latitude</th>\n",
              "      <th>Longitude</th>\n",
              "      <th>0</th>\n",
              "    </tr>\n",
              "  </thead>\n",
              "  <tbody>\n",
              "    <tr>\n",
              "      <th>5707</th>\n",
              "      <td>0.208101</td>\n",
              "      <td>0.686275</td>\n",
              "      <td>0.026242</td>\n",
              "      <td>0.022560</td>\n",
              "      <td>0.037949</td>\n",
              "      <td>0.001105</td>\n",
              "      <td>0.177471</td>\n",
              "      <td>0.609562</td>\n",
              "      <td>2.680</td>\n",
              "    </tr>\n",
              "    <tr>\n",
              "      <th>3754</th>\n",
              "      <td>0.170542</td>\n",
              "      <td>0.686275</td>\n",
              "      <td>0.024481</td>\n",
              "      <td>0.019684</td>\n",
              "      <td>0.034026</td>\n",
              "      <td>0.002061</td>\n",
              "      <td>0.174283</td>\n",
              "      <td>0.595618</td>\n",
              "      <td>1.902</td>\n",
              "    </tr>\n",
              "  </tbody>\n",
              "</table>\n",
              "</div>\n",
              "      <button class=\"colab-df-convert\" onclick=\"convertToInteractive('df-c511192c-59e7-4545-9039-2ec8d16f8e66')\"\n",
              "              title=\"Convert this dataframe to an interactive table.\"\n",
              "              style=\"display:none;\">\n",
              "        \n",
              "  <svg xmlns=\"http://www.w3.org/2000/svg\" height=\"24px\"viewBox=\"0 0 24 24\"\n",
              "       width=\"24px\">\n",
              "    <path d=\"M0 0h24v24H0V0z\" fill=\"none\"/>\n",
              "    <path d=\"M18.56 5.44l.94 2.06.94-2.06 2.06-.94-2.06-.94-.94-2.06-.94 2.06-2.06.94zm-11 1L8.5 8.5l.94-2.06 2.06-.94-2.06-.94L8.5 2.5l-.94 2.06-2.06.94zm10 10l.94 2.06.94-2.06 2.06-.94-2.06-.94-.94-2.06-.94 2.06-2.06.94z\"/><path d=\"M17.41 7.96l-1.37-1.37c-.4-.4-.92-.59-1.43-.59-.52 0-1.04.2-1.43.59L10.3 9.45l-7.72 7.72c-.78.78-.78 2.05 0 2.83L4 21.41c.39.39.9.59 1.41.59.51 0 1.02-.2 1.41-.59l7.78-7.78 2.81-2.81c.8-.78.8-2.07 0-2.86zM5.41 20L4 18.59l7.72-7.72 1.47 1.35L5.41 20z\"/>\n",
              "  </svg>\n",
              "      </button>\n",
              "      \n",
              "  <style>\n",
              "    .colab-df-container {\n",
              "      display:flex;\n",
              "      flex-wrap:wrap;\n",
              "      gap: 12px;\n",
              "    }\n",
              "\n",
              "    .colab-df-convert {\n",
              "      background-color: #E8F0FE;\n",
              "      border: none;\n",
              "      border-radius: 50%;\n",
              "      cursor: pointer;\n",
              "      display: none;\n",
              "      fill: #1967D2;\n",
              "      height: 32px;\n",
              "      padding: 0 0 0 0;\n",
              "      width: 32px;\n",
              "    }\n",
              "\n",
              "    .colab-df-convert:hover {\n",
              "      background-color: #E2EBFA;\n",
              "      box-shadow: 0px 1px 2px rgba(60, 64, 67, 0.3), 0px 1px 3px 1px rgba(60, 64, 67, 0.15);\n",
              "      fill: #174EA6;\n",
              "    }\n",
              "\n",
              "    [theme=dark] .colab-df-convert {\n",
              "      background-color: #3B4455;\n",
              "      fill: #D2E3FC;\n",
              "    }\n",
              "\n",
              "    [theme=dark] .colab-df-convert:hover {\n",
              "      background-color: #434B5C;\n",
              "      box-shadow: 0px 1px 3px 1px rgba(0, 0, 0, 0.15);\n",
              "      filter: drop-shadow(0px 1px 2px rgba(0, 0, 0, 0.3));\n",
              "      fill: #FFFFFF;\n",
              "    }\n",
              "  </style>\n",
              "\n",
              "      <script>\n",
              "        const buttonEl =\n",
              "          document.querySelector('#df-c511192c-59e7-4545-9039-2ec8d16f8e66 button.colab-df-convert');\n",
              "        buttonEl.style.display =\n",
              "          google.colab.kernel.accessAllowed ? 'block' : 'none';\n",
              "\n",
              "        async function convertToInteractive(key) {\n",
              "          const element = document.querySelector('#df-c511192c-59e7-4545-9039-2ec8d16f8e66');\n",
              "          const dataTable =\n",
              "            await google.colab.kernel.invokeFunction('convertToInteractive',\n",
              "                                                     [key], {});\n",
              "          if (!dataTable) return;\n",
              "\n",
              "          const docLinkHtml = 'Like what you see? Visit the ' +\n",
              "            '<a target=\"_blank\" href=https://colab.research.google.com/notebooks/data_table.ipynb>data table notebook</a>'\n",
              "            + ' to learn more about interactive tables.';\n",
              "          element.innerHTML = '';\n",
              "          dataTable['output_type'] = 'display_data';\n",
              "          await google.colab.output.renderOutput(dataTable, element);\n",
              "          const docLink = document.createElement('div');\n",
              "          docLink.innerHTML = docLinkHtml;\n",
              "          element.appendChild(docLink);\n",
              "        }\n",
              "      </script>\n",
              "    </div>\n",
              "  </div>\n",
              "  "
            ]
          },
          "metadata": {},
          "execution_count": 142
        }
      ]
    },
    {
      "cell_type": "code",
      "source": [
        "torch_train.shape"
      ],
      "metadata": {
        "colab": {
          "base_uri": "https://localhost:8080/"
        },
        "id": "rLsA5iAVB3jg",
        "outputId": "3affeb22-2233-40da-a572-9f17a953ce42"
      },
      "execution_count": 143,
      "outputs": [
        {
          "output_type": "execute_result",
          "data": {
            "text/plain": [
              "(15480, 9)"
            ]
          },
          "metadata": {},
          "execution_count": 143
        }
      ]
    },
    {
      "cell_type": "markdown",
      "source": [
        "Создаем класс МойДатасет"
      ],
      "metadata": {
        "id": "CHYZ_2U7Wdvz"
      }
    },
    {
      "cell_type": "code",
      "source": [
        "import torch\n",
        "\n",
        "class MyDataset(torch.utils.data.Dataset):\n",
        "   \n",
        "    def __init__(self, init_dataset, transform=None):\n",
        "        self._base_dataset = torch.from_numpy(init_dataset)\n",
        "        #self._base_dataset[:-1] = normalize(self._base_dataset[:-1], p=2.0, dim = 0)\n",
        "\n",
        "    def __len__(self):\n",
        "        return len(self._base_dataset)\n",
        "\n",
        "    def __getitem__(self, idx):\n",
        "        data = self._base_dataset[idx][:-1]\n",
        "        value = self._base_dataset[idx][-1]\n",
        "        return data.float(), value.float()"
      ],
      "metadata": {
        "id": "ZMZFWqC0AdTA"
      },
      "execution_count": 144,
      "outputs": []
    },
    {
      "cell_type": "markdown",
      "source": [
        "Создаем MyDataset для обучающей выборки"
      ],
      "metadata": {
        "id": "m1XZ8tQAYvY4"
      }
    },
    {
      "cell_type": "code",
      "source": [
        "torch_train = np.array(torch_train)\n",
        "train_dataset = MyDataset(torch_train)"
      ],
      "metadata": {
        "id": "sMoufV54oxia"
      },
      "execution_count": 145,
      "outputs": []
    },
    {
      "cell_type": "markdown",
      "source": [
        "Пример 0-го элемента MyDataset"
      ],
      "metadata": {
        "id": "-ki0vTfcWk6J"
      }
    },
    {
      "cell_type": "code",
      "source": [
        "train_dataset[0]"
      ],
      "metadata": {
        "colab": {
          "base_uri": "https://localhost:8080/"
        },
        "id": "aOzhpAq8KpYm",
        "outputId": "67139db4-244b-4f23-a65f-fd217acac4f5"
      },
      "execution_count": 146,
      "outputs": [
        {
          "output_type": "execute_result",
          "data": {
            "text/plain": [
              "(tensor([0.2081, 0.6863, 0.0262, 0.0226, 0.0379, 0.0011, 0.1775, 0.6096]),\n",
              " tensor(2.6800))"
            ]
          },
          "metadata": {},
          "execution_count": 146
        }
      ]
    },
    {
      "cell_type": "markdown",
      "source": [
        "Проверяем как отработает len"
      ],
      "metadata": {
        "id": "v10Z5YbrWxtt"
      }
    },
    {
      "cell_type": "code",
      "source": [
        "len(train_dataset)"
      ],
      "metadata": {
        "colab": {
          "base_uri": "https://localhost:8080/"
        },
        "id": "8OMgoE6gWs3S",
        "outputId": "13f3f3ed-0012-44ea-ea65-da3fe3ce268e"
      },
      "execution_count": 147,
      "outputs": [
        {
          "output_type": "execute_result",
          "data": {
            "text/plain": [
              "15480"
            ]
          },
          "metadata": {},
          "execution_count": 147
        }
      ]
    },
    {
      "cell_type": "markdown",
      "source": [
        "Создаем loader для трейна"
      ],
      "metadata": {
        "id": "NL4APd7_W9I8"
      }
    },
    {
      "cell_type": "code",
      "source": [
        "train_loader = torch.utils.data.DataLoader(train_dataset,\n",
        "                          batch_size=64,\n",
        "                          shuffle=True,\n",
        "                          num_workers=2)"
      ],
      "metadata": {
        "id": "wIrT8-7smh7J"
      },
      "execution_count": 148,
      "outputs": []
    },
    {
      "cell_type": "markdown",
      "source": [
        "Создадим тестовый МойДатасет и loader для него"
      ],
      "metadata": {
        "id": "rlgw-6owXCgI"
      }
    },
    {
      "cell_type": "code",
      "source": [
        "torch_test = pd.concat([X_test, y_test], axis=1)\n",
        "torch_test.head(2)"
      ],
      "metadata": {
        "colab": {
          "base_uri": "https://localhost:8080/",
          "height": 112
        },
        "id": "BpW9h_Hwmh9r",
        "outputId": "46b76f09-98c8-430d-9184-721091146225"
      },
      "execution_count": 149,
      "outputs": [
        {
          "output_type": "execute_result",
          "data": {
            "text/plain": [
              "         MedInc  HouseAge  AveRooms  AveBedrms  Population  AveOccup  \\\n",
              "2973   0.251921  0.274510  0.037906   0.019389    0.021441  0.002040   \n",
              "14432  0.187935  0.392157  0.026008   0.022022    0.028252  0.000955   \n",
              "\n",
              "       Latitude  Longitude      0  \n",
              "2973   0.297556   0.524900  1.301  \n",
              "14432  0.027630   0.709163  2.294  "
            ],
            "text/html": [
              "\n",
              "  <div id=\"df-89eaefb0-0934-4a9d-9755-bc4cb91fc831\">\n",
              "    <div class=\"colab-df-container\">\n",
              "      <div>\n",
              "<style scoped>\n",
              "    .dataframe tbody tr th:only-of-type {\n",
              "        vertical-align: middle;\n",
              "    }\n",
              "\n",
              "    .dataframe tbody tr th {\n",
              "        vertical-align: top;\n",
              "    }\n",
              "\n",
              "    .dataframe thead th {\n",
              "        text-align: right;\n",
              "    }\n",
              "</style>\n",
              "<table border=\"1\" class=\"dataframe\">\n",
              "  <thead>\n",
              "    <tr style=\"text-align: right;\">\n",
              "      <th></th>\n",
              "      <th>MedInc</th>\n",
              "      <th>HouseAge</th>\n",
              "      <th>AveRooms</th>\n",
              "      <th>AveBedrms</th>\n",
              "      <th>Population</th>\n",
              "      <th>AveOccup</th>\n",
              "      <th>Latitude</th>\n",
              "      <th>Longitude</th>\n",
              "      <th>0</th>\n",
              "    </tr>\n",
              "  </thead>\n",
              "  <tbody>\n",
              "    <tr>\n",
              "      <th>2973</th>\n",
              "      <td>0.251921</td>\n",
              "      <td>0.274510</td>\n",
              "      <td>0.037906</td>\n",
              "      <td>0.019389</td>\n",
              "      <td>0.021441</td>\n",
              "      <td>0.002040</td>\n",
              "      <td>0.297556</td>\n",
              "      <td>0.524900</td>\n",
              "      <td>1.301</td>\n",
              "    </tr>\n",
              "    <tr>\n",
              "      <th>14432</th>\n",
              "      <td>0.187935</td>\n",
              "      <td>0.392157</td>\n",
              "      <td>0.026008</td>\n",
              "      <td>0.022022</td>\n",
              "      <td>0.028252</td>\n",
              "      <td>0.000955</td>\n",
              "      <td>0.027630</td>\n",
              "      <td>0.709163</td>\n",
              "      <td>2.294</td>\n",
              "    </tr>\n",
              "  </tbody>\n",
              "</table>\n",
              "</div>\n",
              "      <button class=\"colab-df-convert\" onclick=\"convertToInteractive('df-89eaefb0-0934-4a9d-9755-bc4cb91fc831')\"\n",
              "              title=\"Convert this dataframe to an interactive table.\"\n",
              "              style=\"display:none;\">\n",
              "        \n",
              "  <svg xmlns=\"http://www.w3.org/2000/svg\" height=\"24px\"viewBox=\"0 0 24 24\"\n",
              "       width=\"24px\">\n",
              "    <path d=\"M0 0h24v24H0V0z\" fill=\"none\"/>\n",
              "    <path d=\"M18.56 5.44l.94 2.06.94-2.06 2.06-.94-2.06-.94-.94-2.06-.94 2.06-2.06.94zm-11 1L8.5 8.5l.94-2.06 2.06-.94-2.06-.94L8.5 2.5l-.94 2.06-2.06.94zm10 10l.94 2.06.94-2.06 2.06-.94-2.06-.94-.94-2.06-.94 2.06-2.06.94z\"/><path d=\"M17.41 7.96l-1.37-1.37c-.4-.4-.92-.59-1.43-.59-.52 0-1.04.2-1.43.59L10.3 9.45l-7.72 7.72c-.78.78-.78 2.05 0 2.83L4 21.41c.39.39.9.59 1.41.59.51 0 1.02-.2 1.41-.59l7.78-7.78 2.81-2.81c.8-.78.8-2.07 0-2.86zM5.41 20L4 18.59l7.72-7.72 1.47 1.35L5.41 20z\"/>\n",
              "  </svg>\n",
              "      </button>\n",
              "      \n",
              "  <style>\n",
              "    .colab-df-container {\n",
              "      display:flex;\n",
              "      flex-wrap:wrap;\n",
              "      gap: 12px;\n",
              "    }\n",
              "\n",
              "    .colab-df-convert {\n",
              "      background-color: #E8F0FE;\n",
              "      border: none;\n",
              "      border-radius: 50%;\n",
              "      cursor: pointer;\n",
              "      display: none;\n",
              "      fill: #1967D2;\n",
              "      height: 32px;\n",
              "      padding: 0 0 0 0;\n",
              "      width: 32px;\n",
              "    }\n",
              "\n",
              "    .colab-df-convert:hover {\n",
              "      background-color: #E2EBFA;\n",
              "      box-shadow: 0px 1px 2px rgba(60, 64, 67, 0.3), 0px 1px 3px 1px rgba(60, 64, 67, 0.15);\n",
              "      fill: #174EA6;\n",
              "    }\n",
              "\n",
              "    [theme=dark] .colab-df-convert {\n",
              "      background-color: #3B4455;\n",
              "      fill: #D2E3FC;\n",
              "    }\n",
              "\n",
              "    [theme=dark] .colab-df-convert:hover {\n",
              "      background-color: #434B5C;\n",
              "      box-shadow: 0px 1px 3px 1px rgba(0, 0, 0, 0.15);\n",
              "      filter: drop-shadow(0px 1px 2px rgba(0, 0, 0, 0.3));\n",
              "      fill: #FFFFFF;\n",
              "    }\n",
              "  </style>\n",
              "\n",
              "      <script>\n",
              "        const buttonEl =\n",
              "          document.querySelector('#df-89eaefb0-0934-4a9d-9755-bc4cb91fc831 button.colab-df-convert');\n",
              "        buttonEl.style.display =\n",
              "          google.colab.kernel.accessAllowed ? 'block' : 'none';\n",
              "\n",
              "        async function convertToInteractive(key) {\n",
              "          const element = document.querySelector('#df-89eaefb0-0934-4a9d-9755-bc4cb91fc831');\n",
              "          const dataTable =\n",
              "            await google.colab.kernel.invokeFunction('convertToInteractive',\n",
              "                                                     [key], {});\n",
              "          if (!dataTable) return;\n",
              "\n",
              "          const docLinkHtml = 'Like what you see? Visit the ' +\n",
              "            '<a target=\"_blank\" href=https://colab.research.google.com/notebooks/data_table.ipynb>data table notebook</a>'\n",
              "            + ' to learn more about interactive tables.';\n",
              "          element.innerHTML = '';\n",
              "          dataTable['output_type'] = 'display_data';\n",
              "          await google.colab.output.renderOutput(dataTable, element);\n",
              "          const docLink = document.createElement('div');\n",
              "          docLink.innerHTML = docLinkHtml;\n",
              "          element.appendChild(docLink);\n",
              "        }\n",
              "      </script>\n",
              "    </div>\n",
              "  </div>\n",
              "  "
            ]
          },
          "metadata": {},
          "execution_count": 149
        }
      ]
    },
    {
      "cell_type": "code",
      "source": [
        "torch_test = np.array(torch_test)\n",
        "test_dataset = MyDataset(torch_test)"
      ],
      "metadata": {
        "id": "EV2iI2udmh_6"
      },
      "execution_count": 151,
      "outputs": []
    },
    {
      "cell_type": "code",
      "source": [
        "test_loader = torch.utils.data.DataLoader(test_dataset, batch_size=8,\\\n",
        "                                          shuffle=False)"
      ],
      "metadata": {
        "id": "aAFWQEbQmiCL"
      },
      "execution_count": 152,
      "outputs": []
    },
    {
      "cell_type": "markdown",
      "source": [
        "Сначала воспользуюсь сетью с прошлого домашнего задания (без BatchNorm и Dropout)"
      ],
      "metadata": {
        "id": "sfQcbu0rXKcf"
      }
    },
    {
      "cell_type": "code",
      "source": [
        "from torch import nn\n",
        "import torch.nn.functional as F\n",
        "\n",
        "\n",
        "class Net(nn.Module):\n",
        "    def __init__(self, input_dim, hidden_dim, output_dim):\n",
        "        super().__init__()\n",
        "        self.fc1 = nn.Linear(input_dim, 4 * hidden_dim)\n",
        "        self.fc2 = nn.Linear(4 * hidden_dim,  2 * hidden_dim)\n",
        "        self.fc3 = nn.Linear(2 * hidden_dim, hidden_dim)\n",
        "        self.fc4 = nn.Linear(hidden_dim, output_dim)\n",
        "\n",
        "    def forward(self, x):\n",
        "        x = self.fc1(x)\n",
        "        x = F.leaky_relu(x)\n",
        "        x = self.fc2(x)\n",
        "        x = F.leaky_relu(x)\n",
        "        x = self.fc3(x)\n",
        "        x = F.leaky_relu(x)\n",
        "        x = self.fc4(x)\n",
        "        return x\n",
        "\n",
        "net = Net(8, 100, 1)\n",
        "net.train()"
      ],
      "metadata": {
        "colab": {
          "base_uri": "https://localhost:8080/"
        },
        "id": "uC4EsI4VjD8r",
        "outputId": "83efe22f-11fb-40af-e599-91db00b4dbc2"
      },
      "execution_count": 153,
      "outputs": [
        {
          "output_type": "execute_result",
          "data": {
            "text/plain": [
              "Net(\n",
              "  (fc1): Linear(in_features=8, out_features=400, bias=True)\n",
              "  (fc2): Linear(in_features=400, out_features=200, bias=True)\n",
              "  (fc3): Linear(in_features=200, out_features=100, bias=True)\n",
              "  (fc4): Linear(in_features=100, out_features=1, bias=True)\n",
              ")"
            ]
          },
          "metadata": {},
          "execution_count": 153
        }
      ]
    },
    {
      "cell_type": "markdown",
      "source": [
        " Т.к. имеем дело с регрессией, в качестве функции ошибки используем MSE\n",
        "\n",
        " В качестве оптимизатора воспользуемся Adam"
      ],
      "metadata": {
        "id": "sj_UhNY9XY-k"
      }
    },
    {
      "cell_type": "code",
      "source": [
        "from torch import optim\n",
        "\n",
        "criterion = nn.MSELoss()\n",
        "optimizer = optim.Adam(net.parameters(), lr=0.01)"
      ],
      "metadata": {
        "id": "Clvk2kNkjD9i"
      },
      "execution_count": 154,
      "outputs": []
    },
    {
      "cell_type": "code",
      "source": [
        "num_epochs = 10\n",
        "\n",
        "for epoch in range(num_epochs):  \n",
        "    running_loss, running_items, running_right = 0.0, 0.0, 0.0\n",
        "    for i, data in enumerate(train_loader):\n",
        "        inputs, labels = data[0], data[1]\n",
        "        labels = labels.view(labels.shape[0], 1)\n",
        "\n",
        "        # обнуляем градиент\n",
        "        optimizer.zero_grad()\n",
        "\n",
        "        outputs = net(inputs)\n",
        "        #print(outputs)\n",
        "        loss = criterion(outputs, labels).float()\n",
        "        loss.backward()\n",
        "        optimizer.step()\n",
        "\n",
        "        # выводим статистику о процессе обучения\n",
        "        if i % 150 == 0:    # печатаем каждые 300 mini-batches\n",
        "            net.eval()\n",
        "            \n",
        "            print(f'Epoch [{epoch + 1}/{num_epochs}]. ' \\\n",
        "                  f'Train MSE: {loss.item():.4f}. ' \\\n",
        "                 )\n",
        "\n",
        "            for i, test_data in enumerate(test_loader):\n",
        "                test_inputs, test_labels = test_data[0], test_data[1]\n",
        "                test_labels = test_labels.view(test_labels.shape[0], 1)\n",
        "                test_outputs = net(test_data[0])\n",
        "                #считаем и выводим тестовый лосс\n",
        "                test_loss = criterion(test_outputs, test_labels).float()\n",
        "            \n",
        "            print(f'Test MSE: {test_loss.item():.3f}')\n",
        "            net.train()"
      ],
      "metadata": {
        "colab": {
          "base_uri": "https://localhost:8080/"
        },
        "id": "Yiz_oQcZjD__",
        "outputId": "e84ea0d5-0b28-436b-b42d-a89a3e8cc1c3"
      },
      "execution_count": 155,
      "outputs": [
        {
          "output_type": "stream",
          "name": "stdout",
          "text": [
            "Epoch [1/10]. Train MSE: 6.2104. \n",
            "Test MSE: 1.800\n",
            "Epoch [1/10]. Train MSE: 0.7148. \n",
            "Test MSE: 0.695\n",
            "Epoch [2/10]. Train MSE: 0.4072. \n",
            "Test MSE: 0.252\n",
            "Epoch [2/10]. Train MSE: 0.7834. \n",
            "Test MSE: 0.519\n",
            "Epoch [3/10]. Train MSE: 0.3995. \n",
            "Test MSE: 0.305\n",
            "Epoch [3/10]. Train MSE: 0.6140. \n",
            "Test MSE: 0.235\n",
            "Epoch [4/10]. Train MSE: 0.5681. \n",
            "Test MSE: 0.379\n",
            "Epoch [4/10]. Train MSE: 0.4321. \n",
            "Test MSE: 0.245\n",
            "Epoch [5/10]. Train MSE: 0.4684. \n",
            "Test MSE: 0.224\n",
            "Epoch [5/10]. Train MSE: 0.3959. \n",
            "Test MSE: 0.315\n",
            "Epoch [6/10]. Train MSE: 0.4822. \n",
            "Test MSE: 0.333\n",
            "Epoch [6/10]. Train MSE: 0.2932. \n",
            "Test MSE: 0.228\n",
            "Epoch [7/10]. Train MSE: 0.4009. \n",
            "Test MSE: 0.212\n",
            "Epoch [7/10]. Train MSE: 0.2744. \n",
            "Test MSE: 0.204\n",
            "Epoch [8/10]. Train MSE: 0.4254. \n",
            "Test MSE: 0.237\n",
            "Epoch [8/10]. Train MSE: 0.2744. \n",
            "Test MSE: 0.229\n",
            "Epoch [9/10]. Train MSE: 0.5121. \n",
            "Test MSE: 0.202\n",
            "Epoch [9/10]. Train MSE: 0.3046. \n",
            "Test MSE: 0.248\n",
            "Epoch [10/10]. Train MSE: 0.2434. \n",
            "Test MSE: 0.191\n",
            "Epoch [10/10]. Train MSE: 0.2470. \n",
            "Test MSE: 0.238\n"
          ]
        }
      ]
    },
    {
      "cell_type": "markdown",
      "source": [
        "Оценим средний RMSE на всем тестовом датасете"
      ],
      "metadata": {
        "id": "1fzBI4N2ZK9N"
      }
    },
    {
      "cell_type": "code",
      "source": [
        "net.eval()\n",
        "cumul_loss = 0\n",
        "batches_calc = 0\n",
        "for i, test_data in enumerate(test_loader):\n",
        "    test_inputs, test_labels = test_data[0], test_data[1]\n",
        "    test_labels = test_labels.view(test_labels.shape[0], 1)\n",
        "    test_outputs = net(test_data[0])\n",
        "    test_loss = criterion(test_outputs, test_labels).float()\n",
        "    test_loss = test_loss.detach().numpy()\n",
        "    test_loss = np.sqrt(test_loss)\n",
        "    cumul_loss += test_loss\n",
        "    batches_calc +=1\n",
        "  \n",
        "print(f'AV TEST RMSE : {cumul_loss/batches_calc}')"
      ],
      "metadata": {
        "colab": {
          "base_uri": "https://localhost:8080/"
        },
        "id": "X2HZhtUijECs",
        "outputId": "b0821c3c-5d95-4e38-9b3c-9b7e745d0b75"
      },
      "execution_count": 156,
      "outputs": [
        {
          "output_type": "stream",
          "name": "stdout",
          "text": [
            "AV TEST RMSE : 0.5898129984736442\n"
          ]
        }
      ]
    },
    {
      "cell_type": "markdown",
      "source": [
        "Добавим в нейронную сеть слои BatchNorm и Dropout"
      ],
      "metadata": {
        "id": "-clhqwZaZV8U"
      }
    },
    {
      "cell_type": "code",
      "source": [
        "from torch import nn\n",
        "import torch.nn.functional as F\n",
        "\n",
        "\n",
        "class Net(nn.Module):\n",
        "    def __init__(self, input_dim, hidden_dim, output_dim):\n",
        "        super().__init__()\n",
        "        self.fc1 = nn.Linear(input_dim, 4 * hidden_dim)\n",
        "        self.fc2 = nn.Linear(4 * hidden_dim,  2 * hidden_dim)\n",
        "        self.fc3 = nn.Linear(2 * hidden_dim, hidden_dim)\n",
        "        self.fc4 = nn.Linear(hidden_dim, output_dim)\n",
        "        self.bn1 = nn.BatchNorm1d(4 * hidden_dim)\n",
        "        self.bn2 = nn.BatchNorm1d(2 * hidden_dim)\n",
        "        self.bn3 = nn.BatchNorm1d(hidden_dim)\n",
        "        self.dp = nn.Dropout(0.25)\n",
        "\n",
        "    def forward(self, x):\n",
        "        x = self.fc1(x)\n",
        "        x = F.leaky_relu(x)\n",
        "        x = self.dp(x)\n",
        "        x = self.bn1(x)\n",
        "        x = self.fc2(x)\n",
        "        x = F.leaky_relu(x)\n",
        "        x = self.dp(x)\n",
        "        x = self.bn2(x)\n",
        "        x = self.fc3(x)\n",
        "        x = F.leaky_relu(x)\n",
        "        x = self.dp(x)\n",
        "        x = self.bn3(x)\n",
        "        x = self.fc4(x)\n",
        "        return x\n",
        "\n",
        "net = Net(8, 100, 1)\n",
        "net.train()"
      ],
      "metadata": {
        "colab": {
          "base_uri": "https://localhost:8080/"
        },
        "id": "RjiFpnyxNwtB",
        "outputId": "4b872d64-ab1e-4a1d-e7a1-cd3155285f39"
      },
      "execution_count": 157,
      "outputs": [
        {
          "output_type": "execute_result",
          "data": {
            "text/plain": [
              "Net(\n",
              "  (fc1): Linear(in_features=8, out_features=400, bias=True)\n",
              "  (fc2): Linear(in_features=400, out_features=200, bias=True)\n",
              "  (fc3): Linear(in_features=200, out_features=100, bias=True)\n",
              "  (fc4): Linear(in_features=100, out_features=1, bias=True)\n",
              "  (bn1): BatchNorm1d(400, eps=1e-05, momentum=0.1, affine=True, track_running_stats=True)\n",
              "  (bn2): BatchNorm1d(200, eps=1e-05, momentum=0.1, affine=True, track_running_stats=True)\n",
              "  (bn3): BatchNorm1d(100, eps=1e-05, momentum=0.1, affine=True, track_running_stats=True)\n",
              "  (dp): Dropout(p=0.25, inplace=False)\n",
              ")"
            ]
          },
          "metadata": {},
          "execution_count": 157
        }
      ]
    },
    {
      "cell_type": "markdown",
      "source": [
        "Все остальные параметры оставим, как в сети выше"
      ],
      "metadata": {
        "id": "ygoNXsIOZgn7"
      }
    },
    {
      "cell_type": "code",
      "source": [
        "criterion = nn.MSELoss()\n",
        "optimizer = optim.Adam(net.parameters(), lr=0.01)"
      ],
      "metadata": {
        "id": "4CydHYSxTyU6"
      },
      "execution_count": 158,
      "outputs": []
    },
    {
      "cell_type": "code",
      "source": [
        "num_epochs = 10\n",
        "\n",
        "for epoch in range(num_epochs):  \n",
        "    running_loss, running_items, running_right = 0.0, 0.0, 0.0\n",
        "    for i, data in enumerate(train_loader):\n",
        "        inputs, labels = data[0], data[1]\n",
        "        labels = labels.view(labels.shape[0], 1)\n",
        "\n",
        "        # обнуляем градиент\n",
        "        optimizer.zero_grad()\n",
        "\n",
        "        outputs = net(inputs)\n",
        "        #print(outputs)\n",
        "        loss = criterion(outputs, labels).float()\n",
        "        loss.backward()\n",
        "        optimizer.step()\n",
        "\n",
        "        # выводим статистику о процессе обучения\n",
        "        if i % 150 == 0:    # печатаем каждые 300 mini-batches\n",
        "            net.eval()\n",
        "            \n",
        "            print(f'Epoch [{epoch + 1}/{num_epochs}]. ' \\\n",
        "                  f'Train MSE: {loss.item():.4f}. ' \\\n",
        "                 )\n",
        "\n",
        "            for i, test_data in enumerate(test_loader):\n",
        "                test_inputs, test_labels = test_data[0], test_data[1]\n",
        "                test_labels = test_labels.view(test_labels.shape[0], 1)\n",
        "                test_outputs = net(test_data[0])\n",
        "                #считаем и выводим тестовый лосс\n",
        "                test_loss = criterion(test_outputs, test_labels).float()\n",
        "            \n",
        "            print(f'Test MSE: {test_loss.item():.3f}')\n",
        "            net.train()"
      ],
      "metadata": {
        "colab": {
          "base_uri": "https://localhost:8080/"
        },
        "id": "-_VuCWHdNwvj",
        "outputId": "94faef71-dd17-41fc-8c64-316152a8c395"
      },
      "execution_count": 159,
      "outputs": [
        {
          "output_type": "stream",
          "name": "stdout",
          "text": [
            "Epoch [1/10]. Train MSE: 6.7932. \n",
            "Test MSE: 3.572\n",
            "Epoch [1/10]. Train MSE: 0.8646. \n",
            "Test MSE: 0.402\n",
            "Epoch [2/10]. Train MSE: 0.6021. \n",
            "Test MSE: 0.398\n",
            "Epoch [2/10]. Train MSE: 0.9352. \n",
            "Test MSE: 0.261\n",
            "Epoch [3/10]. Train MSE: 0.5630. \n",
            "Test MSE: 0.221\n",
            "Epoch [3/10]. Train MSE: 0.3603. \n",
            "Test MSE: 0.322\n",
            "Epoch [4/10]. Train MSE: 0.4887. \n",
            "Test MSE: 0.257\n",
            "Epoch [4/10]. Train MSE: 0.8701. \n",
            "Test MSE: 0.263\n",
            "Epoch [5/10]. Train MSE: 0.6056. \n",
            "Test MSE: 0.570\n",
            "Epoch [5/10]. Train MSE: 0.9756. \n",
            "Test MSE: 0.250\n",
            "Epoch [6/10]. Train MSE: 0.4365. \n",
            "Test MSE: 0.245\n",
            "Epoch [6/10]. Train MSE: 0.5159. \n",
            "Test MSE: 0.277\n",
            "Epoch [7/10]. Train MSE: 0.5191. \n",
            "Test MSE: 0.208\n",
            "Epoch [7/10]. Train MSE: 0.5535. \n",
            "Test MSE: 0.233\n",
            "Epoch [8/10]. Train MSE: 0.4249. \n",
            "Test MSE: 0.226\n",
            "Epoch [8/10]. Train MSE: 0.4693. \n",
            "Test MSE: 0.376\n",
            "Epoch [9/10]. Train MSE: 0.3519. \n",
            "Test MSE: 0.253\n",
            "Epoch [9/10]. Train MSE: 0.3180. \n",
            "Test MSE: 0.205\n",
            "Epoch [10/10]. Train MSE: 0.3074. \n",
            "Test MSE: 0.261\n",
            "Epoch [10/10]. Train MSE: 0.4315. \n",
            "Test MSE: 0.224\n"
          ]
        }
      ]
    },
    {
      "cell_type": "markdown",
      "source": [
        "Оценим средний RMSE на тестовом датасете"
      ],
      "metadata": {
        "id": "APy3iYR7Zt0d"
      }
    },
    {
      "cell_type": "code",
      "source": [
        "net.eval()\n",
        "cumul_loss = 0\n",
        "batches_calc = 0\n",
        "for i, test_data in enumerate(test_loader):\n",
        "    test_inputs, test_labels = test_data[0], test_data[1]\n",
        "    test_labels = test_labels.view(test_labels.shape[0], 1)\n",
        "    test_outputs = net(test_data[0])\n",
        "    test_loss = criterion(test_outputs, test_labels).float()\n",
        "    test_loss = test_loss.detach().numpy()\n",
        "    test_loss = np.sqrt(test_loss)\n",
        "    cumul_loss += test_loss\n",
        "    batches_calc +=1\n",
        "  \n",
        "print(f'AV TEST RMSE : {cumul_loss/batches_calc}')"
      ],
      "metadata": {
        "colab": {
          "base_uri": "https://localhost:8080/"
        },
        "id": "yEAC2_pWNwyr",
        "outputId": "f42e56d3-86e6-4081-80ca-0900e21a10d0"
      },
      "execution_count": 160,
      "outputs": [
        {
          "output_type": "stream",
          "name": "stdout",
          "text": [
            "AV TEST RMSE : 0.6281284101480662\n"
          ]
        }
      ]
    },
    {
      "cell_type": "markdown",
      "source": [
        "Судя по данному примеру для этой задаче добавление BatchNorm и Dropout ухудшило качество модели. По факту переобучения не было и без этих слоев, поэтому их применение в принципе было не нужно здесь."
      ],
      "metadata": {
        "id": "NrHwsmQuZyUO"
      }
    },
    {
      "cell_type": "markdown",
      "source": [
        "Теперь попробуем менять оптимизаторы"
      ],
      "metadata": {
        "id": "ff57ZrqWaG03"
      }
    },
    {
      "cell_type": "code",
      "source": [
        "from torch import nn\n",
        "import torch.nn.functional as F\n",
        "\n",
        "\n",
        "class Net(nn.Module):\n",
        "    def __init__(self, input_dim, hidden_dim, output_dim):\n",
        "        super().__init__()\n",
        "        self.fc1 = nn.Linear(input_dim, 4 * hidden_dim)\n",
        "        self.fc2 = nn.Linear(4 * hidden_dim,  2 * hidden_dim)\n",
        "        self.fc3 = nn.Linear(2 * hidden_dim, hidden_dim)\n",
        "        self.fc4 = nn.Linear(hidden_dim, output_dim)\n",
        "        self.bn1 = nn.BatchNorm1d(4 * hidden_dim)\n",
        "        self.bn2 = nn.BatchNorm1d(2 * hidden_dim)\n",
        "        self.bn3 = nn.BatchNorm1d(hidden_dim)\n",
        "        self.dp = nn.Dropout(0.25)\n",
        "\n",
        "    def forward(self, x):\n",
        "        x = self.fc1(x)\n",
        "        x = F.leaky_relu(x)\n",
        "        x = self.dp(x)\n",
        "        x = self.bn1(x)\n",
        "        x = self.fc2(x)\n",
        "        x = F.leaky_relu(x)\n",
        "        x = self.dp(x)\n",
        "        x = self.bn2(x)\n",
        "        x = self.fc3(x)\n",
        "        x = F.leaky_relu(x)\n",
        "        x = self.dp(x)\n",
        "        x = self.bn3(x)\n",
        "        x = self.fc4(x)\n",
        "        return x\n",
        "\n",
        "net = Net(8, 100, 1)\n",
        "net.train()"
      ],
      "metadata": {
        "colab": {
          "base_uri": "https://localhost:8080/"
        },
        "id": "Zjr2FTvaU32b",
        "outputId": "8ec1b67c-6d11-491f-a25d-32f1bceaf9ed"
      },
      "execution_count": 161,
      "outputs": [
        {
          "output_type": "execute_result",
          "data": {
            "text/plain": [
              "Net(\n",
              "  (fc1): Linear(in_features=8, out_features=400, bias=True)\n",
              "  (fc2): Linear(in_features=400, out_features=200, bias=True)\n",
              "  (fc3): Linear(in_features=200, out_features=100, bias=True)\n",
              "  (fc4): Linear(in_features=100, out_features=1, bias=True)\n",
              "  (bn1): BatchNorm1d(400, eps=1e-05, momentum=0.1, affine=True, track_running_stats=True)\n",
              "  (bn2): BatchNorm1d(200, eps=1e-05, momentum=0.1, affine=True, track_running_stats=True)\n",
              "  (bn3): BatchNorm1d(100, eps=1e-05, momentum=0.1, affine=True, track_running_stats=True)\n",
              "  (dp): Dropout(p=0.25, inplace=False)\n",
              ")"
            ]
          },
          "metadata": {},
          "execution_count": 161
        }
      ]
    },
    {
      "cell_type": "markdown",
      "source": [
        "В качестве оптимизатора воспользуемся SGD с momentum = 0.9"
      ],
      "metadata": {
        "id": "KMKQ-TzBaMlM"
      }
    },
    {
      "cell_type": "code",
      "source": [
        "criterion = nn.MSELoss()\n",
        "optimizer = optim.SGD(net.parameters(), lr=0.01, momentum=0.9)"
      ],
      "metadata": {
        "id": "09cZkgObU342"
      },
      "execution_count": 162,
      "outputs": []
    },
    {
      "cell_type": "code",
      "source": [
        "num_epochs = 10\n",
        "\n",
        "for epoch in range(num_epochs):  \n",
        "    running_loss, running_items, running_right = 0.0, 0.0, 0.0\n",
        "    for i, data in enumerate(train_loader):\n",
        "        inputs, labels = data[0], data[1]\n",
        "        labels = labels.view(labels.shape[0], 1)\n",
        "\n",
        "        # обнуляем градиент\n",
        "        optimizer.zero_grad()\n",
        "\n",
        "        outputs = net(inputs)\n",
        "        #print(outputs)\n",
        "        loss = criterion(outputs, labels).float()\n",
        "        loss.backward()\n",
        "        optimizer.step()\n",
        "\n",
        "        # выводим статистику о процессе обучения\n",
        "        if i % 150 == 0:    # печатаем каждые 300 mini-batches\n",
        "            net.eval()\n",
        "            \n",
        "            print(f'Epoch [{epoch + 1}/{num_epochs}]. ' \\\n",
        "                  f'Train MSE: {loss.item():.4f}. ' \\\n",
        "                 )\n",
        "\n",
        "            for i, test_data in enumerate(test_loader):\n",
        "                test_inputs, test_labels = test_data[0], test_data[1]\n",
        "                test_labels = test_labels.view(test_labels.shape[0], 1)\n",
        "                test_outputs = net(test_data[0])\n",
        "                #считаем и выводим тестовый лосс\n",
        "                test_loss = criterion(test_outputs, test_labels).float()\n",
        "            \n",
        "            print(f'Test MSE: {test_loss.item():.3f}')\n",
        "            net.train()"
      ],
      "metadata": {
        "colab": {
          "base_uri": "https://localhost:8080/"
        },
        "id": "aGxfp-K2U37j",
        "outputId": "40c739ed-418b-4589-85b3-d94ef5784ba1"
      },
      "execution_count": 163,
      "outputs": [
        {
          "output_type": "stream",
          "name": "stdout",
          "text": [
            "Epoch [1/10]. Train MSE: 5.9006. \n",
            "Test MSE: 3.063\n",
            "Epoch [1/10]. Train MSE: 0.3644. \n",
            "Test MSE: 0.355\n",
            "Epoch [2/10]. Train MSE: 0.7125. \n",
            "Test MSE: 0.339\n",
            "Epoch [2/10]. Train MSE: 0.6847. \n",
            "Test MSE: 0.480\n",
            "Epoch [3/10]. Train MSE: 1.0898. \n",
            "Test MSE: 0.263\n",
            "Epoch [3/10]. Train MSE: 0.7159. \n",
            "Test MSE: 0.282\n",
            "Epoch [4/10]. Train MSE: 0.8529. \n",
            "Test MSE: 0.210\n",
            "Epoch [4/10]. Train MSE: 0.3539. \n",
            "Test MSE: 0.256\n",
            "Epoch [5/10]. Train MSE: 0.7043. \n",
            "Test MSE: 0.303\n",
            "Epoch [5/10]. Train MSE: 0.5239. \n",
            "Test MSE: 0.559\n",
            "Epoch [6/10]. Train MSE: 0.5431. \n",
            "Test MSE: 0.293\n",
            "Epoch [6/10]. Train MSE: 0.7900. \n",
            "Test MSE: 0.253\n",
            "Epoch [7/10]. Train MSE: 0.6798. \n",
            "Test MSE: 0.198\n",
            "Epoch [7/10]. Train MSE: 0.4829. \n",
            "Test MSE: 0.407\n",
            "Epoch [8/10]. Train MSE: 0.5798. \n",
            "Test MSE: 0.290\n",
            "Epoch [8/10]. Train MSE: 0.5570. \n",
            "Test MSE: 0.401\n",
            "Epoch [9/10]. Train MSE: 0.3970. \n",
            "Test MSE: 0.262\n",
            "Epoch [9/10]. Train MSE: 0.6185. \n",
            "Test MSE: 0.390\n",
            "Epoch [10/10]. Train MSE: 0.7627. \n",
            "Test MSE: 0.318\n",
            "Epoch [10/10]. Train MSE: 0.5570. \n",
            "Test MSE: 0.363\n"
          ]
        }
      ]
    },
    {
      "cell_type": "markdown",
      "source": [
        "Оценим средний RMSE на тестовом датасете"
      ],
      "metadata": {
        "id": "d6ssviYIagPp"
      }
    },
    {
      "cell_type": "code",
      "source": [
        "net.eval()\n",
        "cumul_loss = 0\n",
        "batches_calc = 0\n",
        "for i, test_data in enumerate(test_loader):\n",
        "    test_inputs, test_labels = test_data[0], test_data[1]\n",
        "    test_labels = test_labels.view(test_labels.shape[0], 1)\n",
        "    test_outputs = net(test_data[0])\n",
        "    test_loss = criterion(test_outputs, test_labels).float()\n",
        "    test_loss = test_loss.detach().numpy()\n",
        "    test_loss = np.sqrt(test_loss)\n",
        "    cumul_loss += test_loss\n",
        "    batches_calc +=1\n",
        "  \n",
        "print(f'AV TEST RMSE : {cumul_loss/batches_calc}')"
      ],
      "metadata": {
        "colab": {
          "base_uri": "https://localhost:8080/"
        },
        "id": "MoBBiaqTU390",
        "outputId": "15c6efdd-4c65-4996-8892-ac45a2c0e82d"
      },
      "execution_count": 164,
      "outputs": [
        {
          "output_type": "stream",
          "name": "stdout",
          "text": [
            "AV TEST RMSE : 0.6364794627871624\n"
          ]
        }
      ]
    },
    {
      "cell_type": "markdown",
      "source": [
        "В данном случае SGD отработал чуть-чуть хуже Adam"
      ],
      "metadata": {
        "id": "D6_sByNpamfh"
      }
    },
    {
      "cell_type": "markdown",
      "source": [
        "Построим еще одну сеть с оптимизатором RMSProp"
      ],
      "metadata": {
        "id": "h2Z17lCHayKy"
      }
    },
    {
      "cell_type": "code",
      "source": [
        "from torch import nn\n",
        "import torch.nn.functional as F\n",
        "\n",
        "\n",
        "class Net(nn.Module):\n",
        "    def __init__(self, input_dim, hidden_dim, output_dim):\n",
        "        super().__init__()\n",
        "        self.fc1 = nn.Linear(input_dim, 4 * hidden_dim)\n",
        "        self.fc2 = nn.Linear(4 * hidden_dim,  2 * hidden_dim)\n",
        "        self.fc3 = nn.Linear(2 * hidden_dim, hidden_dim)\n",
        "        self.fc4 = nn.Linear(hidden_dim, output_dim)\n",
        "        self.bn1 = nn.BatchNorm1d(4 * hidden_dim)\n",
        "        self.bn2 = nn.BatchNorm1d(2 * hidden_dim)\n",
        "        self.bn3 = nn.BatchNorm1d(hidden_dim)\n",
        "        self.dp = nn.Dropout(0.25)\n",
        "\n",
        "    def forward(self, x):\n",
        "        x = self.fc1(x)\n",
        "        x = F.leaky_relu(x)\n",
        "        x = self.dp(x)\n",
        "        x = self.bn1(x)\n",
        "        x = self.fc2(x)\n",
        "        x = F.leaky_relu(x)\n",
        "        x = self.dp(x)\n",
        "        x = self.bn2(x)\n",
        "        x = self.fc3(x)\n",
        "        x = F.leaky_relu(x)\n",
        "        x = self.dp(x)\n",
        "        x = self.bn3(x)\n",
        "        x = self.fc4(x)\n",
        "        return x\n",
        "\n",
        "net = Net(8, 100, 1)\n",
        "net.train()"
      ],
      "metadata": {
        "colab": {
          "base_uri": "https://localhost:8080/"
        },
        "id": "4DKyGzbeVSc0",
        "outputId": "a4a120f8-4b3c-4ef8-b002-b132e817eade"
      },
      "execution_count": 165,
      "outputs": [
        {
          "output_type": "execute_result",
          "data": {
            "text/plain": [
              "Net(\n",
              "  (fc1): Linear(in_features=8, out_features=400, bias=True)\n",
              "  (fc2): Linear(in_features=400, out_features=200, bias=True)\n",
              "  (fc3): Linear(in_features=200, out_features=100, bias=True)\n",
              "  (fc4): Linear(in_features=100, out_features=1, bias=True)\n",
              "  (bn1): BatchNorm1d(400, eps=1e-05, momentum=0.1, affine=True, track_running_stats=True)\n",
              "  (bn2): BatchNorm1d(200, eps=1e-05, momentum=0.1, affine=True, track_running_stats=True)\n",
              "  (bn3): BatchNorm1d(100, eps=1e-05, momentum=0.1, affine=True, track_running_stats=True)\n",
              "  (dp): Dropout(p=0.25, inplace=False)\n",
              ")"
            ]
          },
          "metadata": {},
          "execution_count": 165
        }
      ]
    },
    {
      "cell_type": "code",
      "source": [
        "criterion = nn.MSELoss()\n",
        "optimizer = optim.RMSprop(net.parameters(), lr=0.01)"
      ],
      "metadata": {
        "id": "-kRONyDhVSgc"
      },
      "execution_count": 166,
      "outputs": []
    },
    {
      "cell_type": "code",
      "source": [
        "num_epochs = 10\n",
        "\n",
        "for epoch in range(num_epochs):  \n",
        "    running_loss, running_items, running_right = 0.0, 0.0, 0.0\n",
        "    for i, data in enumerate(train_loader):\n",
        "        inputs, labels = data[0], data[1]\n",
        "        labels = labels.view(labels.shape[0], 1)\n",
        "\n",
        "        # обнуляем градиент\n",
        "        optimizer.zero_grad()\n",
        "\n",
        "        outputs = net(inputs)\n",
        "        #print(outputs)\n",
        "        loss = criterion(outputs, labels).float()\n",
        "        loss.backward()\n",
        "        optimizer.step()\n",
        "\n",
        "        # выводим статистику о процессе обучения\n",
        "        if i % 150 == 0:    # печатаем каждые 300 mini-batches\n",
        "            net.eval()\n",
        "            \n",
        "            print(f'Epoch [{epoch + 1}/{num_epochs}]. ' \\\n",
        "                  f'Train MSE: {loss.item():.4f}. ' \\\n",
        "                 )\n",
        "\n",
        "            for i, test_data in enumerate(test_loader):\n",
        "                test_inputs, test_labels = test_data[0], test_data[1]\n",
        "                test_labels = test_labels.view(test_labels.shape[0], 1)\n",
        "                test_outputs = net(test_data[0])\n",
        "                #считаем и выводим тестовый лосс\n",
        "                test_loss = criterion(test_outputs, test_labels).float()\n",
        "            \n",
        "            print(f'Test MSE: {test_loss.item():.3f}')\n",
        "            net.train()"
      ],
      "metadata": {
        "colab": {
          "base_uri": "https://localhost:8080/"
        },
        "id": "Ts80JTbkU4AU",
        "outputId": "4661db76-7833-44b9-c563-fb5accff1d17"
      },
      "execution_count": 167,
      "outputs": [
        {
          "output_type": "stream",
          "name": "stdout",
          "text": [
            "Epoch [1/10]. Train MSE: 5.2337. \n",
            "Test MSE: 0.905\n",
            "Epoch [1/10]. Train MSE: 0.9475. \n",
            "Test MSE: 0.248\n",
            "Epoch [2/10]. Train MSE: 0.8529. \n",
            "Test MSE: 0.421\n",
            "Epoch [2/10]. Train MSE: 0.5545. \n",
            "Test MSE: 0.405\n",
            "Epoch [3/10]. Train MSE: 0.4534. \n",
            "Test MSE: 0.297\n",
            "Epoch [3/10]. Train MSE: 0.6490. \n",
            "Test MSE: 0.243\n",
            "Epoch [4/10]. Train MSE: 0.6857. \n",
            "Test MSE: 0.314\n",
            "Epoch [4/10]. Train MSE: 0.2769. \n",
            "Test MSE: 0.259\n",
            "Epoch [5/10]. Train MSE: 0.4475. \n",
            "Test MSE: 0.305\n",
            "Epoch [5/10]. Train MSE: 0.4688. \n",
            "Test MSE: 0.276\n",
            "Epoch [6/10]. Train MSE: 0.7133. \n",
            "Test MSE: 0.331\n",
            "Epoch [6/10]. Train MSE: 0.3413. \n",
            "Test MSE: 0.247\n",
            "Epoch [7/10]. Train MSE: 0.6592. \n",
            "Test MSE: 0.343\n",
            "Epoch [7/10]. Train MSE: 0.5261. \n",
            "Test MSE: 0.313\n",
            "Epoch [8/10]. Train MSE: 0.4471. \n",
            "Test MSE: 0.467\n",
            "Epoch [8/10]. Train MSE: 0.4210. \n",
            "Test MSE: 0.267\n",
            "Epoch [9/10]. Train MSE: 0.3966. \n",
            "Test MSE: 0.256\n",
            "Epoch [9/10]. Train MSE: 0.5526. \n",
            "Test MSE: 0.300\n",
            "Epoch [10/10]. Train MSE: 0.3301. \n",
            "Test MSE: 0.245\n",
            "Epoch [10/10]. Train MSE: 0.9319. \n",
            "Test MSE: 0.297\n"
          ]
        }
      ]
    },
    {
      "cell_type": "markdown",
      "source": [
        "Оценим средний RMSE на тестовом датасете"
      ],
      "metadata": {
        "id": "CAXPoB82bEnT"
      }
    },
    {
      "cell_type": "code",
      "source": [
        "net.eval()\n",
        "cumul_loss = 0\n",
        "batches_calc = 0\n",
        "for i, test_data in enumerate(test_loader):\n",
        "    test_inputs, test_labels = test_data[0], test_data[1]\n",
        "    test_labels = test_labels.view(test_labels.shape[0], 1)\n",
        "    test_outputs = net(test_data[0])\n",
        "    test_loss = criterion(test_outputs, test_labels).float()\n",
        "    test_loss = test_loss.detach().numpy()\n",
        "    test_loss = np.sqrt(test_loss)\n",
        "    cumul_loss += test_loss\n",
        "    batches_calc +=1\n",
        "  \n",
        "print(f'AV TEST RMSE : {cumul_loss/batches_calc}')"
      ],
      "metadata": {
        "colab": {
          "base_uri": "https://localhost:8080/"
        },
        "id": "31r1DSxGVpwn",
        "outputId": "5086b82d-4885-4e5a-aaf7-2402df5a35cc"
      },
      "execution_count": 168,
      "outputs": [
        {
          "output_type": "stream",
          "name": "stdout",
          "text": [
            "AV TEST RMSE : 0.7672419993914374\n"
          ]
        }
      ]
    },
    {
      "cell_type": "markdown",
      "source": [
        "В данном примере RMSProp отработал хуже других"
      ],
      "metadata": {
        "id": "5gjUY1bWbH7d"
      }
    }
  ]
}